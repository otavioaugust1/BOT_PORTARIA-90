{
 "cells": [
  {
   "cell_type": "code",
   "execution_count": null,
   "metadata": {},
   "outputs": [],
   "source": [
    "#instalaçao das bibliotecas (opicional)\n",
    "#import pip\n",
    "#pip.main([\"install\",\"vscode-ipynb-py-convert\"])\n"
   ]
  },
  {
   "cell_type": "code",
   "execution_count": null,
   "metadata": {},
   "outputs": [],
   "source": [
    "#Pandas: Possui inúmeras funções e comandos para importar arquivos, analisar dados, tratar dados, etc.\n",
    "import pandas as pd # importando a biblioteca pandas\n",
    "\n",
    "#Numpy: Possui uma série de funções e comandos para trabalharmos com números de forma em geral(formatação, calculos, etc)\n",
    "import numpy as np # importando a biblioteca numpy\n",
    "\n",
    "#Time: Possui uma série de funções e comandos para trabalharmos com tempo\n",
    "import time # importando a biblioteca time\n",
    "\n",
    "#glob: Possui uma série de funções e comandos para trabalharmos com arquivos\n",
    "import glob # importando a biblioteca glob\n",
    "\n",
    "#os: Possui uma série de funções e comandos para trabalharmos com arquivos\n",
    "import os # importando a biblioteca os\n",
    "\n",
    "#XlsxWriter: Possui uma série de funções e comandos para trabalharmos com arquivos excel\n",
    "import xlsxwriter # importando a biblioteca xlsxwriter\n",
    "\n",
    "#Pyexcel: Possui uma série de funções e comandos para trabalharmos com arquivos excel\n",
    "import pyexcel as pe # importando a biblioteca pyexcel\n",
    "\n",
    "#Warnings: Possui detalhes sobre os avisos e alertas que aparecem, porém podemos utiliza-lo também para que os alertas de\n",
    "#futuras atualizações e metodos depreciados não sejam exibidos\n",
    "import warnings\n",
    "warnings.filterwarnings(\"ignore\") \n",
    "tempo_inicial = time.time() # tempo inicial para calcular o tempo de execução do código\n",
    "\n",
    "from glob import glob # Utilizado para listar arquivos de um diretório\n",
    "\n",
    "#Comando para exibir todas colunas do arquivo\n",
    "pd.set_option('display.max_columns', None)\n",
    "pd.set_option('display.max_rows', None)\n",
    "\n",
    "# Colorindo o texto\n",
    "class colors:\n",
    "    OK = '\\033[92m'\n",
    "    ERRO = '\\033[91m'\n",
    "    ALERTA = '\\033[43m'\n",
    "    NORMAL = '\\033[0m'"
   ]
  },
  {
   "attachments": {},
   "cell_type": "markdown",
   "metadata": {},
   "source": [
    "## Importação dos Dados do CNES "
   ]
  },
  {
   "cell_type": "code",
   "execution_count": null,
   "metadata": {},
   "outputs": [],
   "source": [
    "df_cnes_leitos = pd.read_csv('BASE\\.BASE_CNES_LEITOS.csv', sep=';', encoding='latin-1', dtype=str)\n",
    "df_cnes_leitos.head()"
   ]
  },
  {
   "cell_type": "code",
   "execution_count": null,
   "metadata": {},
   "outputs": [],
   "source": [
    "df_cnes_habilitacao = pd.read_csv('BASE\\.BASE_CNES_HABILITACAO.csv', sep=';', encoding='latin-1', dtype=str)\n",
    "df_cnes_habilitacao.head()"
   ]
  },
  {
   "cell_type": "code",
   "execution_count": null,
   "metadata": {},
   "outputs": [],
   "source": [
    "df_cnes_servicos = pd.read_csv('BASE\\.BASE_CNES_SERVICOS.csv', sep=';', encoding='latin-1', dtype=str)\n",
    "df_cnes_servicos.head()"
   ]
  },
  {
   "attachments": {},
   "cell_type": "markdown",
   "metadata": {},
   "source": [
    "## Importação dos Dados do SIGTAP"
   ]
  },
  {
   "cell_type": "code",
   "execution_count": null,
   "metadata": {},
   "outputs": [],
   "source": [
    "df_sigtap = pd.read_csv('BASE\\.BASE_SIGTAP_GERAL.csv', sep=';', encoding='latin-1', dtype=str)\n",
    "df_sigtap['COD_PROCEDIMENTO']= df_sigtap['COD_PROCEDIMENTO'].astype(int) # Converte a coluna 'COD_PROCEDIMENTO' para string\n",
    "df_sigtap['QT_PROD AIH 2018 a 2022']= df_sigtap['QT_PROD AIH 2018 a 2022'].astype(int) # Converte a coluna 'QT_PROD AIH 2018 a 2022' para string\n",
    "df_sigtap.head() # Exibe as 5 primeiras linhas do arquivo"
   ]
  },
  {
   "attachments": {},
   "cell_type": "markdown",
   "metadata": {},
   "source": [
    "## Importação TETO MAC"
   ]
  },
  {
   "cell_type": "code",
   "execution_count": null,
   "metadata": {},
   "outputs": [],
   "source": [
    "df_teto = pd.read_csv('BASE\\.BASE_TETO_MAC.csv', sep=';', encoding='latin-1', dtype=str)\n",
    "df_teto.head()"
   ]
  },
  {
   "attachments": {},
   "cell_type": "markdown",
   "metadata": {},
   "source": [
    "## Importação da PLANILHA  "
   ]
  },
  {
   "attachments": {},
   "cell_type": "markdown",
   "metadata": {},
   "source": [
    "### Analise e tratamento da PLANILHA ABA 1 "
   ]
  },
  {
   "cell_type": "code",
   "execution_count": null,
   "metadata": {},
   "outputs": [],
   "source": [
    "df_planilha = glob('PLANILHA\\*.xlsx')[0] # Planilha para ser validada"
   ]
  },
  {
   "cell_type": "code",
   "execution_count": null,
   "metadata": {},
   "outputs": [],
   "source": [
    "df_planilha_aba1 = pd.read_excel(df_planilha, sheet_name='Ident. Fila na UF') # Lê o arquivo excel\n",
    "df_planilha_aba1.head() # Exibe as 5 primeiras linhas do arquivo"
   ]
  },
  {
   "cell_type": "code",
   "execution_count": null,
   "metadata": {},
   "outputs": [],
   "source": [
    "df_planilha_aba1.rename(columns={'PLANO ESTADUAL DE REDUÇÃO DE FILAS DE ESPERA EM CIRURGIAS ELETIVAS - FILA DE ESPERA':'COD_PROCEDIMENTO','Unnamed: 1':'DESC_PROCEDIMENTO','Unnamed: 2':'QUANT_FILA', \n",
    "                                 'Unnamed: 3':'PERC_REDUCAO', 'Unnamed: 4':'TEMPO_MESES', 'Unnamed: 5':'QUANT_REDUCAO', 'Unnamed: 6':'LINHA'}, inplace=True) \n",
    "                                # Renomeia a coluna 'PLANO ESTADUAL DE REDUÇÃO DE FILAS DE ESPERA EM CIRURGIAS ELETIVAS - FILA DE ESPERA' para 'UF'\n",
    "df_planilha_aba1.drop(0, inplace=True) # Remove a primeira linha do arquivo\n",
    "df_planilha_aba1.drop(1, inplace=True) # Remove a segunda linha do arquivo\n",
    "df_planilha_aba1.drop(df_planilha_aba1.tail(1).index,inplace=True) # Removendo a última linha do arquivo\n",
    "df_planilha_aba1.dropna(subset=['COD_PROCEDIMENTO'], inplace=True) # Removendo linhas com valores nulos\n",
    "df_planilha_aba1.drop('Unnamed: 7', axis=1, inplace=True) # Removendo coluna 'Unnamed: 7'\n",
    "df_planilha_aba1['COD_PROCEDIMENTO'] = df_planilha_aba1['COD_PROCEDIMENTO'].astype(int) # Converte a coluna 'COD_PROCEDIMENTO' para string\n",
    "df_planilha_aba1['PERC_REDUCAO'] = df_planilha_aba1['PERC_REDUCAO'].astype(float) # Converte a coluna 'QUANT_FILA' para string\n",
    "df_planilha_aba1['QUANT_REDUCAO'] = df_planilha_aba1['QUANT_REDUCAO'].astype(int) # Converte a coluna 'QUANT_REDUCAO' para string\n",
    "df_planilha_aba1['QUANT_FILA'] = df_planilha_aba1['QUANT_FILA'].astype(int) # Converte a coluna 'QUANT_FILA' para string\n",
    "\n",
    "df_planilha_aba1.head() # Exibe as 5 primeiras linhas do arquivo"
   ]
  },
  {
   "attachments": {},
   "cell_type": "markdown",
   "metadata": {},
   "source": [
    "### Verificar procedimento duplicado"
   ]
  },
  {
   "cell_type": "code",
   "execution_count": null,
   "metadata": {},
   "outputs": [],
   "source": [
    "# Verifica se há valores duplicados na coluna \"COD_PROCEDIMENTO\"\n",
    "df_planilha_aba1['DUPLICADO'] = df_planilha_aba1['COD_PROCEDIMENTO'].duplicated(keep=False)\n",
    "\n",
    "# Cria uma nova coluna com as mensagens correspondentes\n",
    "df_planilha_aba1['M_DUPLICADO'] = np.where(df_planilha_aba1['DUPLICADO'], 'SIM', '-')\n",
    "df_planilha_aba1.drop('DUPLICADO', axis=1, inplace=True) # Remove a coluna 'DUPLICADO'\n",
    "# Exibe as 5 primeiras linhas do arquivo com a nova coluna\n",
    "df_planilha_aba1.head()"
   ]
  },
  {
   "attachments": {},
   "cell_type": "markdown",
   "metadata": {},
   "source": [
    "### Verificar se existe atendimento na Quantidade de Reduçao numero inferior a 1 procedimento. "
   ]
  },
  {
   "cell_type": "code",
   "execution_count": null,
   "metadata": {},
   "outputs": [],
   "source": [
    "# Adicionando nova coluna 'QUANT_ZERO' com a mensagem correspondente\n",
    "\n",
    "def mensagem(quant_zero):\n",
    "    if quant_zero ['QUANT_REDUCAO'] < 1 and quant_zero['PERC_REDUCAO'] > 0 :\n",
    "        return 'ERRO_QUANT'\n",
    "    else:\n",
    "        return '-'\n",
    "df_planilha_aba1['QUANT_ZERO'] = df_planilha_aba1.apply(mensagem, axis=1)\n",
    "\n",
    "# Exibindo as primeiras linhas do dataframe com a nova coluna\n",
    "df_planilha_aba1.head() \n"
   ]
  },
  {
   "attachments": {},
   "cell_type": "markdown",
   "metadata": {},
   "source": [
    "#### Procedimento requer habilitação"
   ]
  },
  {
   "cell_type": "code",
   "execution_count": null,
   "metadata": {},
   "outputs": [],
   "source": [
    "df_sigtap_h = df_sigtap[['COD_PROCEDIMENTO','EXIGE HABILITACAO','CO_HABILITACAO']] # Cria um novo dataframe com as colunas 'COD_PROCEDIMENTO','EXIGE HABILITACAO','CO_HABILITACAO'\n",
    "df_sigtap_h.drop_duplicates(subset='COD_PROCEDIMENTO', keep='first', inplace=True) # Remove os valores duplicados da coluna 'COD_PROCEDIMENTO'\n",
    "df_planilha_aba1['PROC_HABILITACAO'] = df_planilha_aba1['COD_PROCEDIMENTO'].map(df_sigtap_h.set_index('COD_PROCEDIMENTO')['EXIGE HABILITACAO']) # Adiciona uma nova coluna com a informação de habilitação do procedimento\n",
    "df_planilha_aba1.head() # Exibe as 5 primeiras linhas do arquivo"
   ]
  },
  {
   "attachments": {},
   "cell_type": "markdown",
   "metadata": {},
   "source": [
    "#### Procedimento requer serviço/class"
   ]
  },
  {
   "cell_type": "code",
   "execution_count": null,
   "metadata": {},
   "outputs": [],
   "source": [
    "df_sigtap_s = df_sigtap[['COD_PROCEDIMENTO','EXIGE SERVIÇO','CO_SERVICO','CO_CLASSIFICACAO']] # Cria um novo dataframe com as colunas 'COD_PROCEDIMENTO','EXIGE SERVICO','CO_SERVICO'\n",
    "df_sigtap_s.drop_duplicates(subset='COD_PROCEDIMENTO', keep='first', inplace=True) # Remove os valores duplicados da coluna 'COD_PROCEDIMENTO'\n",
    "df_planilha_aba1['PROC_SERVICO'] = df_planilha_aba1['COD_PROCEDIMENTO'].map(df_sigtap_s.set_index('COD_PROCEDIMENTO')['EXIGE SERVIÇO']) # Adiciona uma nova coluna com a informação de serviço do procedimento\n",
    "df_planilha_aba1.head() # Exibe as 5 primeiras linhas do arquivo"
   ]
  },
  {
   "attachments": {},
   "cell_type": "markdown",
   "metadata": {},
   "source": [
    "### Analise e tratamento da PLANILHA ABA 2"
   ]
  },
  {
   "cell_type": "code",
   "execution_count": null,
   "metadata": {},
   "outputs": [],
   "source": [
    "df_planilha_aba2 = pd.read_excel(df_planilha, sheet_name='Ident. CNES e Proced.', dtype=str) # Lê o arquivo excel\n",
    "df_planilha_aba2.head() # Exibe as 5 primeiras linhas do arquivo"
   ]
  },
  {
   "cell_type": "code",
   "execution_count": null,
   "metadata": {},
   "outputs": [],
   "source": [
    "# Tratamento dos dados da aba 'Ident. CNES e Proced.'\n",
    "df_planilha_aba2.rename(columns={'PLANO ESTADUAL DE REDUÇÃO DE FILAS DE ESPERA EM CIRURGIAS ELETIVAS - CNES':'CNES','Unnamed: 1':'ESTABELECIMENTO','Unnamed: 2':'COD_PROCEDIMENTO', \n",
    "                                 'Unnamed: 3':'DES_PROCEDIMENTO', 'Unnamed: 4':'COMPL_RECURSO_FEDERAL', 'Unnamed: 5':'GESTAO', 'Unnamed: 6':'COD_NATUREZA','Unnamed: 7':'NATUREZA',\n",
    "                                 'Unnamed: 8':'POSSUI_CONTRATO','Unnamed: 9':'IDENTIFICACAO','Unnamed: 10':'LINHA'}, inplace=True) \n",
    "                                # Renomeia a coluna 'PLANO ESTADUAL DE REDUÇÃO DE FILAS DE ESPERA EM CIRURGIAS ELETIVAS - FILA DE ESPERA' para 'UF'\n",
    "df_planilha_aba2.drop(0, inplace=True) # Remove a primeira linha do arquivo\n",
    "df_planilha_aba2.drop(1, inplace=True) # Remove a primeira linha do arquivo\n",
    "df_planilha_aba2.drop(df_planilha_aba2.tail(1).index,inplace=True) # Removendo a última linha do arquivo\n",
    "df_planilha_aba2.dropna(subset=['CNES'], inplace=True) # Removendo linhas com valores nulos\n",
    "df_planilha_aba2.drop('IDENTIFICACAO', axis=1, inplace=True) # Removendo coluna 'IDENTIFICACAO'\n",
    "df_planilha_aba2['COD_PROCEDIMENTO'] = df_planilha_aba2['COD_PROCEDIMENTO'].astype(int) # Converte a coluna 'COD_PROCEDIMENTO' para string\n",
    "df_cnes_habilitacao = df_cnes_habilitacao.rename(columns={\"CO_CNES\": \"CNES\"}) # Renomeia a coluna 'CO_CNES' para 'CNES'\n",
    "df_planilha_aba2 = df_planilha_aba2.merge(df_cnes_habilitacao[[\"CNES\", \"CO_MUNICIPIO_GESTOR\"]], on=\"CNES\", how=\"left\") # Adiciona a coluna 'CO_MUNICIPIO_GESTOR' ao dataframe\n",
    "\n",
    "df_planilha_aba2.head() # Exibe as 5 primeiras linhas do arquivo"
   ]
  },
  {
   "cell_type": "code",
   "execution_count": null,
   "metadata": {},
   "outputs": [],
   "source": [
    "df_planilha_aba2.info() "
   ]
  },
  {
   "attachments": {},
   "cell_type": "markdown",
   "metadata": {},
   "source": [
    "#### Verificar se o CNES esta ATIVO:"
   ]
  },
  {
   "cell_type": "code",
   "execution_count": null,
   "metadata": {},
   "outputs": [],
   "source": [
    "df_cnes_habilitacao['CNES'] = df_cnes_habilitacao['CNES'].astype(str) # Converte a coluna 'CNES' para string\n",
    "df_cnes_habilitacao2 = df_cnes_habilitacao.loc[df_cnes_habilitacao['CO_MOTIVO_DESAB'] > '0'] # Seleciona apenas os CNES habilitados\n",
    "df_planilha_aba2['CNES_ATIVO'] = np.where(df_planilha_aba2['CNES'].isin(df_cnes_habilitacao2['CNES']), 'NÃO', '-') # Adiciona a coluna 'CNES_ATIVO' ao dataframe\n",
    "df_planilha_aba2.head() # Exibe as 5 primeiras linhas do arquivo"
   ]
  },
  {
   "attachments": {},
   "cell_type": "markdown",
   "metadata": {},
   "source": [
    "#### Verificar se existe prestador sem procedimento informado em fila (relação ABA1 E ABA2)"
   ]
  },
  {
   "cell_type": "code",
   "execution_count": null,
   "metadata": {},
   "outputs": [],
   "source": [
    "# Idenfica se o procedimento informado na aba anterior está na aba atual\n",
    "df_planilha_aba2['PROC_INFORMADO'] = np.where(df_planilha_aba2['COD_PROCEDIMENTO'].isin(df_planilha_aba1['COD_PROCEDIMENTO']), '-','NÃO')     \n",
    "df_planilha_aba2.head()                                "
   ]
  },
  {
   "attachments": {},
   "cell_type": "markdown",
   "metadata": {},
   "source": [
    "#### Verificar se existe procedimento sem prestador informado (relação ABA2 e ABA1)"
   ]
  },
  {
   "cell_type": "code",
   "execution_count": null,
   "metadata": {},
   "outputs": [],
   "source": [
    "# Verifica se o procedimento informado possui prestador informado\n",
    "df_planilha_aba1_p = df_planilha_aba1.loc[df_planilha_aba1['QUANT_REDUCAO'] > 0] # Seleciona apenas os procedimentos com quantidade de redução maior que zero\n",
    "df_planilha_aba1_p['POSSUI_PRESTADOR'] = np.where(df_planilha_aba1_p['COD_PROCEDIMENTO'].isin(df_planilha_aba2['COD_PROCEDIMENTO']),'SIM','NÃO')\n",
    "df_planilha_aba1 = df_planilha_aba1.merge(df_planilha_aba1_p[['COD_PROCEDIMENTO','POSSUI_PRESTADOR']], on='COD_PROCEDIMENTO', how='left') # Adiciona a coluna 'POSSUI_PRESTADOR' ao dataframe\n",
    "df_planilha_aba1.head()"
   ]
  },
  {
   "attachments": {},
   "cell_type": "markdown",
   "metadata": {},
   "source": [
    "#### Verificar se o procedimento informado é valido "
   ]
  },
  {
   "cell_type": "code",
   "execution_count": null,
   "metadata": {},
   "outputs": [],
   "source": [
    "df_planilha_aba1['PROC_VALIDO'] = np.where(df_planilha_aba1['COD_PROCEDIMENTO'].isin(df_sigtap['COD_PROCEDIMENTO']), '-','NÃO')\n",
    "df_planilha_aba1.head()"
   ]
  },
  {
   "attachments": {},
   "cell_type": "markdown",
   "metadata": {},
   "source": [
    "#### Verificar habilitação x CNES"
   ]
  },
  {
   "cell_type": "code",
   "execution_count": null,
   "metadata": {},
   "outputs": [],
   "source": [
    "df_planilha_aba2_h = df_planilha_aba2[['CNES','COD_PROCEDIMENTO']] # Cria um novo dataframe com as colunas 'CNES','COD_PROCEDIMENTO',\n",
    "df_planilha_aba2_h.drop_duplicates(subset='COD_PROCEDIMENTO', keep='first', inplace=True) # Remove os valores duplicados da coluna 'COD_PROCEDIMENTO'\n",
    "df_planilha_aba2_h['PROC_HABILITACAO'] = df_planilha_aba2_h['COD_PROCEDIMENTO'].map(df_sigtap_h.set_index('COD_PROCEDIMENTO')['EXIGE HABILITACAO']) # Adiciona uma nova coluna com a informação de habilitação do procedimento\n",
    "df_planilha_aba2_h = df_planilha_aba2_h.merge(df_sigtap_h[['COD_PROCEDIMENTO','CO_HABILITACAO']], on='COD_PROCEDIMENTO', how='left') # Adiciona a coluna 'PROC_VALIDO' ao dataframe\n",
    "df_planilha_aba2_h = df_planilha_aba2_h.merge(df_cnes_habilitacao[['CNES','CO_CODIGO_GRUPO']], on='CNES', how='left') # Adiciona a coluna 'PROC_VALIDO' ao dataframe\n",
    "df_planilha_aba2_h.drop(df_planilha_aba2_h.loc[df_planilha_aba2_h['PROC_HABILITACAO'] == '-'].index, inplace=True) # Remove os procedimentos que não exigem habilitação\n",
    "df_planilha_aba2_h['CNES_HABILITADO'] = np.where(df_planilha_aba2_h['CO_CODIGO_GRUPO'].isin(df_planilha_aba2_h['CO_HABILITACAO']), 'SIM','EXIGE_HAB') # Adiciona a coluna 'CNES_HABILITADO' ao dataframe\n",
    "df_planilha_aba2_h.drop_duplicates(subset='COD_PROCEDIMENTO', keep='first', inplace=True) # Remove os valores duplicados da coluna 'CNES'\n",
    "df_planilha_aba2 = df_planilha_aba2.merge(df_planilha_aba2_h[['CNES','COD_PROCEDIMENTO','CNES_HABILITADO']], on=['CNES','COD_PROCEDIMENTO'], how='left') # Adiciona a coluna 'CNES_HABILITADO' ao dataframe\n",
    "df_planilha_aba2.drop_duplicates(subset='LINHA', keep='first', inplace=True) # Remove os valores duplicados da coluna 'CNES'\n",
    "df_planilha_aba2.head()"
   ]
  },
  {
   "attachments": {},
   "cell_type": "markdown",
   "metadata": {},
   "source": [
    "#### Verificar serviços/class x CNES"
   ]
  },
  {
   "cell_type": "code",
   "execution_count": null,
   "metadata": {},
   "outputs": [],
   "source": [
    "df_planilha_aba2_s = df_planilha_aba2[['CNES','COD_PROCEDIMENTO']] # Cria um novo dataframe com as colunas 'CNES','COD_PROCEDIMENTO',\n",
    "df_planilha_aba2_s.drop_duplicates(subset='COD_PROCEDIMENTO', keep='first', inplace=True) # Remove os valores duplicados da coluna 'COD_PROCEDIMENTO'\n",
    "df_planilha_aba2_s['EXIGE SERVIÇO'] = df_planilha_aba2_s['COD_PROCEDIMENTO'].map(df_sigtap_s.set_index('COD_PROCEDIMENTO')['EXIGE SERVIÇO']) # Adiciona uma nova coluna com a informação de habilitação do procedimento\n",
    "df_planilha_aba2_s = df_planilha_aba2_s.merge(df_sigtap_s[['COD_PROCEDIMENTO','CO_SERVICO']], on='COD_PROCEDIMENTO', how='left') # Adiciona a coluna 'PROC_VALIDO' ao dataframe\n",
    "df_cnes_servicos = df_cnes_servicos.rename(columns={\"CO_CNES\": \"CNES\"}) # Renomeia a coluna 'CO_CNES' para 'CNES'\n",
    "df_planilha_aba2_s = df_planilha_aba2_s.merge(df_cnes_servicos[['CNES','CO_SERVICO']], on='CNES', how='left') # Adiciona a coluna 'PROC_VALIDO' ao dataframe\n",
    "df_planilha_aba2_s.drop(df_planilha_aba2_s.loc[df_planilha_aba2_s['EXIGE SERVIÇO'] == '-'].index, inplace=True) # Remove os procedimentos que não exigem habilitação\n",
    "df_planilha_aba2_s['CNES_SERVICO'] = np.where(df_planilha_aba2_s['CO_SERVICO_x'].isin(df_planilha_aba2_s['CO_SERVICO_y']), 'SIM','EXIGE_SERV') # Adiciona a coluna 'CNES_HABILITADO' ao dataframe\n",
    "df_planilha_aba2_s.drop_duplicates(subset='COD_PROCEDIMENTO', keep='first', inplace=True) # Remove os valores duplicados da coluna 'CNES'\n",
    "df_planilha_aba2 = df_planilha_aba2.merge(df_planilha_aba2_s[['CNES','COD_PROCEDIMENTO','CNES_SERVICO']], on=['CNES','COD_PROCEDIMENTO'], how='left') # Adiciona a coluna 'CNES_HABILITADO' ao dataframe\n",
    "df_planilha_aba2.drop_duplicates(subset='LINHA', keep='first', inplace=True) # Remove os valores duplicados da coluna 'CNES'\n",
    "df_planilha_aba2.head()"
   ]
  },
  {
   "attachments": {},
   "cell_type": "markdown",
   "metadata": {},
   "source": [
    "### Analise e tratamento da PLANILHA ABA 3"
   ]
  },
  {
   "cell_type": "code",
   "execution_count": null,
   "metadata": {},
   "outputs": [],
   "source": [
    "df_planilha_aba3 = pd.read_excel(df_planilha, sheet_name='Execução') # Lê o arquivo excel\n",
    "df_planilha_aba3.head(10) # Exibe as 5 primeiras linhas do arquivo"
   ]
  },
  {
   "cell_type": "code",
   "execution_count": null,
   "metadata": {},
   "outputs": [],
   "source": [
    "valor_portaria = df_planilha_aba3.iloc[0,3] # Armazena o valor da portaria\n",
    "df_planilha_aba3.drop(df_planilha_aba3.index[0:6], inplace=True) # Remove as 5 primeiras linhas do arquivo\n",
    "df_planilha_aba3.rename(columns={'Distribuição e Cronograma da Execução do Recurso Financeiro':'CODIGO GESTOR','Unnamed: 1':'GESTÃO','Unnamed: 2':'DESC_GESTOR','Unnamed: 3':'VALOR','Unnamed: 4':'MARÇO',\n",
    "                                 'Unnamed: 5':'ABRIL','Unnamed: 6':'MAIO','Unnamed: 7':'JUNHO','Unnamed: 8':'JULHO','Unnamed: 9':'AGOSTO','Unnamed: 10':'SETEMBRO','Unnamed: 11':'OUTUBRO',\n",
    "                                 'Unnamed: 12':'NOVEMBRO','Unnamed: 13':'DEZEMBRO','Unnamed: 14':'TOTAL_%','SQ (CODIGO Interno':'LINHA'}, inplace=True)\n",
    "df_planilha_aba3.drop(df_planilha_aba3.tail(1).index,inplace=True) # Removendo a última linha do arquivo\n",
    "df_planilha_aba3.dropna(subset=['CODIGO GESTOR'], inplace=True) # Removendo linhas com valores nulos\n",
    "valor_total = df_planilha_aba3['VALOR'].sum() # Soma o valor total da coluna 'VALOR'\n",
    "df_planilha_aba3['VALOR'] = df_planilha_aba3['VALOR'].astype(float) # Converte a coluna 'VALOR' para float\n",
    "df_planilha_aba3['VALOR_R'] = df_planilha_aba3['VALOR'].apply(lambda x: 'R$ ' + format(x, ',.2f').replace('.', '#').replace(',', '.').replace('#', ',')) # Formata a coluna 'VALOR' para moeda\n",
    "\n",
    "df_planilha_aba3.head() # Exibe as 5 primeiras linhas do arquivo"
   ]
  },
  {
   "cell_type": "code",
   "execution_count": null,
   "metadata": {},
   "outputs": [],
   "source": [
    "df_planilha_aba3['CODIGO GESTOR'] = df_planilha_aba3['CODIGO GESTOR'].astype(int) # Converte a coluna 'MUNIC_PRESTADOR' para string\n",
    "df_planilha_aba2['CO_MUNICIPIO_GESTOR'] = df_planilha_aba2['CO_MUNICIPIO_GESTOR'].astype(int) # Converte a coluna 'CO_MUNICIPIO_GESTOR' para string\n",
    "df_planilha_aba3['MUNIC_PRESTADOR'] = np.where(df_planilha_aba3['CODIGO GESTOR'].isin(df_planilha_aba2['CO_MUNICIPIO_GESTOR']), 'SIM','NÃO')\n",
    "df_planilha_aba3_m = df_planilha_aba3[df_planilha_aba3['GESTÃO'] == 'MUNICIPAL'] # Filtra os dados da aba 3 que possuem gestão municipal\n",
    "df_teto['Código IBGE'] = df_teto['Código IBGE'].astype(int) # Converte a coluna 'Código IBGE' para string\n",
    "df_planilha_aba3 = pd.merge(df_planilha_aba3, df_teto, left_on='CODIGO GESTOR', right_on='Código IBGE', how='left') # Realiza o merge das duas planilhas\n",
    "\n",
    "df_planilha_aba3.drop(['Código IBGE', 'Código Gestão', 'Descrição Gestão'], axis=1, inplace=True) # Remove a coluna 'Código IBGE'\n",
    "df_planilha_aba3.rename(columns={'Descrição Gestão':'DESC_GESTOR','Estado / Município':'DESC_GESTOR_C','Teto Financeiro MAC - Valores Anuais (R$)':'TETO_FINANC_ANO'}, inplace=True) # Renomeia a coluna 'Descrição Gestão'\n",
    "df_planilha_aba3['TETO_FINANC_ANO'] = df_planilha_aba3['TETO_FINANC_ANO'].astype(float) # Converte a coluna 'TETO_FINANC_ANO' para float\n",
    "df_planilha_aba3['TETO_FINANC_MES'] = df_planilha_aba3['TETO_FINANC_ANO'] / 12 # Calcula o teto financeiro mensal\n",
    "\n",
    "df_planilha_aba3.head()\n"
   ]
  },
  {
   "cell_type": "code",
   "execution_count": null,
   "metadata": {},
   "outputs": [],
   "source": [
    "df_planilha_aba3.head() # Exibe as informações do dataframe"
   ]
  },
  {
   "cell_type": "code",
   "execution_count": null,
   "metadata": {},
   "outputs": [],
   "source": [
    "diferenca = valor_portaria - valor_total # Calcula a diferença entre o valor da portaria e o valor total\n",
    "diferenca = 'R$ ' + format(diferenca, ',.2f').replace('.', '#').replace(',', '.').replace('#', ',') # Formata a diferença para moeda\n",
    "print(diferenca)"
   ]
  },
  {
   "attachments": {},
   "cell_type": "markdown",
   "metadata": {},
   "source": [
    "# RELATORIO FINAL (ANALISE)"
   ]
  },
  {
   "cell_type": "code",
   "execution_count": null,
   "metadata": {},
   "outputs": [],
   "source": [
    "df_planilha = os.path.splitext(os.path.basename(df_planilha))[0] # Pega o nome do arquivo sem a extensão\n",
    "file_nome = df_planilha.split('/')[-1] # Pega o nome do arquivo\n",
    "writer = pd.ExcelWriter(f'PLANILHA/{file_nome}_resultado.xlsx', engine='xlsxwriter') # Cria um arquivo excel\n",
    "\n",
    "df_planilha_aba1.to_excel(writer, sheet_name='Aba 1', index=False)\n",
    "df_planilha_aba2.to_excel(writer, sheet_name='Aba 2', index=False)\n",
    "df_planilha_aba3.to_excel(writer, sheet_name='Aba 3', index=False)\n",
    "\n",
    "writer.save()\n"
   ]
  },
  {
   "attachments": {},
   "cell_type": "markdown",
   "metadata": {},
   "source": [
    "# SALVANDO OS RESULTADOS    "
   ]
  },
  {
   "cell_type": "code",
   "execution_count": null,
   "metadata": {},
   "outputs": [],
   "source": [
    "#Criar arquivo txt resultado em modo de escrita\n",
    "arquivo = open(f'PLANILHA/{file_nome}_resultado.txt', 'w')\n",
    "\n",
    "\n",
    "# Verificação de procedimentos duplicados\n",
    "if df_planilha_aba1['M_DUPLICADO'].str.contains('SIM').any():\n",
    "    print(f\"{colors.ERRO}[ERRO] - ABA 1 - Existem procedimentos na Fila, duplicado;\", file=arquivo)\n",
    "    procedimento_duplicado = True\n",
    "else:\n",
    "    print(f\"{colors.OK}[OK] - ABA 1 - Não existem procedimentos duplicados;\", file=arquivo)\n",
    "    procedimento_duplicado = False\n",
    "\n",
    "\n",
    "# VerificaçãO de procedimentos com quantidade menor que 1\n",
    "if df_planilha_aba1['QUANT_ZERO'].str.contains('ERRO_QUANT').any():   \n",
    "    print(f\"{colors.ERRO}[ERRO] - ABA 1 - Existem procedimentos na Fila, cuja quantidade de cirurgia ficou inferior a 1 procedimento (PACIENTE);\", file=arquivo)\n",
    "    quant_menor_1 = True\n",
    "else:\n",
    "    print(f\"{colors.OK}[OK] - ABA 1 - Não existem procedimentos com quantidade menor que 1;\", file=arquivo)\n",
    "    quant_menor_1 = False\n",
    "\n",
    "\n",
    "# Verificação de procedimentos inválidos\n",
    "if df_planilha_aba1['PROC_VALIDO'].str.contains('NÃO').any():\n",
    "    print(f\"{colors.ERRO}[ERRO] - ABA 1 - Existem procedimentos na Fila, que não são válidos;\", file=arquivo)\n",
    "    procedimento_invalido = True\n",
    "else:\n",
    "    print(f\"{colors.OK}[OK] - ABA 1 - Não existem procedimentos inválidos;\", file=arquivo)\n",
    "    procedimento_invalido = False    \n",
    "\n",
    "\n",
    "# Verificação de procedimentos sem prestador\n",
    "if df_planilha_aba1['POSSUI_PRESTADOR'].str.contains('NÃO').any():\n",
    "    print(f\"{colors.ERRO}[ERRO] - ABA 1/2 - Existem procedimentos na Fila, cuja não existe prestador;\", file=arquivo)\n",
    "    sem_prestador = True\n",
    "else:\n",
    "    print(f\"{colors.OK}[OK] - ABA 1/2 - Não existem procedimentos sem prestador;\", file=arquivo)\n",
    "    sem_prestador = False\n",
    "\n",
    "\n",
    "# Verificação de CNES ativo\n",
    "if df_planilha_aba2['CNES_ATIVO'].str.contains('NÃO').any():\n",
    "    print(f\"{colors.ERRO}[ERRO] - ABA 2 - Existem CNES inativos;\", file=arquivo)\n",
    "    cnes_inativo = True\n",
    "else:\n",
    "    print(f\"{colors.OK}[OK] - ABA 2 - Não existem CNES inativos;\", file=arquivo)\n",
    "    cnes_inativo = False\n",
    "\n",
    "\n",
    "# Verificação de CNES habilitado\n",
    "if df_planilha_aba2['CNES_HABILITADO'].str.contains('EXIGE_HAB').any():\n",
    "    print(f\"{colors.NORMAL}[ALERTA] - ABA 2 - Existem CNES não habilitados;\", file=arquivo)\n",
    "    cnes_nao_habilitado = True\n",
    "else:\n",
    "    print(f\"{colors.OK}[OK] - ABA 2 - Não existem CNES não habilitados;\", file=arquivo)\n",
    "    cnes_nao_habilitado = False\n",
    "\n",
    "\n",
    "# Verificação de CNES serviço ativo\n",
    "if df_planilha_aba2['CNES_SERVICO'].str.contains('EXIGE_SERV').any():\n",
    "    print(f\"{colors.ERRO}[ERRO] - ABA 2 - Existem CNES não habilitados;\", file=arquivo)\n",
    "    cnes_nao_habilitado = True\n",
    "else:\n",
    "    print(f\"{colors.OK}[OK] - ABA 2 - Não existem CNES não serviço/class;\", file=arquivo)\n",
    "    cnes_nao_habilitado = False\n",
    "\n",
    "\n",
    "# Verificar valor de portaria\n",
    "if valor_total == valor_portaria:\n",
    "    print(f\"{colors.OK}[OK] - ABA 3 - Valor programado igual ao valor alocado na Portaria 90;\", file=arquivo)\n",
    "    valor_portaria_correto = True\n",
    "else:   \n",
    "    print(f\"{colors.ERRO}[ERRO] - ABA 3 - Valor programado diferente do valor alocado na Portaria 90; {diferenca}\", file=arquivo)\n",
    "    valor_portaria_correto = False\n",
    "    \n",
    "\n",
    "# Verificar se existe municipio com repasse, mas não existe CNES relacionado ao municipio\n",
    "if df_planilha_aba3_m['MUNIC_PRESTADOR'].str.contains('NÃO').any():   \n",
    "    print(f\"{colors.ERRO}[ERRO] - ABA 3 - Existem municipio com repasse, mas não existe CNES relacionado ao municipio;\", file=arquivo)\n",
    "    \n",
    "    sem_prestador = True\n",
    "else:   \n",
    "    print(f\"{colors.OK}[OK] - ABA 3 - Relação de municipios diacordo com o CNES;\", file=arquivo)\n",
    "    sem_prestador = False\n",
    "\n",
    "\n",
    "# Arquivo gerado com os resultados\n",
    "print(f\"{colors.OK}[OK] - Arquivo: '{file_nome}- resultado.xlsx' gerado com sucesso!\", file=arquivo)\n",
    "\n",
    "\n",
    "\n",
    "# Fechar arquivo txt\n",
    "arquivo.close()"
   ]
  },
  {
   "cell_type": "code",
   "execution_count": null,
   "metadata": {},
   "outputs": [],
   "source": [
    "tempo_final = time.time()\n",
    "tempo_total = (float(tempo_final - tempo_inicial)/60)\n",
    "print(f\"Tempo total de execução: {tempo_total:,.1f} minutos\" )"
   ]
  }
 ],
 "metadata": {
  "kernelspec": {
   "display_name": "Python 3",
   "language": "python",
   "name": "python3"
  },
  "language_info": {
   "codemirror_mode": {
    "name": "ipython",
    "version": 3
   },
   "file_extension": ".py",
   "mimetype": "text/x-python",
   "name": "python",
   "nbconvert_exporter": "python",
   "pygments_lexer": "ipython3",
   "version": "3.10.10"
  },
  "orig_nbformat": 4,
  "vscode": {
   "interpreter": {
    "hash": "f7f8c097c8b77234b1554043a16e456bc3013eb7e1454957444d1d61c725966c"
   }
  }
 },
 "nbformat": 4,
 "nbformat_minor": 2
}
