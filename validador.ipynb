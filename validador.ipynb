{
 "cells": [
  {
   "attachments": {},
   "cell_type": "markdown",
   "metadata": {},
   "source": [
    "# BOT DE ANALITICO DAS PROPOSTAS"
   ]
  },
  {
   "cell_type": "code",
   "execution_count": null,
   "metadata": {},
   "outputs": [],
   "source": [
    "# TRATAMENTO DOS DADOS DO CNES, SIGTAP E TETO\n",
    "## Autor: Otávio Augusto dos Santos\n",
    "## Data: 2023-04-13\n",
    "\n",
    "## Versão: 2.7.10\n",
    "## Descrição: Bot de analise de dados na planilha de proposto (PLANO)\n",
    "## Entrada: Planilha de proposto (PLANO)\n",
    "## Saída: Relatório de inconsistências\n",
    "## Observações:\n",
    "## 1. O arquivo de entrada deve estar na pasta PLANILHA \n",
    "## 2. O arquivo de saída será gerado na pasta RESULTADOS\n",
    "## 3. O arquivo de saída será salvo 2 Arquivos: TXT e XLSX"
   ]
  },
  {
   "cell_type": "code",
   "execution_count": null,
   "metadata": {},
   "outputs": [],
   "source": [
    "#Pandas: Possui inúmeras funções e comandos para importar arquivos, analisar dados, tratar dados, etc.\n",
    "import pandas as pd # importando a biblioteca pandas\n",
    "\n",
    "#Numpy: Possui uma série de funções e comandos para trabalharmos com números de forma em geral(formatação, calculos, etc)\n",
    "import numpy as np # importando a biblioteca numpy\n",
    "\n",
    "#Time: Possui uma série de funções e comandos para trabalharmos com tempo\n",
    "import time # importando a biblioteca time\n",
    "\n",
    "#glob: Possui uma série de funções e comandos para trabalharmos com arquivos\n",
    "import glob # importando a biblioteca glob\n",
    "\n",
    "#os: Possui uma série de funções e comandos para trabalharmos com arquivos\n",
    "import os # importando a biblioteca os\n",
    "\n",
    "#XlsxWriter: Possui uma série de funções e comandos para trabalharmos com arquivos excel\n",
    "import xlsxwriter # importando a biblioteca xlsxwriter\n",
    "\n",
    "#Pyexcel: Possui uma série de funções e comandos para trabalharmos com arquivos excel\n",
    "import pyexcel as pe # importando a biblioteca pyexcel\n",
    "\n",
    "#locale: Possui uma série de funções e comandos para trabalharmos com formatação de números\n",
    "import locale # importando a biblioteca locale\n",
    "\n",
    "#Math: Possui uma série de funções e comandos para trabalharmos com matemática\n",
    "import math # importando a biblioteca math\n",
    "\n",
    "#Warnings: Possui detalhes sobre os avisos e alertas que aparecem, porém podemos utiliza-lo também para que os alertas de\n",
    "#futuras atualizações e metodos depreciados não sejam exibidos\n",
    "import warnings\n",
    "warnings.filterwarnings(\"ignore\") \n",
    "\n",
    "locale.setlocale(locale.LC_ALL, 'pt_BR.UTF-8') # Definindo o locale para pt_BR\n",
    "tempo_inicial = time.time() # tempo inicial para calcular o tempo de execução do código\n",
    "\n",
    "from glob import glob # Utilizado para listar arquivos de um diretório\n",
    "from datetime import datetime # Utilizado para trabalhar com datas\n",
    "\n",
    "#Comando para exibir todas colunas do arquivo\n",
    "pd.set_option('display.max_columns', None)\n",
    "pd.set_option('display.max_rows', None)"
   ]
  },
  {
   "attachments": {},
   "cell_type": "markdown",
   "metadata": {},
   "source": [
    "## Importação dos Dados do CNES "
   ]
  },
  {
   "cell_type": "code",
   "execution_count": null,
   "metadata": {},
   "outputs": [],
   "source": [
    "df_cnes_leitos = pd.read_csv('BASE\\.BASE_CNES_LEITOS.csv', sep=';', encoding='latin-1', dtype=str)\n",
    "df_cnes_leitos.head()"
   ]
  },
  {
   "cell_type": "code",
   "execution_count": null,
   "metadata": {},
   "outputs": [],
   "source": [
    "df_cnes_habilitacao = pd.read_csv('BASE\\.BASE_CNES_HABILITACAO.csv', sep=';', encoding='latin-1', dtype=str)\n",
    "df_cnes_habilitacao.head()"
   ]
  },
  {
   "cell_type": "code",
   "execution_count": null,
   "metadata": {},
   "outputs": [],
   "source": [
    "df_cnes_servicos = pd.read_csv('BASE\\.BASE_CNES_SERVICOS.csv', sep=';', encoding='latin-1', dtype=str)\n",
    "df_cnes_servicos.head()"
   ]
  },
  {
   "attachments": {},
   "cell_type": "markdown",
   "metadata": {},
   "source": [
    "## Importação dos Dados do SIGTAP"
   ]
  },
  {
   "cell_type": "code",
   "execution_count": null,
   "metadata": {},
   "outputs": [],
   "source": [
    "df_sigtap = pd.read_csv('BASE\\.BASE_SIGTAP_GERAL.csv', sep=';', encoding='latin-1', dtype=str)\n",
    "df_sigtap['COD_PROCEDIMENTO']= df_sigtap['COD_PROCEDIMENTO'].astype(int) # Converte a coluna 'COD_PROCEDIMENTO' para string\n",
    "df_sigtap['QT_PROD AIH 2018 a 2022']= df_sigtap['QT_PROD AIH 2018 a 2022'].astype(int) # Converte a coluna 'QT_PROD AIH 2018 a 2022' para string\n",
    "df_sigtap.head() # Exibe as 5 primeiras linhas do arquivo"
   ]
  },
  {
   "attachments": {},
   "cell_type": "markdown",
   "metadata": {},
   "source": [
    "## Importação TETO MAC"
   ]
  },
  {
   "cell_type": "code",
   "execution_count": null,
   "metadata": {},
   "outputs": [],
   "source": [
    "df_teto = pd.read_csv('BASE\\.BASE_TETO_MAC.csv', sep=';', encoding='latin-1', dtype=str)\n",
    "df_teto.head()"
   ]
  },
  {
   "attachments": {},
   "cell_type": "markdown",
   "metadata": {},
   "source": [
    "## Importação da PLANILHA  "
   ]
  },
  {
   "attachments": {},
   "cell_type": "markdown",
   "metadata": {},
   "source": [
    "### Analise e tratamento da PLANILHA ABA 1 "
   ]
  },
  {
   "cell_type": "code",
   "execution_count": null,
   "metadata": {},
   "outputs": [],
   "source": [
    "df_planilha = glob('PLANILHA\\*.xlsx')[0] # Planilha para ser validada"
   ]
  },
  {
   "cell_type": "code",
   "execution_count": null,
   "metadata": {},
   "outputs": [],
   "source": [
    "df_planilha_aba1 = pd.read_excel(df_planilha, sheet_name='Ident. Fila na UF') # Lê o arquivo excel\n",
    "df_planilha_aba1.head() # Exibe as 5 primeiras linhas do arquivo"
   ]
  },
  {
   "cell_type": "code",
   "execution_count": null,
   "metadata": {},
   "outputs": [],
   "source": [
    "df_planilha_aba1.rename(columns={'PLANO ESTADUAL DE REDUÇÃO DE FILAS DE ESPERA EM CIRURGIAS ELETIVAS - FILA DE ESPERA':'COD_PROCEDIMENTO','Unnamed: 1':'DESC_PROCEDIMENTO','Unnamed: 2':'QUANT_FILA', \n",
    "                                 'Unnamed: 3':'PERC_REDUCAO', 'Unnamed: 4':'TEMPO_MESES', 'Unnamed: 5':'QUANT_REDUCAO', 'Unnamed: 6':'LINHA'}, inplace=True) \n",
    "                                # Renomeia a coluna 'PLANO ESTADUAL DE REDUÇÃO DE FILAS DE ESPERA EM CIRURGIAS ELETIVAS - FILA DE ESPERA' para 'UF'\n",
    "df_planilha_aba1.drop(0, inplace=True) # Remove a primeira linha do arquivo\n",
    "df_planilha_aba1.drop(1, inplace=True) # Remove a segunda linha do arquivo\n",
    "df_planilha_aba1.drop(df_planilha_aba1.tail(1).index,inplace=True) # Removendo a última linha do arquivo\n",
    "df_planilha_aba1.dropna(subset=['COD_PROCEDIMENTO'], inplace=True) # Removendo linhas com valores nulos\n",
    "df_planilha_aba1.drop('Unnamed: 7', axis=1, inplace=True) # Removendo coluna 'Unnamed: 7'\n",
    "df_planilha_aba1['COD_PROCEDIMENTO'] = df_planilha_aba1['COD_PROCEDIMENTO'].astype(int) # Converte a coluna 'COD_PROCEDIMENTO' para string\n",
    "df_planilha_aba1['QUANT_FILA'] = df_planilha_aba1['QUANT_FILA'].astype(int) # Converte a coluna 'QUANT_FILA' para string\n",
    "df_planilha_aba1['PERC_REDUCAO'] = df_planilha_aba1['PERC_REDUCAO'].replace(np.nan, 0) # Substitui os valores nulos por 0\n",
    "df_planilha_aba1['PERC_REDUCAO'] = df_planilha_aba1['PERC_REDUCAO'].astype(float) # Converte a coluna 'QUANT_FILA' para string\n",
    "#df_planilha_aba1['QUANT_REDUCAO'] = round(df_planilha_aba1['QUANT_FILA'] * df_planilha_aba1['PERC_REDUCAO']).astype(int) # Converte a coluna 'QUANT_FILA' para string\n",
    "df_planilha_aba1['QUANT_REDUCAO'] = df_planilha_aba1['QUANT_REDUCAO'] * df_planilha_aba1['PERC_REDUCAO'] # Converte a coluna 'QUANT_FILA' para string\n",
    "df_planilha_aba1['QUANT_REDUCAO'] = df_planilha_aba1['QUANT_REDUCAO'].apply(math.ceil).astype(int) # Converte a coluna 'QUANT_FILA' para string\n",
    "\n",
    "df_planilha_aba1.head() # Exibe as 5 primeiras linhas do arquivo"
   ]
  },
  {
   "cell_type": "code",
   "execution_count": null,
   "metadata": {},
   "outputs": [],
   "source": [
    "df_planilha_aba1['PERC_REDUCAO'] = df_planilha_aba1['PERC_REDUCAO'].replace(np.nan, 0) # Substitui os valores nulos por 0 \n",
    "df_planilha_aba1.info() # Exibe informações sobre o arquivo"
   ]
  },
  {
   "attachments": {},
   "cell_type": "markdown",
   "metadata": {},
   "source": [
    "### Somas TOTAIS"
   ]
  },
  {
   "cell_type": "code",
   "execution_count": null,
   "metadata": {},
   "outputs": [],
   "source": [
    "quant_fila = df_planilha_aba1['QUANT_FILA'].sum() # Soma o valor total da coluna 'QUANT_FILA'\n",
    "quant_fila = '{0:,}'.format(quant_fila).replace(',','.') #Aqui coloca os pontos\n",
    "quant_reducao = df_planilha_aba1['QUANT_REDUCAO'].sum() # Soma o valor total da coluna 'QUANT_REDUCAO'\n",
    "quant_reducao = '{0:,}'.format(quant_reducao).replace(',','.') #Aqui coloca os pontos\n",
    "quant_prodedimentos = df_planilha_aba1['COD_PROCEDIMENTO'].count() # Conta a quantidade de procedimentos\n",
    "reducao_max = df_planilha_aba1['PERC_REDUCAO'].max() # Pega o valor máximo da coluna 'PERC_REDUCAO'\n",
    "reducao_max = \"{:.0f}\".format(reducao_max * 100)  # Formata o valor para 2 casas decimais\n",
    "reducao_min = df_planilha_aba1.loc[df_planilha_aba1['PERC_REDUCAO'] > 0, 'PERC_REDUCAO'].min()\n",
    "reducao_min = \"{:.0f}\".format(reducao_min * 100)  # Formata o valor para 2 casas decimais\n",
    "periodo_atendimento = df_planilha_aba1.loc[df_planilha_aba1['QUANT_REDUCAO'] > 0, 'TEMPO_MESES'].max()\n",
    "#periodo_atedimento = 'erro'"
   ]
  },
  {
   "attachments": {},
   "cell_type": "markdown",
   "metadata": {},
   "source": [
    "### Periodo de atendimento"
   ]
  },
  {
   "cell_type": "code",
   "execution_count": null,
   "metadata": {},
   "outputs": [],
   "source": [
    "df_planilha_aba1['TEMPO_MESES'] = np.where(df_planilha_aba1['PERC_REDUCAO'] > 0, df_planilha_aba1['TEMPO_MESES'], '-')\n",
    "df_planilha_aba1.head()"
   ]
  },
  {
   "attachments": {},
   "cell_type": "markdown",
   "metadata": {},
   "source": [
    "### Verificar procedimento duplicado"
   ]
  },
  {
   "cell_type": "code",
   "execution_count": null,
   "metadata": {},
   "outputs": [],
   "source": [
    "# Verifica se há valores duplicados na coluna \"COD_PROCEDIMENTO\"\n",
    "df_planilha_aba1['DUPLICADO'] = df_planilha_aba1['COD_PROCEDIMENTO'].duplicated(keep=False)\n",
    "\n",
    "# Cria uma nova coluna com as mensagens correspondentes\n",
    "df_planilha_aba1['M_DUPLICADO'] = np.where(df_planilha_aba1['DUPLICADO'], 'SIM', '-')\n",
    "df_planilha_aba1.drop('DUPLICADO', axis=1, inplace=True) # Remove a coluna 'DUPLICADO'\n",
    "# Exibe as 5 primeiras linhas do arquivo com a nova coluna\n",
    "df_planilha_aba1.head()"
   ]
  },
  {
   "attachments": {},
   "cell_type": "markdown",
   "metadata": {},
   "source": [
    "### Verificar se existe atendimento na Quantidade de Reduçao numero inferior a 1 procedimento. "
   ]
  },
  {
   "cell_type": "code",
   "execution_count": null,
   "metadata": {},
   "outputs": [],
   "source": [
    "# Adicionando nova coluna 'QUANT_ZERO' com a mensagem correspondente\n",
    "\n",
    "def mensagem(quant_zero):\n",
    "    if quant_zero ['QUANT_REDUCAO'] < 1 and quant_zero['PERC_REDUCAO'] > 0 :\n",
    "        return 'ERRO_QUANT'\n",
    "    else:\n",
    "        return '-'\n",
    "df_planilha_aba1['QUANT_ZERO'] = df_planilha_aba1.apply(mensagem, axis=1)\n",
    "\n",
    "# Exibindo as primeiras linhas do dataframe com a nova coluna\n",
    "df_planilha_aba1.head() \n"
   ]
  },
  {
   "attachments": {},
   "cell_type": "markdown",
   "metadata": {},
   "source": [
    "### Procedimento requer habilitação"
   ]
  },
  {
   "cell_type": "code",
   "execution_count": null,
   "metadata": {},
   "outputs": [],
   "source": [
    "df_sigtap_h = df_sigtap[['COD_PROCEDIMENTO','EXIGE HABILITACAO','CO_HABILITACAO']] # Cria um novo dataframe com as colunas 'COD_PROCEDIMENTO','EXIGE HABILITACAO','CO_HABILITACAO'\n",
    "df_sigtap_h.drop_duplicates(subset='COD_PROCEDIMENTO', keep='first', inplace=True) # Remove os valores duplicados da coluna 'COD_PROCEDIMENTO'\n",
    "df_planilha_aba1['PROC_HABILITACAO'] = df_planilha_aba1['COD_PROCEDIMENTO'].map(df_sigtap_h.set_index('COD_PROCEDIMENTO')['EXIGE HABILITACAO']) # Adiciona uma nova coluna com a informação de habilitação do procedimento\n",
    "df_planilha_aba1.head() # Exibe as 5 primeiras linhas do arquivo"
   ]
  },
  {
   "attachments": {},
   "cell_type": "markdown",
   "metadata": {},
   "source": [
    "### Procedimento requer serviço/class"
   ]
  },
  {
   "cell_type": "code",
   "execution_count": null,
   "metadata": {},
   "outputs": [],
   "source": [
    "df_sigtap_s = df_sigtap[['COD_PROCEDIMENTO','EXIGE SERVIÇO','CO_SERVICO','CO_CLASSIFICACAO']] # Cria um novo dataframe com as colunas 'COD_PROCEDIMENTO','EXIGE SERVICO','CO_SERVICO'\n",
    "df_sigtap_s.drop_duplicates(subset='COD_PROCEDIMENTO', keep='first', inplace=True) # Remove os valores duplicados da coluna 'COD_PROCEDIMENTO'\n",
    "df_planilha_aba1['PROC_SERVICO'] = df_planilha_aba1['COD_PROCEDIMENTO'].map(df_sigtap_s.set_index('COD_PROCEDIMENTO')['EXIGE SERVIÇO']) # Adiciona uma nova coluna com a informação de serviço do procedimento\n",
    "df_planilha_aba1.head() # Exibe as 5 primeiras linhas do arquivo"
   ]
  },
  {
   "attachments": {},
   "cell_type": "markdown",
   "metadata": {},
   "source": [
    "## Analise e tratamento da PLANILHA ABA 2"
   ]
  },
  {
   "cell_type": "code",
   "execution_count": null,
   "metadata": {},
   "outputs": [],
   "source": [
    "df_planilha_aba2 = pd.read_excel(df_planilha, sheet_name='Ident. CNES e Proced.', dtype=str) # Lê o arquivo excel\n",
    "df_planilha_aba2.head() # Exibe as 5 primeiras linhas do arquivo"
   ]
  },
  {
   "cell_type": "code",
   "execution_count": null,
   "metadata": {},
   "outputs": [],
   "source": [
    "# Tratamento dos dados da aba 'Ident. CNES e Proced.'\n",
    "df_planilha_aba2.rename(columns={'PLANO ESTADUAL DE REDUÇÃO DE FILAS DE ESPERA EM CIRURGIAS ELETIVAS - CNES':'CNES','Unnamed: 1':'ESTABELECIMENTO','Unnamed: 2':'COD_PROCEDIMENTO', \n",
    "                                 'Unnamed: 3':'DES_PROCEDIMENTO', 'Unnamed: 4':'COMPL_RECURSO_FEDERAL', 'Unnamed: 5':'GESTAO', 'Unnamed: 6':'COD_NATUREZA','Unnamed: 7':'NATUREZA',\n",
    "                                 'Unnamed: 8':'POSSUI_CONTRATO','Unnamed: 9':'IDENTIFICACAO','Unnamed: 10':'LINHA'}, inplace=True) \n",
    "                                # Renomeia a coluna 'PLANO ESTADUAL DE REDUÇÃO DE FILAS DE ESPERA EM CIRURGIAS ELETIVAS - FILA DE ESPERA' para 'UF'\n",
    "df_planilha_aba2.drop(0, inplace=True) # Remove a primeira linha do arquivo\n",
    "df_planilha_aba2.drop(1, inplace=True) # Remove a primeira linha do arquivo\n",
    "df_planilha_aba2.drop(df_planilha_aba2.tail(1).index,inplace=True) # Removendo a última linha do arquivo\n",
    "df_planilha_aba2.dropna(subset=['CNES'], inplace=True) # Removendo linhas com valores nulos\n",
    "df_planilha_aba2.drop('IDENTIFICACAO', axis=1, inplace=True) # Removendo coluna 'IDENTIFICACAO'\n",
    "df_planilha_aba2.dropna(subset=['COD_PROCEDIMENTO'], inplace=True) # Removendo linhas com valores nulos\n",
    "df_planilha_aba2['COD_PROCEDIMENTO'] = df_planilha_aba2['COD_PROCEDIMENTO'].astype(int) # Converte a coluna 'COD_PROCEDIMENTO' para string\n",
    "df_cnes_habilitacao = df_cnes_habilitacao.rename(columns={\"CO_CNES\": \"CNES\"}) # Renomeia a coluna 'CO_CNES' para 'CNES'\n",
    "df_planilha_aba2 = df_planilha_aba2.merge(df_cnes_habilitacao[[\"CNES\", \"CO_MUNICIPIO_GESTOR\"]], on=\"CNES\", how=\"left\") # Adiciona a coluna 'CO_MUNICIPIO_GESTOR' ao dataframe\n",
    "\n",
    "df_planilha_aba2.head() # Exibe as 5 primeiras linhas do arquivo"
   ]
  },
  {
   "cell_type": "code",
   "execution_count": null,
   "metadata": {},
   "outputs": [],
   "source": [
    "df_planilha_aba2.info() "
   ]
  },
  {
   "attachments": {},
   "cell_type": "markdown",
   "metadata": {},
   "source": [
    "### Verificar se o CNES esta ATIVO:"
   ]
  },
  {
   "cell_type": "code",
   "execution_count": null,
   "metadata": {},
   "outputs": [],
   "source": [
    "df_cnes_habilitacao['CNES'] = df_cnes_habilitacao['CNES'].astype(str) # Converte a coluna 'CNES' para string\n",
    "df_cnes_habilitacao2 = df_cnes_habilitacao.loc[df_cnes_habilitacao['CO_MOTIVO_DESAB'] > '0'] # Seleciona apenas os CNES habilitados\n",
    "df_planilha_aba2['CNES_ATIVO'] = np.where(df_planilha_aba2['CNES'].isin(df_cnes_habilitacao2['CNES']), 'NÃO', '-') # Adiciona a coluna 'CNES_ATIVO' ao dataframe\n",
    "df_planilha_aba2.head() # Exibe as 5 primeiras linhas do arquivo"
   ]
  },
  {
   "attachments": {},
   "cell_type": "markdown",
   "metadata": {},
   "source": [
    "### Verificar se existe prestador sem procedimento informado em fila (relação ABA1 E ABA2)"
   ]
  },
  {
   "cell_type": "code",
   "execution_count": null,
   "metadata": {},
   "outputs": [],
   "source": [
    "# Idenfica se o procedimento informado na aba anterior está na aba atual\n",
    "df_planilha_aba2['PROC_INFORMADO'] = np.where(df_planilha_aba2['COD_PROCEDIMENTO'].isin(df_planilha_aba1['COD_PROCEDIMENTO']), '-','NÃO')     \n",
    "df_planilha_aba2.head()                                "
   ]
  },
  {
   "attachments": {},
   "cell_type": "markdown",
   "metadata": {},
   "source": [
    "### Verificar se existe procedimento sem prestador informado (relação ABA2 e ABA1)"
   ]
  },
  {
   "cell_type": "code",
   "execution_count": null,
   "metadata": {},
   "outputs": [],
   "source": [
    "# Verifica se o procedimento informado possui prestador informado\n",
    "df_planilha_aba1_p = df_planilha_aba1.loc[df_planilha_aba1['QUANT_REDUCAO'] > 0] # Seleciona apenas os procedimentos com quantidade de redução maior que zero\n",
    "df_planilha_aba1_p['POSSUI_PRESTADOR'] = np.where(df_planilha_aba1_p['COD_PROCEDIMENTO'].isin(df_planilha_aba2['COD_PROCEDIMENTO']),'-','NÃO') \n",
    "df_planilha_aba1 = df_planilha_aba1.merge(df_planilha_aba1_p[['COD_PROCEDIMENTO','POSSUI_PRESTADOR']], on='COD_PROCEDIMENTO', how='left') # Adiciona a coluna 'POSSUI_PRESTADOR' ao dataframe\n",
    "df_planilha_aba1.head()"
   ]
  },
  {
   "attachments": {},
   "cell_type": "markdown",
   "metadata": {},
   "source": [
    "### Verificar se o procedimento informado é valido "
   ]
  },
  {
   "cell_type": "code",
   "execution_count": null,
   "metadata": {},
   "outputs": [],
   "source": [
    "df_planilha_aba1['PROC_VALIDO'] = np.where(df_planilha_aba1['COD_PROCEDIMENTO'].isin(df_sigtap['COD_PROCEDIMENTO']), '-','NÃO')\n",
    "df_planilha_aba1.head()"
   ]
  },
  {
   "attachments": {},
   "cell_type": "markdown",
   "metadata": {},
   "source": [
    "### Verificar habilitação x CNES"
   ]
  },
  {
   "cell_type": "code",
   "execution_count": null,
   "metadata": {},
   "outputs": [],
   "source": [
    "df_planilha_aba2_h = df_planilha_aba2[['CNES','COD_PROCEDIMENTO']] # Cria um novo dataframe com as colunas 'CNES','COD_PROCEDIMENTO',\n",
    "df_planilha_aba2_h.drop_duplicates(subset='COD_PROCEDIMENTO', keep='first', inplace=True) # Remove os valores duplicados da coluna 'COD_PROCEDIMENTO'\n",
    "df_planilha_aba2_h['PROC_HABILITACAO'] = df_planilha_aba2_h['COD_PROCEDIMENTO'].map(df_sigtap_h.set_index('COD_PROCEDIMENTO')['EXIGE HABILITACAO']) # Adiciona uma nova coluna com a informação de habilitação do procedimento\n",
    "df_planilha_aba2_h = df_planilha_aba2_h.merge(df_sigtap_h[['COD_PROCEDIMENTO','CO_HABILITACAO']], on='COD_PROCEDIMENTO', how='left') # Adiciona a coluna 'PROC_VALIDO' ao dataframe\n",
    "df_planilha_aba2_h = df_planilha_aba2_h.merge(df_cnes_habilitacao[['CNES','CO_CODIGO_GRUPO']], on='CNES', how='left') # Adiciona a coluna 'PROC_VALIDO' ao dataframe\n",
    "df_planilha_aba2_h.drop(df_planilha_aba2_h.loc[df_planilha_aba2_h['PROC_HABILITACAO'] == '-'].index, inplace=True) # Remove os procedimentos que não exigem habilitação\n",
    "df_planilha_aba2_h['CNES_HABILITADO'] = np.where(df_planilha_aba2_h['CO_CODIGO_GRUPO'].isin(df_planilha_aba2_h['CO_HABILITACAO']), 'SIM','EXIGE_HAB') # Adiciona a coluna 'CNES_HABILITADO' ao dataframe\n",
    "df_planilha_aba2_h.drop_duplicates(subset='COD_PROCEDIMENTO', keep='first', inplace=True) # Remove os valores duplicados da coluna 'CNES'\n",
    "df_planilha_aba2 = df_planilha_aba2.merge(df_planilha_aba2_h[['CNES','COD_PROCEDIMENTO','CNES_HABILITADO']], on=['CNES','COD_PROCEDIMENTO'], how='left') # Adiciona a coluna 'CNES_HABILITADO' ao dataframe\n",
    "df_planilha_aba2.drop_duplicates(subset='LINHA', keep='first', inplace=True) # Remove os valores duplicados da coluna 'CNES'\n",
    "df_planilha_aba2.head()"
   ]
  },
  {
   "attachments": {},
   "cell_type": "markdown",
   "metadata": {},
   "source": [
    "### Verificar serviços/class x CNES"
   ]
  },
  {
   "cell_type": "code",
   "execution_count": null,
   "metadata": {},
   "outputs": [],
   "source": [
    "df_planilha_aba2_s = df_planilha_aba2[['CNES','COD_PROCEDIMENTO']] # Cria um novo dataframe com as colunas 'CNES','COD_PROCEDIMENTO',\n",
    "df_planilha_aba2_s.drop_duplicates(subset='COD_PROCEDIMENTO', keep='first', inplace=True) # Remove os valores duplicados da coluna 'COD_PROCEDIMENTO'\n",
    "df_planilha_aba2_s['EXIGE SERVIÇO'] = df_planilha_aba2_s['COD_PROCEDIMENTO'].map(df_sigtap_s.set_index('COD_PROCEDIMENTO')['EXIGE SERVIÇO']) # Adiciona uma nova coluna com a informação de habilitação do procedimento\n",
    "df_planilha_aba2_s = df_planilha_aba2_s.merge(df_sigtap_s[['COD_PROCEDIMENTO','CO_SERVICO']], on='COD_PROCEDIMENTO', how='left') # Adiciona a coluna 'PROC_VALIDO' ao dataframe\n",
    "df_cnes_servicos = df_cnes_servicos.rename(columns={\"CO_CNES\": \"CNES\"}) # Renomeia a coluna 'CO_CNES' para 'CNES'\n",
    "df_planilha_aba2_s = df_planilha_aba2_s.merge(df_cnes_servicos[['CNES','CO_SERVICO']], on='CNES', how='left') # Adiciona a coluna 'PROC_VALIDO' ao dataframe\n",
    "df_planilha_aba2_s.drop(df_planilha_aba2_s.loc[df_planilha_aba2_s['EXIGE SERVIÇO'] == '-'].index, inplace=True) # Remove os procedimentos que não exigem habilitação\n",
    "df_planilha_aba2_s['CNES_SERVICO'] = np.where(df_planilha_aba2_s['CO_SERVICO_x'].isin(df_planilha_aba2_s['CO_SERVICO_y']), '-','EXIGE_SERV') # Adiciona a coluna 'CNES_HABILITADO' ao dataframe\n",
    "df_planilha_aba2_s.drop_duplicates(subset='COD_PROCEDIMENTO', keep='first', inplace=True) # Remove os valores duplicados da coluna 'CNES'\n",
    "df_planilha_aba2 = df_planilha_aba2.merge(df_planilha_aba2_s[['CNES','COD_PROCEDIMENTO','CNES_SERVICO']], on=['CNES','COD_PROCEDIMENTO'], how='left') # Adiciona a coluna 'CNES_HABILITADO' ao dataframe\n",
    "df_planilha_aba2.drop_duplicates(subset='LINHA', keep='first', inplace=True) # Remove os valores duplicados da coluna 'CNES'\n",
    "df_planilha_aba2.head()"
   ]
  },
  {
   "attachments": {},
   "cell_type": "markdown",
   "metadata": {},
   "source": [
    "### Verificar tipo de Gestão"
   ]
  },
  {
   "cell_type": "code",
   "execution_count": null,
   "metadata": {},
   "outputs": [],
   "source": [
    "df_planilha_aba2_g = df_planilha_aba2[['CNES','GESTAO','LINHA']] # Cria um novo dataframe com as colunas 'CNES','COD_PROCEDIMENTO', \n",
    "df_cnes_gestao = df_cnes_leitos[['CO_CNES','TP_GESTAO']] # Cria um novo dataframe com as colunas 'CNES','COD_PROCEDIMENTO',]\n",
    "df_cnes_gestao = df_cnes_gestao.rename(columns={\"CO_CNES\": \"CNES\"}) # Renomeia a coluna 'CO_CNES' para 'CNES'\n",
    "df_planilha_aba2_g = df_planilha_aba2_g.merge(df_cnes_gestao[['CNES','TP_GESTAO']], on='CNES', how='left') # Adiciona a coluna 'PROC_VALIDO' ao dataframe\n",
    "df_planilha_aba2_g['TP_GESTAO'] = df_planilha_aba2_g['TP_GESTAO'].replace({'M': 'MUNICIPAL', 'E': 'ESTADUAL', 'D': 'DUPLA'})\n",
    "df_planilha_aba2_g.drop_duplicates(subset='LINHA', keep='first', inplace=True) # Remove os valores duplicados da coluna 'COD_PROCEDIMENTO'\n",
    "\n",
    "df_planilha_aba2_g['GESTAO_VALIDA'] =   np.where((df_planilha_aba2_g['GESTAO'] == 'MUNICIPAL') & (df_planilha_aba2_g['TP_GESTAO'] == 'MUNICIPAL'), '-', \n",
    "                                        np.where((df_planilha_aba2_g['GESTAO'] == 'ESTADUAL') & (df_planilha_aba2_g['TP_GESTAO'] == 'ESTADUAL'), '-', \n",
    "                                        np.where((df_planilha_aba2_g['GESTAO'] == 'MUNICIPAL') & (df_planilha_aba2_g['TP_GESTAO'] == 'DUPLA'), '-', \n",
    "                                        np.where((df_planilha_aba2_g['GESTAO'] == 'ESTADUAL') & (df_planilha_aba2_g['TP_GESTAO'] == 'DUPLA'), '-', \n",
    "                                        np.where((df_planilha_aba2_g['GESTAO'] == 'MUNICIPAL') & (df_planilha_aba2_g['TP_GESTAO'] == 'ESTADUAL'), 'NÃO', \n",
    "                                        np.where((df_planilha_aba2_g['GESTAO'] == 'ESTADUAL') & (df_planilha_aba2_g['TP_GESTAO'] == 'MUNICIPAL'), 'NÃO', '-')))))) # verificar gestão\n",
    "\n",
    "df_planilha_aba2 = df_planilha_aba2.merge(df_planilha_aba2_g[['LINHA','GESTAO_VALIDA']], on='LINHA', how='left') # Adiciona a coluna 'CNES_HABILITADO' ao dataframe\n",
    "df_planilha_aba2.head()"
   ]
  },
  {
   "attachments": {},
   "cell_type": "markdown",
   "metadata": {},
   "source": [
    "### Somas TOTAIS"
   ]
  },
  {
   "cell_type": "code",
   "execution_count": null,
   "metadata": {},
   "outputs": [],
   "source": [
    "quant_cnes = df_planilha_aba2['CNES'].nunique() # Quantidade de CNES\n",
    "quant_cnes_municipal = df_planilha_aba2['CNES'].loc[df_planilha_aba2['GESTAO'] == 'MUNICIPAL'].nunique() # Quantidade de municípios\n",
    "quant_cnes_estadual = df_planilha_aba2['CNES'].loc[df_planilha_aba2['GESTAO'] == 'ESTADUAL'].nunique() # Quantidade de estadual"
   ]
  },
  {
   "attachments": {},
   "cell_type": "markdown",
   "metadata": {},
   "source": [
    "## Analise e tratamento da PLANILHA ABA 3"
   ]
  },
  {
   "cell_type": "code",
   "execution_count": null,
   "metadata": {},
   "outputs": [],
   "source": [
    "df_planilha_aba3 = pd.read_excel(df_planilha, sheet_name='Execução') # Lê o arquivo excel\n",
    "df_planilha_aba3.head(10) # Exibe as 5 primeiras linhas do arquivo"
   ]
  },
  {
   "cell_type": "code",
   "execution_count": null,
   "metadata": {},
   "outputs": [],
   "source": [
    "valor_portaria = df_planilha_aba3.iloc[0,3] # Armazena o valor da portaria\n",
    "df_planilha_aba3.drop(df_planilha_aba3.index[0:6], inplace=True) # Remove as 5 primeiras linhas do arquivo\n",
    "df_planilha_aba3.rename(columns={'Distribuição e Cronograma da Execução do Recurso Financeiro':'CODIGO GESTOR','Unnamed: 1':'GESTÃO','Unnamed: 2':'DESC_GESTOR','Unnamed: 3':'VALOR','Unnamed: 4':'MARÇO',\n",
    "                                 'Unnamed: 5':'ABRIL','Unnamed: 6':'MAIO','Unnamed: 7':'JUNHO','Unnamed: 8':'JULHO','Unnamed: 9':'AGOSTO','Unnamed: 10':'SETEMBRO','Unnamed: 11':'OUTUBRO',\n",
    "                                 'Unnamed: 12':'NOVEMBRO','Unnamed: 13':'DEZEMBRO','Unnamed: 14':'TOTAL_%','SQ (CODIGO Interno':'LINHA'}, inplace=True)\n",
    "df_planilha_aba3.drop(df_planilha_aba3.tail(1).index,inplace=True) # Removendo a última linha do arquivo\n",
    "df_planilha_aba3.dropna(subset=['CODIGO GESTOR'], inplace=True) # Removendo linhas com valores nulos\n",
    "valor_total = df_planilha_aba3['VALOR'].sum() # Soma o valor total da coluna 'VALOR'\n",
    "df_planilha_aba3['VALOR'] = df_planilha_aba3['VALOR'].astype(float) # Converte a coluna 'VALOR' para float\n",
    "df_planilha_aba3['VALOR_R'] = df_planilha_aba3['VALOR'].apply(lambda x: 'R$ ' + format(x, ',.2f').replace('.', '#').replace(',', '.').replace('#', ',')) # Formata a coluna 'VALOR' para moeda\n",
    "\n",
    "df_planilha_aba3.head() # Exibe as 5 primeiras linhas do arquivo"
   ]
  },
  {
   "cell_type": "code",
   "execution_count": null,
   "metadata": {},
   "outputs": [],
   "source": [
    "df_planilha_aba3['CODIGO GESTOR'] = df_planilha_aba3['CODIGO GESTOR'].astype(int) # Converte a coluna 'MUNIC_PRESTADOR' para string\n",
    "df_planilha_aba2['CO_MUNICIPIO_GESTOR'] = df_planilha_aba2['CO_MUNICIPIO_GESTOR'].replace(np.nan, 0) # Substitui os valores nulos por 0\n",
    "df_planilha_aba2['CO_MUNICIPIO_GESTOR'] = df_planilha_aba2['CO_MUNICIPIO_GESTOR'].astype(int) # Converte a coluna 'CO_MUNICIPIO_GESTOR' para string\n",
    "df_planilha_aba3['MUNIC_PRESTADOR'] = np.where(df_planilha_aba3['CODIGO GESTOR'].isin(df_planilha_aba2['CO_MUNICIPIO_GESTOR']), 'SIM','NÃO')\n",
    "df_planilha_aba3_m = df_planilha_aba3[df_planilha_aba3['GESTÃO'] == 'MUNICIPAL'] # Filtra os dados da aba 3 que possuem gestão municipal\n",
    "df_teto['Código IBGE'] = df_teto['Código IBGE'].astype(int) # Converte a coluna 'Código IBGE' para string\n",
    "df_planilha_aba3 = pd.merge(df_planilha_aba3, df_teto, left_on='CODIGO GESTOR', right_on='Código IBGE', how='left') # Realiza o merge das duas planilhas\n",
    "\n",
    "\n",
    "df_planilha_aba2_g['TP_GESTAO'] = df_planilha_aba2_g['TP_GESTAO'].replace({'M': 'MUNICIPAL', 'E': 'ESTADUAL', 'D': 'DUPLA'})"
   ]
  },
  {
   "cell_type": "code",
   "execution_count": null,
   "metadata": {},
   "outputs": [],
   "source": [
    "df_planilha_aba3.drop(['Código IBGE', 'Código Gestão', 'Descrição Gestão'], axis=1, inplace=True) # Remove a coluna 'Código IBGE'\n",
    "df_planilha_aba3.rename(columns={'Descrição Gestão':'DESC_GESTOR','Estado / Município':'DESC_GESTOR_C','Teto Financeiro MAC - Valores Anuais (R$)':'TETO_FINANC_ANO'}, inplace=True) # Renomeia a coluna 'Descrição Gestão'\n",
    "df_planilha_aba3['TETO_FINANC_ANO'] = df_planilha_aba3['TETO_FINANC_ANO'].astype(float) # Converte a coluna 'TETO_FINANC_ANO' para float\n",
    "df_planilha_aba3['TETO_FINANC_MES'] = df_planilha_aba3['TETO_FINANC_ANO'] / 12 # Calcula o teto financeiro mensal\n",
    "df_planilha_aba3.dropna(subset=['DESC_GESTOR'], inplace=True) # Remove as linhas com valores nulos\n",
    "\n",
    "df_planilha_aba3.head()"
   ]
  },
  {
   "cell_type": "code",
   "execution_count": null,
   "metadata": {},
   "outputs": [],
   "source": [
    "df_planilha_aba3['VALOR'] = df_planilha_aba3['VALOR'].astype(float) # Converte a coluna 'VALOR' para float\n",
    "df_planilha_aba3['VALOR'] = df_planilha_aba3['VALOR'].apply(lambda x: 'R$ ' + format(x, ',.2f').replace('.', '#').replace(',', '.').replace('#', ',')) # Formata a coluna 'VALOR' para moeda\n",
    "df_planilha_aba3['TETO_FINANC_ANO'] = df_planilha_aba3['TETO_FINANC_ANO'].astype(float) # Converte a coluna 'TETO_FINANC_MES' para float\n",
    "df_planilha_aba3['TETO_FINANC_ANO'] = df_planilha_aba3['TETO_FINANC_ANO'].apply(lambda x: 'R$ ' + format(x, ',.2f').replace('.', '#').replace(',', '.').replace('#', ',')) # Formata a coluna 'TETO_FINANC_MES' para moeda\n",
    "df_planilha_aba3['TETO_FINANC_MES'] = df_planilha_aba3['TETO_FINANC_MES'].astype(float) # Converte a coluna 'TETO_FINANC_MES' para float\n",
    "df_planilha_aba3['TETO_FINANC_MES'] = df_planilha_aba3['TETO_FINANC_MES'].apply(lambda x: 'R$ ' + format(x, ',.2f').replace('.', '#').replace(',', '.').replace('#', ',')) # Formata a coluna 'TETO_FINANC_MES' para moeda\n",
    "\n",
    "cols = ['MARÇO','ABRIL','MAIO','JUNHO','JULHO','AGOSTO','SETEMBRO','OUTUBRO','NOVEMBRO','DEZEMBRO','TOTAL_%'] # Lista de colunas\n",
    "df_planilha_aba3[cols] = df_planilha_aba3[cols].fillna(0).astype(float) # Converte os valores para float\n",
    "df_planilha_aba3[cols] = df_planilha_aba3[cols].applymap(lambda x: '{:.0%}'.format(float(x))) # Formata as colunas para porcentagem\n",
    "\n",
    "\n",
    "df_planilha_aba3.head() "
   ]
  },
  {
   "attachments": {},
   "cell_type": "markdown",
   "metadata": {},
   "source": [
    "### Verificar se a CNES de gestão Municipal esta contemplado na Execução"
   ]
  },
  {
   "cell_type": "code",
   "execution_count": null,
   "metadata": {},
   "outputs": [],
   "source": [
    "df_planilha_aba2_e = df_planilha_aba2[['CNES','GESTAO','CO_MUNICIPIO_GESTOR']] # Filtra as colunas 'CNES' e 'GESTAO' da aba 2\n",
    "df_planilha_aba2_e.drop(df_planilha_aba2_e.loc[df_planilha_aba2_e['GESTAO']!='MUNICIPAL'].index, inplace=True) # Remove as linhas que possuem gestão municipal\n",
    "df_planilha_aba2_e = df_planilha_aba2_e.drop_duplicates() # Remove as linhas duplicadas\n",
    "df_planilha_aba2_e['CNES GESTÃO MUNIC_X EXECUÇÃO'] = np.where(df_planilha_aba2_e['CO_MUNICIPIO_GESTOR'].isin(df_planilha_aba3['CODIGO GESTOR']), '-','NÃO') # Verifica se o CNES da aba 2 está na aba 3\n",
    "df_planilha_aba2 = df_planilha_aba2.merge(df_planilha_aba2_e[['CNES','CNES GESTÃO MUNIC_X EXECUÇÃO']], on='CNES', how='left') # Realiza o merge das duas planilhas\n",
    "df_planilha_aba2.head ()"
   ]
  },
  {
   "attachments": {},
   "cell_type": "markdown",
   "metadata": {},
   "source": [
    "### Somas TOTAIS"
   ]
  },
  {
   "cell_type": "code",
   "execution_count": null,
   "metadata": {},
   "outputs": [],
   "source": [
    "valor_portaria = round(valor_portaria, 2) # Arredonda o valor da portaria para duas casas decimais\n",
    "valor_total = round(valor_total, 2) # Arredonda o valor total para duas casas decimais\n",
    "\n",
    "diferenca = valor_portaria - valor_total # Calcula a diferença entre o valor da portaria e o valor total\n",
    "valor_total = 'R$ ' + format(valor_total, ',.2f').replace('.', '#').replace(',', '.').replace('#', ',') # Formata o valor total para moeda\n",
    "\n",
    "uf = df_planilha_aba3.loc[df_planilha_aba3['GESTÃO'] == 'ESTADUAL', 'DESC_GESTOR'].iloc[0].upper()"
   ]
  },
  {
   "attachments": {},
   "cell_type": "markdown",
   "metadata": {},
   "source": [
    "# RELATORIO FINAL (ANALISE)"
   ]
  },
  {
   "cell_type": "code",
   "execution_count": null,
   "metadata": {},
   "outputs": [],
   "source": [
    "caminho_nova_pasta = \"RESULTADOS\"\n",
    "\n",
    "try:\n",
    "    os.mkdir(caminho_nova_pasta)\n",
    "    print(\"Pasta criada com sucesso!\")\n",
    "except OSError as erro:\n",
    "    print(f\"Não foi possível criar a pasta: {erro}\")"
   ]
  },
  {
   "cell_type": "code",
   "execution_count": null,
   "metadata": {},
   "outputs": [],
   "source": [
    "df_planilha = os.path.splitext(os.path.basename(df_planilha))[0] # Pega o nome do arquivo sem a extensão\n",
    "file_nome = df_planilha.split('/')[-1] # Pega o nome do arquivo\n",
    "writer = pd.ExcelWriter(f'RESULTADOS/{file_nome}_resultado.xlsx', engine='xlsxwriter') # Cria um arquivo excel\n",
    "\n",
    "df_planilha_aba1.to_excel(writer, sheet_name='Aba 1', index=False)\n",
    "df_planilha_aba2.to_excel(writer, sheet_name='Aba 2', index=False)\n",
    "df_planilha_aba3.to_excel(writer, sheet_name='Aba 3', index=False)\n",
    "\n",
    "writer.save()\n",
    "writer.close()\n"
   ]
  },
  {
   "attachments": {},
   "cell_type": "markdown",
   "metadata": {},
   "source": [
    "## Tempo de execução"
   ]
  },
  {
   "cell_type": "code",
   "execution_count": null,
   "metadata": {},
   "outputs": [],
   "source": [
    "tempo_final = time.time()\n",
    "tempo_total = int(tempo_final - tempo_inicial)\n",
    "\n",
    "minutos = tempo_total // 60\n",
    "segundos = tempo_total % 60\n",
    "\n",
    "data_hora_atual = datetime.now() # Pega a data e hora atual\n",
    "\n",
    "print(f\"Tempo total de execução: {minutos} minutos e {segundos} segundos.\")"
   ]
  },
  {
   "attachments": {},
   "cell_type": "markdown",
   "metadata": {},
   "source": [
    "# SALVANDO OS RESULTADOS    "
   ]
  },
  {
   "cell_type": "code",
   "execution_count": null,
   "metadata": {},
   "outputs": [],
   "source": [
    "#Criar arquivo txt resultado em modo de escrita\n",
    "arquivo = open(f'RESULTADOS/{file_nome}_resultado.txt', 'w')\n",
    "\n",
    "\n",
    "\n",
    "\n",
    "# Informações do arquivo\n",
    "print(f\"\\n=============================================== INFORMAÇÕES DO ARQUIVO ================================================\", file=arquivo)\n",
    "\n",
    "print(f\"\\n======================================================[ ABA 1 ]========================================================\", file=arquivo)\n",
    "\n",
    "if quant_reducao == '0':\n",
    "    print(f\" [ERRO] - ABA 1 - NÃO existem reduções de procedimentos, campos zerado; ============> SOMA DA COLUNA [QUANT_REDUCAO](F)\", file=arquivo)\n",
    "else:\n",
    "    print(f\" [OK] - ABA 1 - Existem reduções de prodimentos conforme programado; ===============> SOMA DA COLUNA [QUANT_REDUCAO](F)\", file=arquivo)\n",
    "\n",
    "  \n",
    "# Verificação de procedimentos duplicados\n",
    "if df_planilha_aba1['M_DUPLICADO'].str.contains('SIM').any():\n",
    "    print(f\" [ERRO] - ABA 1 - Existem procedimentos na Fila, duplicado; ==========================> NOME DA COLUNA [M_DUPLICADO](H)\", file=arquivo)\n",
    "else:\n",
    "    print(f\" [OK] - ABA 1 - Não existem procedimentos duplicados; ================================> NOME DA COLUNA [M_DUPLICADO](H)\", file=arquivo)\n",
    "\n",
    "# VerificaçãO de procedimentos com quantidade menor que 1\n",
    "if df_planilha_aba1['QUANT_ZERO'].str.contains('ERRO_QUANT').any():   \n",
    "    print(f\" [ERRO] - ABA 1 - Existem procedimentos na Fila,cuja quantidade de cirurgia ficou inferior a 1 PACIENTE;['QUANT_ZERO'](I)\", file=arquivo)\n",
    "else:\n",
    "    print(f\" [OK] - ABA 1 - Não existem procedimentos com quantidade menor que 1; ===============> NOME DA COLUNA ['QUANT_ZERO'](I)\", file=arquivo)\n",
    "\n",
    "# Verificar porcentagem  de procedimentos com quantidade \n",
    "if df_planilha_aba1['PERC_REDUCAO'].apply(lambda x: x > 1).any():\n",
    "    print(f\" [ERRO] - ABA 1 - Existem procedimentos na Fila com mais de 100% de redução; ====> VERIFICAR COLUNA ['PERC_REDUCAO'](D)\", file=arquivo)\n",
    "else:\n",
    "    print(f\" [OK] - ABA 1 - Não existem procedimentos na Fila com mais de 100% de redução; ==> VERIFICAR COLUNA ['PERC_REDUCAO'](D)\", file=arquivo)\n",
    "\n",
    "periodo_atedimento = df_planilha_aba1.loc[df_planilha_aba1['QUANT_REDUCAO'] > 0, 'TEMPO_MESES'].max()\n",
    "\n",
    "# Verificar prazo de atendimento\n",
    "if df_planilha_aba1['TEMPO_MESES'].apply(pd.isna).any():\n",
    "#  df_planilha_aba1['QUANT_REDUCAO'] > 0 and df_planilha_aba1['TEMPO_MESES'].apply(pd.isna).any():   \n",
    " #                                        df_planilha_aba1['TEMPO_MESES'].apply(pd.isna).any():\n",
    "    print(f\" [ERRO] - ABA 1 - Existem procedimentos na Fila sem prazo de atendimento; ========> VERIFICAR COLUNA ['TEMPO_MESES'](E)\", file=arquivo)\n",
    "else:\n",
    "    print(f\" [OK] - ABA 1 - Não existem procedimentos na Fila sem prazo de atendimento; ======> VERIFICAR COLUNA ['TEMPO_MESES'](E)\", file=arquivo)\n",
    "\n",
    "# Verificação de procedimentos inválidos\n",
    "if df_planilha_aba1['PROC_VALIDO'].str.contains('NÃO').any():\n",
    "    print(f\" [ERRO] - ABA 1 - Existem procedimentos na Fila, que não são válidos; ==============> NOME DA COLUNA ['PROC_VALIDO'](M)\", file=arquivo)\n",
    "else:\n",
    "    print(f\" [OK] - ABA 1 - Não existem procedimentos inválidos; ===============================> NOME DA COLUNA ['PROC_VALIDO'](M)\", file=arquivo)\n",
    "\n",
    "# Verificação de procedimentos sem prestador\n",
    "if df_planilha_aba1['POSSUI_PRESTADOR'].str.contains('NÃO').any():\n",
    "    print(f\" [ERRO] - ABA 1/2 - Existem procedimentos na Fila, cuja não existe prestador; => NOME DA COLUNA ['POSSUI_PRESTADOR'](L)\", file=arquivo)\n",
    "else:\n",
    "    print(f\" [OK] - ABA 1/2 - Não existem procedimentos sem prestador; ====================> NOME DA COLUNA ['POSSUI_PRESTADOR'](L)\", file=arquivo)\n",
    "\n",
    "\n",
    "\n",
    "print(f\"\\n\\n======================================================[ ABA 2 ]========================================================\", file=arquivo)\n",
    "\n",
    "# Verificação de prestadores sem procedimento\n",
    "if df_planilha_aba2['PROC_INFORMADO'].str.contains('NÃO').any():\n",
    "    print(f\" [ERRO] - ABA 2/1 - Existem prestador na Fila, que não possuem procedimentos; ===> NOME DA COLUNA ['PROC_INFORMADO'](M)\", file=arquivo)\n",
    "else:\n",
    "    print(f\" [OK] - ABA 2/1 - Não existem prestadores sem procedimentos; ====================> NOME DA COLUNA ['PROC_INFORMADO'](M)\", file=arquivo)\n",
    "\n",
    "# Verificação de CNES ativo\n",
    "if df_planilha_aba2['CNES_ATIVO'].str.contains('NÃO').any():\n",
    "    print(f\" [ERRO] - ABA 2 - Existem CNES inativos; ============================================> NOME DA COLUNA ['CNES_ATIVO'](L)\", file=arquivo)\n",
    "else:\n",
    "    print(f\" [OK] - ABA 2 - Não existem CNES inativos; ==========================================> NOME DA COLUNA ['CNES_ATIVO'](L)\", file=arquivo)\n",
    "\n",
    "# Verificação de CNES habilitado\n",
    "if df_planilha_aba2['CNES_HABILITADO'].str.contains('EXIGE_HAB').any():\n",
    "    print(f\" [ALERTA] - ABA 2 - Existem CNES não habilitados; ==============================> NOME DA COLUNA ['CNES_HABILITADO'](N)\", file=arquivo)\n",
    "else:\n",
    "    print(f\" [OK] - ABA 2 - Não existem CNES não habilitados; ==============================> NOME DA COLUNA ['CNES_HABILITADO'](N)\", file=arquivo)\n",
    "\n",
    "# Verificação de CNES serviço ativo\n",
    "if df_planilha_aba2['CNES_SERVICO'].str.contains('EXIGE_SERV').any():\n",
    "    print(f\" [ALERTA] - ABA 2 - Existem CNES não serviço/class;==================================> NOME DA COLUNA [CNES_SERVICO](O)\", file=arquivo)\n",
    "else:\n",
    "    print(f\" [OK] - ABA 2 - Não existem CNES não serviço/class;==================================> NOME DA COLUNA [CNES_SERVICO](O)\", file=arquivo)\n",
    "\n",
    "# CNES GESTÃO MUNIC_X EXECUÇÃO\n",
    "if df_planilha_aba2['CNES GESTÃO MUNIC_X EXECUÇÃO'].str.contains('NÃO').any():\n",
    "    print(f\" [ERRO] - ABA 2 - Existem CNES de gestão municipal não relacionado na ABA 3; =====> ['CNES GESTÃO MUNIC_X EXECUÇÃO'](Q)\", file=arquivo)\n",
    "else:\n",
    "    print(f\" [OK] - ABA 2 - CNES de gestão municipal relacionado na ABA3; =====> NOME DA COLUNA ['CNES GESTÃO MUNIC_X EXECUÇÃO'](Q)\", file=arquivo)\n",
    "\n",
    "# CNES GESTÃO ESTAD_X EXECUÇÃO\n",
    "if df_planilha_aba2['GESTAO_VALIDA'].str.contains('NÃO').any():\n",
    "    print(f\" [ALERTA] - ABA 2 - Existem CNES informado com gestão diferente do CNES-WEB; =====> NOME DA COLUNA ['GESTAO_VALIDA'](R)\", file=arquivo)\n",
    "else:\n",
    "    print(f\" [OK] - ABA 2 - CNES informado com gestão igual ao CNES-WEB; =====================> NOME DA COLUNA ['GESTAO_VALIDA'](R)\", file=arquivo)\n",
    "\n",
    "# CONTRATO/SERVIÇO SUS\n",
    "#if df_planilha_aba2['CONTRATO SUS'].str.contains('NÃO').any():\n",
    " #   print(f\" [ALERTA] - ABA 2 - Existem CNES sem contrato/serviço SUS;\", file=arquivo)\n",
    "#else:\n",
    "#    print(f\" [OK] - ABA 2 - Não existem CNES sem contrato/serviço SUS;\", file=arquivo)\n",
    "\n",
    "\n",
    "\n",
    "print(f\"\\n\\n======================================================[ ABA 3 ]========================================================\", file=arquivo)\n",
    "\n",
    "# Verificar se existe município com repasse, mas não existe CNES relacionado ao municipio\n",
    "if df_planilha_aba3_m['MUNIC_PRESTADOR'].str.contains('NÃO').any():   \n",
    "    print(f\" [ERRO] - ABA 3 - Existem municipio com repasse, mas não existe CNES relacionado ao município;=> ['MUNIC_PRESTADOR'](R)\", file=arquivo)\n",
    "else:   \n",
    "    print(f\" [OK] - ABA 3 - Relação de município desacordo com o CNES; =====================> NOME DA COLUNA ['MUNIC_PRESTADOR'](R)\", file=arquivo)\n",
    "\n",
    "# Verificar valor de portaria\n",
    "if diferenca == 0:\n",
    "    print(f\" [OK] - ABA 3 - Valor programado igual ao valor alocado na Portaria 90; ====================> SOMA DA COLUNA [VALOR](D)\", file=arquivo)\n",
    "else:   \n",
    "    print(f\" [ERRO] - ABA 3 - Valor programado diferente do valor alocado na Portaria 90; (Valor diferente: {locale.currency(diferenca, grouping=True)})\", file=arquivo)\n",
    "\n",
    "\n",
    "\n",
    "print(f\"\\n\\n=====================================================[ ARQUIVO ]=======================================================\", file=arquivo)\n",
    "\n",
    "print(f\" [OK] - Arquivo enviado pelo gestor: '{file_nome}';\", file=arquivo)\n",
    "print(f\" [OK] - Arquivo TXT: '{file_nome} - resultado.txt'  gerado com sucesso;\", file=arquivo)\n",
    "print(f\" [OK] - Arquivo XLS: '{file_nome} - resultado.xlsx' gerado com sucesso;\", file=arquivo)\n",
    "\n",
    "# RESULTADO FINAL\n",
    "print(f\"\\n \\n=================================================== RESULTADO FINAL ===================================================  \\n\", file=arquivo)\n",
    "print(f\" UF DO PLANO DE AÇÃO ===========================================> {uf}\", file=arquivo)\n",
    "print(f\" QUANTIDADE DE SOLICITAÇÕES NA FILA ATÉ DIA 31/12/22 ===========> {quant_fila}\", file=arquivo)\n",
    "print(f\" QTDE DE CIRURGIAS A SEREM FEITAS NO PRAZO PACTUADO  ===========> {quant_reducao}\", file=arquivo)\n",
    "print(f\" QTDE PROCEDIMENTO CIRURGICOS INFORMADO NA FILA   ==============> {quant_prodedimentos}\", file=arquivo)\n",
    "print(f\" REDUÇÃO DO TAMANHO DA FILA (%) - MAX e MIN ====================> {reducao_max}% e {reducao_min}%\", file=arquivo)\n",
    "print(f\" PRAZO PARA OS ATENDIMENTOS ====================================> {periodo_atendimento} meses\", file=arquivo)\n",
    "print(f\" TOTAL DE ESTABELECIMENTOS CNES ================================> {quant_cnes}\", file=arquivo)\n",
    "print(f\" TOTAL DE ESTABELECIMENTOS EM GESTÃO MUNICIPAL =================> {quant_cnes_municipal}\", file=arquivo)\n",
    "print(f\" TOTAL DE ESTABELECIMENTOS EM GESTÃO ESTADUAL ==================> {quant_cnes_estadual}\", file=arquivo)\n",
    "\n",
    "print(f\" VALOR TOTAL ALOCADO NA PLANILHA ===============================> {valor_total}\", file=arquivo)\n",
    "print(f\" VALOR TOTAL ALOCADO NA PORTARIA 90 ============================> {locale.currency(valor_portaria, grouping=True)}\", file=arquivo)\n",
    "\n",
    "print(f\"\\n \\n====================================================== VERSÃO 2.7.10 ==================================================\", file=arquivo)\n",
    "\n",
    "# Tempo de execução\n",
    "print(f\" [TEMPO] - Total de execução: ===============================================================> {minutos} minutos e {segundos} segundos\", file=arquivo)\n",
    "print(f\" [DATA HORA] - Data e hora de execução: ============================================================>\", data_hora_atual.strftime(\"%d/%m/%Y %H:%M\"), file=arquivo)\n",
    "\n",
    "# Fechar arquivo txt\n",
    "arquivo.close()"
   ]
  },
  {
   "cell_type": "code",
   "execution_count": null,
   "metadata": {},
   "outputs": [],
   "source": [
    "arquivo.close()"
   ]
  }
 ],
 "metadata": {
  "kernelspec": {
   "display_name": "Python 3",
   "language": "python",
   "name": "python3"
  },
  "language_info": {
   "codemirror_mode": {
    "name": "ipython",
    "version": 3
   },
   "file_extension": ".py",
   "mimetype": "text/x-python",
   "name": "python",
   "nbconvert_exporter": "python",
   "pygments_lexer": "ipython3",
   "version": "3.9.13"
  },
  "orig_nbformat": 4,
  "vscode": {
   "interpreter": {
    "hash": "f7f8c097c8b77234b1554043a16e456bc3013eb7e1454957444d1d61c725966c"
   }
  }
 },
 "nbformat": 4,
 "nbformat_minor": 2
}
