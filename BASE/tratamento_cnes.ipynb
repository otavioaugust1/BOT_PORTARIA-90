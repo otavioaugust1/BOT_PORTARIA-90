{
 "cells": [
  {
   "cell_type": "markdown",
   "metadata": {},
   "source": []
  },
  {
   "cell_type": "code",
   "execution_count": null,
   "metadata": {},
   "outputs": [],
   "source": [
    "#Pandas: Possui inúmeras funções e comandos para importar arquivos, analisar dados, tratar dados, etc.\n",
    "import pandas as pd # importando a biblioteca pandas\n",
    "\n",
    "#Numpy: Possui uma série de funções e comandos para trabalharmos com números de forma em geral(formatação, calculos, etc)\n",
    "import numpy as np # importando a biblioteca numpy\n",
    "\n",
    "#Time: Possui uma série de funções e comandos para trabalharmos com tempo\n",
    "import time # importando a biblioteca time\n",
    "\n",
    "#Zipfile: Possui uma série de funções e comandos para trabalharmos com arquivos zip\n",
    "import zipfile # importando a biblioteca zipfile\n",
    "\n",
    "#Warnings: Possui detalhes sobre os avisos e alertas que aparecem, porém podemos utiliza-lo também para que os alertas de\n",
    "#futuras atualizações e metodos depreciados não sejam exibidos\n",
    "import warnings\n",
    "warnings.filterwarnings(\"ignore\") \n",
    "tempo_inicial = time.time() # tempo inicial para calcular o tempo de execução do código\n",
    "\n",
    "from glob import glob # Utilizado para listar arquivos de um diretório\n",
    "\n",
    "#Comando para exibir todas colunas do arquivo\n",
    "pd.set_option('display.max_columns', None)\n",
    "pd.set_option('display.max_rows', None)"
   ]
  },
  {
   "attachments": {},
   "cell_type": "markdown",
   "metadata": {},
   "source": [
    "# Importação dos dados CNES, Analise e Tratamento de Dados"
   ]
  },
  {
   "cell_type": "code",
   "execution_count": null,
   "metadata": {},
   "outputs": [],
   "source": [
    "df_cnes = pd.read_csv('CNES.csv', sep=';', encoding='latin-1', low_memory=False)\n",
    "df_cnes.head()"
   ]
  },
  {
   "cell_type": "code",
   "execution_count": null,
   "metadata": {},
   "outputs": [],
   "source": [
    "df_cnes_servicos = pd.read_csv('CNES_SERVICOS.csv', sep=';', encoding='latin-1', low_memory=False)\n",
    "df_cnes_servicos.head()"
   ]
  },
  {
   "cell_type": "code",
   "execution_count": null,
   "metadata": {},
   "outputs": [],
   "source": [
    "df_cnes_habilitacao = pd.read_csv('CNES_HABILITACAO.csv', sep=';', encoding='latin-1', low_memory=False)\n",
    "df_cnes_habilitacao.head()"
   ]
  },
  {
   "cell_type": "code",
   "execution_count": null,
   "metadata": {},
   "outputs": [],
   "source": [
    "df_cnes_leitos = pd.read_csv('CNES_LEITOS.csv', sep=';', encoding='latin-1', low_memory=False) \n",
    "df_cnes_leitos.head()"
   ]
  },
  {
   "cell_type": "code",
   "execution_count": null,
   "metadata": {},
   "outputs": [],
   "source": [
    "df_base_cnes = pd.merge(df_cnes, df_cnes_servicos, on='CO_CNES', how='left')\n",
    "df_base_cnes = pd.merge(df_base_cnes, df_cnes_habilitacao, on='CO_CNES', how='left')\n",
    "df_base_cnes = pd.merge(df_base_cnes, df_cnes_leitos, on='CO_CNES', how='left')\n",
    "df_base_cnes.head()"
   ]
  },
  {
   "attachments": {},
   "cell_type": "markdown",
   "metadata": {},
   "source": [
    "# Importação dos dados SIGTAP, Analise e Tratamento de Dados    "
   ]
  }
 ],
 "metadata": {
  "kernelspec": {
   "display_name": "Python 3",
   "language": "python",
   "name": "python3"
  },
  "language_info": {
   "name": "python",
   "version": "3.10.10"
  },
  "orig_nbformat": 4,
  "vscode": {
   "interpreter": {
    "hash": "f7f8c097c8b77234b1554043a16e456bc3013eb7e1454957444d1d61c725966c"
   }
  }
 },
 "nbformat": 4,
 "nbformat_minor": 2
}
