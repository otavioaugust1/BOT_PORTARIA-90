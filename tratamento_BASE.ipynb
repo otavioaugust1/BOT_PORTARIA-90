{
 "cells": [
  {
   "attachments": {},
   "cell_type": "markdown",
   "metadata": {},
   "source": [
    "# TRATAMENTO DOS DADOS DO CNES, SIGTAP E TETO"
   ]
  },
  {
   "attachments": {},
   "cell_type": "markdown",
   "metadata": {},
   "source": [
    "O tratamento "
   ]
  },
  {
   "cell_type": "code",
   "execution_count": null,
   "metadata": {},
   "outputs": [],
   "source": [
    "#Pandas: Possui inúmeras funções e comandos para importar arquivos, analisar dados, tratar dados, etc.\n",
    "import pandas as pd # importando a biblioteca pandas\n",
    "\n",
    "#Numpy: Possui uma série de funções e comandos para trabalharmos com números de forma em geral(formatação, calculos, etc)\n",
    "import numpy as np # importando a biblioteca numpy\n",
    "\n",
    "#Time: Possui uma série de funções e comandos para trabalharmos com tempo\n",
    "import time # importando a biblioteca time\n",
    "\n",
    "#Zipfile: Possui uma série de funções e comandos para trabalharmos com arquivos zip\n",
    "import zipfile # importando a biblioteca zipfile\n",
    "\n",
    "#shutil: Possui uma série de funções e comandos para trabalharmos com arquivos\n",
    "import shutil # Biblioteca para manipular arquivos e pastas\n",
    "\n",
    "# urllib.request: Possui uma série de funções e comandos para trabalharmos com arquivos\n",
    "import urllib.request # Biblioteca para fazer download de arquivos\n",
    "\n",
    "#openpyxl: Possui uma série de funções e comandos para trabalharmos com arquivos excel\n",
    "import openpyxl # Biblioteca para manipular arquivos excel\n",
    "\n",
    "#re: Possui uma série de funções e comandos para trabalharmos com expressões regulares\n",
    "import re # importando a biblioteca re\n",
    "\n",
    "#os: Possui uma série de funções e comandos para trabalharmos com arquivos e diretórios\n",
    "import os # importando a biblioteca os\n",
    "\n",
    "#ftplib: Possui uma série de funções e comandos para trabalharmos com arquivos\n",
    "import ftplib # Biblioteca para fazer download de arquivos\n",
    "\n",
    "#Warnings: Possui detalhes sobre os avisos e alertas que aparecem, porém podemos utiliza-lo também para que os alertas de\n",
    "#futuras atualizações e metodos depreciados não sejam exibidos\n",
    "import warnings\n",
    "warnings.filterwarnings(\"ignore\") \n",
    "tempo_inicial = time.time() # tempo inicial para calcular o tempo de execução do código\n",
    "\n",
    "from datetime import date,  timedelta # Biblioteca para manipular datas\n",
    "from glob import glob # Utilizado para listar arquivos de um diretório\n",
    "from selenium import webdriver # Biblioteca para automatizar o navegador\n",
    "from selenium.webdriver.common.by import By\n",
    "from datetime import date\n",
    "from dateutil.relativedelta import relativedelta\n",
    "\n",
    "#Comando para exibir todas colunas do arquivo\n",
    "pd.set_option('display.max_columns', None)\n",
    "pd.set_option('display.max_rows', None)\n",
    "\n",
    "# tempo de execução\n",
    "start_time = time.time()"
   ]
  },
  {
   "cell_type": "code",
   "execution_count": null,
   "metadata": {},
   "outputs": [],
   "source": [
    "# formatação de datas para o nome dos arquivos\n",
    "data_atual = date.today() # Data atual\n",
    "data_corrente = date.today().strftime('%Y%m') # Data atual no formato YYYYMM\n",
    "data_passada = (date.today() - relativedelta(months=1)).strftime('%Y%m') # Data atual menos 1 mês no formato YYYYMM\n",
    "data_passada_a = (date.today() - relativedelta(months=2)).strftime('%Y%m') # Data atual menos 2 mês no formato YYYYMM"
   ]
  },
  {
   "cell_type": "code",
   "execution_count": null,
   "metadata": {},
   "outputs": [],
   "source": [
    "# Definição de pastas\n",
    "pasta_entrada = 'BASE/' # Pasta onde estão os arquivos de entrada\n",
    "pasta_saida = 'RESULTADO/' # Pasta onde serão gravados os arquivos de saída\n",
    "pasta_planilha = 'PLANILHA/' # Pasta onde serão gravados os arquivos para ser analisados (planilha)\n",
    "\n",
    "for pasta in [pasta_entrada, pasta_saida, pasta_planilha]:\n",
    "    try:\n",
    "        os.mkdir(pasta)\n",
    "    except OSError:\n",
    "        pass\n",
    "\n",
    "    for arquivo in os.listdir(pasta):\n",
    "        arquivo_pasta = os.path.join(pasta, arquivo)\n",
    "        try:\n",
    "            if os.path.isfile(arquivo_pasta) or os.path.islink(arquivo_pasta):\n",
    "                os.unlink(arquivo_pasta) # deleta o arquivo\n",
    "            elif os.path.isdir(arquivo_pasta):\n",
    "                shutil.rmtree(arquivo_pasta) # deleta o diretório\n",
    "        except Exception as e:\n",
    "            print(f'Falha ao deletar {arquivo_pasta}. Motivo: {e}')\n",
    "print(f\"Criando as pastas =======================================>: {time.strftime('%H:%M:%S')}\")"
   ]
  },
  {
   "cell_type": "code",
   "execution_count": null,
   "metadata": {},
   "outputs": [],
   "source": [
    "# Download dos arquivos\n",
    "url_c = f'ftp://ftp.datasus.gov.br/cnes/BASE_DE_DADOS_CNES_{data_passada}.ZIP'\n",
    "filename_c = pasta_entrada + f'BASE_DE_DADOS_CNES_{data_passada}.ZIP'\n",
    "\n",
    "try:\n",
    "    with urllib.request.urlopen(url_c) as response, open(filename_c, 'wb') as out_file:\n",
    "        data = response.read()  # Lê os dados do arquivo\n",
    "        out_file.write(data)  # Escreve os dados em um arquivo local\n",
    "except urllib.error.URLError:\n",
    "    url_c = f'ftp://ftp.datasus.gov.br/cnes/BASE_DE_DADOS_CNES_{data_passada_a}.ZIP'\n",
    "    filename_c = pasta_entrada + f'BASE_DE_DADOS_CNES_{data_passada_a}.ZIP'\n",
    "    with urllib.request.urlopen(url_c) as response, open(filename_c, 'wb') as out_file:\n",
    "        data = response.read()  # Lê os dados do arquivo\n",
    "        out_file.write(data)  # Escreve os dados em um arquivo local\n",
    "\n",
    "print(f\"Download dos arquivos CNES ==============================>: {time.strftime('%H:%M:%S')}\")"
   ]
  },
  {
   "cell_type": "code",
   "execution_count": null,
   "metadata": {},
   "outputs": [],
   "source": [
    "ftp = ftplib.FTP('ftp2.datasus.gov.br') # Conecta ao servidor FTP\n",
    "ftp.login() # Faz login no servidor FTP\n",
    "ftp.cwd('/pub/sistemas/tup/downloads/') # Navega até o diretório desejado\n",
    "\n",
    "arquivos = ftp.nlst() # Lista os arquivos disponíveis\n",
    "arquivo = [a for a in arquivos if a.startswith(f'TabelaUnificada_{data_corrente}') and a.endswith('.zip')]\n",
    "\n",
    "if arquivo:\n",
    "    url_s = f'ftp://ftp2.datasus.gov.br/pub/sistemas/tup/downloads/{arquivo[0]}'\n",
    "    filename_s = pasta_entrada + f'BASE_DE_DADOS_SIGTAP_{data_corrente}.ZIP'\n",
    "\n",
    "    with urllib.request.urlopen(url_s) as response, open(filename_s, 'wb') as out_file:\n",
    "        data = response.read()  # Lê os dados do arquivo\n",
    "        out_file.write(data)  # Escreve os dados em um arquivo local\n",
    "\n",
    "    print(f\"Download dos arquivos SIGTAP ===========================>: {time.strftime('%H:%M:%S')}\")\n",
    "else:\n",
    "    print(f\"Nenhum arquivo SIGTAP encontrado! ======================>: {time.strftime('%H:%M:%S')}\")\n"
   ]
  },
  {
   "cell_type": "code",
   "execution_count": null,
   "metadata": {},
   "outputs": [],
   "source": [
    "url = 'https://www.gov.br/saude/pt-br/composicao/saes/saips/plano-atendimento-perf-cir-eletiva-vrs-4a.xlsx'\n",
    "filename = pasta_entrada + f'BASE_DE_DADOS_SAIPS_V4.xlsx'\n",
    "\n",
    "with urllib.request.urlopen(url) as response, open(filename, 'wb') as out_file:\n",
    "    data = response.read()  # Lê os dados do arquivo\n",
    "    out_file.write(data)  # Escreve os dados em um arquivo local\n",
    "\n",
    "print(f\"Download do arquivo BASE_DE_DADOS_SAIPS.xlsx ==============>: {time.strftime('%H:%M:%S')}\")"
   ]
  },
  {
   "cell_type": "code",
   "execution_count": null,
   "metadata": {},
   "outputs": [],
   "source": [
    "url_t = 'https://sismac.saude.gov.br/teto_financeiro_brasil#'\n",
    "filename = pasta_entrada + f'BASE_DE_DADOS_TETO_FINANCEIRO_BRASIL.xlsx'\n",
    "\n",
    "\n",
    "options = webdriver.EdgeOptions()\n",
    "options.use_chromium = True\n",
    "options.add_argument('--headless')\n",
    "options.add_argument('--disable-gpu')\n",
    "options.add_argument('--no-sandbox')\n",
    "options.add_argument('--disable-dev-shm-usage')\n",
    "\n",
    "driver = webdriver.Edge(executable_path=r'NAVEGADOR\\msedgedriver.exe', options=options)\n",
    "driver.get(url_t)\n",
    "\n",
    "element = driver.find_element(By.XPATH, '//*[@id=\"conteudoPanel\"]/div[3]/div/div/div[2]/p/a')\n",
    "element.click()\n",
    "\n",
    "driver.quit()\n",
    "\n",
    "print(f\"Download do arquivo BASE_DE_DADOS_TETO_MAC.xlsx ========>: {time.strftime('%H:%M:%S')}\")"
   ]
  },
  {
   "attachments": {},
   "cell_type": "markdown",
   "metadata": {},
   "source": [
    "# Importação dos dados CNES, SIGTAP e TETO MAC: Analise e Tratamento de Dados"
   ]
  },
  {
   "attachments": {},
   "cell_type": "markdown",
   "metadata": {},
   "source": [
    "## BASE CNES"
   ]
  },
  {
   "cell_type": "code",
   "execution_count": null,
   "metadata": {},
   "outputs": [],
   "source": [
    "dado_cnes = glob('BASE/BASE_DE_DADOS_CNES*.ZIP')[0] # Listando os arquivos do diretório"
   ]
  },
  {
   "cell_type": "code",
   "execution_count": null,
   "metadata": {},
   "outputs": [],
   "source": [
    "with zipfile.ZipFile(dado_cnes, 'r') as myzip: # Abrindo o arquivo zip\n",
    "   print(myzip.namelist(), sep=',') # Listando os arquivos do zip"
   ]
  },
  {
   "cell_type": "code",
   "execution_count": null,
   "metadata": {},
   "outputs": [],
   "source": [
    "with zipfile.ZipFile(dado_cnes) as myzip: # Abrindo o arquivo zip\n",
    "   with myzip.open('tbEstabelecimento202302.csv') as myfile:  \n",
    "      df_cnes_servicos = pd.read_csv(myfile, sep=';', encoding='latin-1', low_memory=False , nrows=0) # Lendo o arquivo csv\n",
    "df_cnes_servicos.columns.values # Exibindo os valores do arquivo"
   ]
  },
  {
   "cell_type": "code",
   "execution_count": null,
   "metadata": {},
   "outputs": [],
   "source": [
    "colunas_c = ['CO_UNIDADE','CO_CNES','NO_RAZAO_SOCIAL','NO_FANTASIA','TP_UNIDADE','TP_GESTAO','CO_ESTADO_GESTOR','CO_MUNICIPIO_GESTOR','CO_MOTIVO_DESAB'] \n",
    "# Selecionando as colunas que serão utilizadas"
   ]
  },
  {
   "cell_type": "code",
   "execution_count": null,
   "metadata": {},
   "outputs": [],
   "source": [
    "with zipfile.ZipFile(dado_cnes) as myzip: # Abrindo o arquivo zip\n",
    "   with myzip.open('tbEstabelecimento202302.csv') as myfile:  \n",
    "      df_cnes = pd.read_csv(myfile, sep=';', encoding='latin-1', low_memory=False , usecols=colunas_c) # Lendo o arquivo csv\n",
    "df_cnes.head() # Exibindo as 5 primeiras linhas do arquivo"
   ]
  },
  {
   "cell_type": "code",
   "execution_count": null,
   "metadata": {},
   "outputs": [],
   "source": [
    "df_cnes.info() # Exibindo informações do arquivo"
   ]
  },
  {
   "attachments": {},
   "cell_type": "markdown",
   "metadata": {},
   "source": [
    "### SERVIÇO X CLASS"
   ]
  },
  {
   "cell_type": "code",
   "execution_count": null,
   "metadata": {},
   "outputs": [],
   "source": [
    "with zipfile.ZipFile(dado_cnes) as myzip: # Abrindo o arquivo zip\n",
    "   with myzip.open('rlEstabServClass202302.csv') as myfile:  \n",
    "      df_cnes_servicos = pd.read_csv(myfile, sep=';', encoding='latin-1', low_memory=False , nrows=0) # Lendo o arquivo csv\n",
    "df_cnes_servicos.columns.values # Exibindo os valores do arquivo"
   ]
  },
  {
   "cell_type": "code",
   "execution_count": null,
   "metadata": {},
   "outputs": [],
   "source": [
    "conlunas_s = ['CO_UNIDADE', 'CO_SERVICO', 'CO_CLASSIFICACAO'] # Selecionando as colunas que serão utilizadas"
   ]
  },
  {
   "cell_type": "code",
   "execution_count": null,
   "metadata": {},
   "outputs": [],
   "source": [
    "with zipfile.ZipFile(dado_cnes) as myzip: # Abrindo o arquivo zip\n",
    "   with myzip.open('rlEstabServClass202302.csv') as myfile:  \n",
    "      df_cnes_servicos = pd.read_csv(myfile, sep=';', encoding='latin-1', low_memory=False , usecols=conlunas_s) # Lendo o arquivo csv\n",
    "df_cnes_servicos.head() # Exibindo as 5 primeiras linhas do arquivo"
   ]
  },
  {
   "cell_type": "code",
   "execution_count": null,
   "metadata": {},
   "outputs": [],
   "source": [
    "df_cnes_servicos.info() # Exibindo informações do arquivo"
   ]
  },
  {
   "attachments": {},
   "cell_type": "markdown",
   "metadata": {},
   "source": [
    "### HABILITAÇÃO  "
   ]
  },
  {
   "cell_type": "code",
   "execution_count": null,
   "metadata": {},
   "outputs": [],
   "source": [
    "with zipfile.ZipFile(dado_cnes) as myzip: # Abrindo o arquivo zip\n",
    "   with myzip.open('rlEstabSipac202302.csv') as myfile:  \n",
    "      df_cnes_habilitacao = pd.read_csv(myfile, sep=';', encoding='latin-1', low_memory=False , nrows=0) # Lendo o arquivo csv\n",
    "df_cnes_habilitacao.columns.values # Exibindo os valores do arquivo"
   ]
  },
  {
   "cell_type": "code",
   "execution_count": null,
   "metadata": {},
   "outputs": [],
   "source": [
    "conlunas_h = ['CO_UNIDADE', 'COD_SUB_GRUPO_HABILITACAO'] # Selecionando as colunas que serão utilizadas"
   ]
  },
  {
   "cell_type": "code",
   "execution_count": null,
   "metadata": {},
   "outputs": [],
   "source": [
    "with zipfile.ZipFile(dado_cnes) as myzip: # Abrindo o arquivo zip\n",
    "   with myzip.open('rlEstabSipac202302.csv') as myfile:  \n",
    "      df_cnes_habilitacao = pd.read_csv(myfile, sep=';', encoding='latin-1', low_memory=False , usecols=conlunas_h) # Lendo o arquivo csv\n",
    "df_cnes_habilitacao.head() # Exibindo as 5 primeiras linhas do arquivo"
   ]
  },
  {
   "cell_type": "code",
   "execution_count": null,
   "metadata": {},
   "outputs": [],
   "source": [
    "df_cnes_habilitacao.info()  # Exibindo informações do arquivo"
   ]
  },
  {
   "attachments": {},
   "cell_type": "markdown",
   "metadata": {},
   "source": [
    "### LEITOS E LEITOS DE UTI"
   ]
  },
  {
   "cell_type": "code",
   "execution_count": null,
   "metadata": {},
   "outputs": [],
   "source": [
    "with zipfile.ZipFile(dado_cnes) as myzip: # Abrindo o arquivo zip\n",
    "   with myzip.open('rlEstabComplementar202302.csv') as myfile:  \n",
    "      df_cnes_leitos = pd.read_csv(myfile, sep=';', encoding='latin-1', low_memory=False , nrows=0) # Lendo o arquivo csv\n",
    "df_cnes_leitos.columns.values # Exibindo os valores do arquivo"
   ]
  },
  {
   "cell_type": "code",
   "execution_count": null,
   "metadata": {},
   "outputs": [],
   "source": [
    "colunas_l = ['CO_UNIDADE', 'CO_LEITO', 'CO_TIPO_LEITO','QT_EXIST','QT_SUS'] # Selecionando as colunas que serão utilizadas"
   ]
  },
  {
   "cell_type": "code",
   "execution_count": null,
   "metadata": {},
   "outputs": [],
   "source": [
    "with zipfile.ZipFile(dado_cnes) as myzip: # Abrindo o arquivo zip\n",
    "   with myzip.open('rlEstabComplementar202302.csv') as myfile:  \n",
    "      df_cnes_leitos = pd.read_csv(myfile, sep=';', encoding='latin-1', low_memory=False , usecols=colunas_l) # Lendo o arquivo csv\n",
    "df_cnes_leitos.head() # Exibindo as 5 primeiras linhas do arquivo"
   ]
  },
  {
   "cell_type": "code",
   "execution_count": null,
   "metadata": {},
   "outputs": [],
   "source": [
    "df_cnes_leitos.info() # Exibindo informações do arquivo"
   ]
  },
  {
   "attachments": {},
   "cell_type": "markdown",
   "metadata": {},
   "source": [
    "#### NOME DAS HABILITAÇÕES E LEITOS"
   ]
  },
  {
   "cell_type": "code",
   "execution_count": null,
   "metadata": {},
   "outputs": [],
   "source": [
    "with zipfile.ZipFile(dado_cnes) as myzip: # Abrindo o arquivo zip\n",
    "   with myzip.open('tbSubGruposHabilitacao202302.csv') as myfile:  \n",
    "      df_cnes_habilitacao_d = pd.read_csv(myfile, sep=';', encoding='latin-1', low_memory=False , nrows=0) # Lendo o arquivo csv\n",
    "df_cnes_habilitacao_d.columns.values # Exibindo os valores do arquivo"
   ]
  },
  {
   "cell_type": "code",
   "execution_count": null,
   "metadata": {},
   "outputs": [],
   "source": [
    "colunas_h_d = ['CO_CODIGO_GRUPO', 'NO_DESCRICAO_GRUPO'] # Selecionando as colunas que serão utilizadas"
   ]
  },
  {
   "cell_type": "code",
   "execution_count": null,
   "metadata": {},
   "outputs": [],
   "source": [
    "with zipfile.ZipFile(dado_cnes) as myzip: # Abrindo o arquivo zip\n",
    "   with myzip.open('tbSubGruposHabilitacao202302.csv') as myfile:  \n",
    "      df_cnes_habilitacao_d = pd.read_csv(myfile, sep=';', encoding='latin-1', low_memory=False , usecols=colunas_h_d) # Lendo o arquivo csv\n",
    "df_cnes_habilitacao_d.head() # Exibindo as 5 primeiras linhas do arquivo"
   ]
  },
  {
   "cell_type": "code",
   "execution_count": null,
   "metadata": {},
   "outputs": [],
   "source": [
    "df_cnes_habilitacao = pd.merge(df_cnes_habilitacao, df_cnes_habilitacao_d, left_on='COD_SUB_GRUPO_HABILITACAO', right_on='CO_CODIGO_GRUPO', how='left')\n",
    "df_cnes_habilitacao.drop(['COD_SUB_GRUPO_HABILITACAO'], axis=1, inplace=True)\n",
    "df_cnes_habilitacao.head() # Exibindo as 5 primeiras linhas do arquivo"
   ]
  },
  {
   "attachments": {},
   "cell_type": "markdown",
   "metadata": {},
   "source": [
    "### Merge entre os arquivos CNES"
   ]
  },
  {
   "attachments": {},
   "cell_type": "markdown",
   "metadata": {},
   "source": [
    "### Merge entre os arquivos CNES e Serviços "
   ]
  },
  {
   "cell_type": "code",
   "execution_count": null,
   "metadata": {},
   "outputs": [],
   "source": [
    "df_base_cnes_s = pd.merge(df_cnes, df_cnes_servicos, on='CO_UNIDADE', how='left') # Juntando os arquivos\n",
    "df_base_cnes_s.head() # Exibindo as 5 primeiras linhas do arquivo"
   ]
  },
  {
   "cell_type": "code",
   "execution_count": null,
   "metadata": {},
   "outputs": [],
   "source": [
    "df_base_cnes_s.drop_duplicates() # Removendo duplicados\n",
    "df_base_cnes_s.info() # Exibindo informações do arquivo"
   ]
  },
  {
   "attachments": {},
   "cell_type": "markdown",
   "metadata": {},
   "source": [
    "### Merge entre os arquivos CNES e Habilitação  "
   ]
  },
  {
   "cell_type": "code",
   "execution_count": null,
   "metadata": {},
   "outputs": [],
   "source": [
    "df_base_cnes_h = pd.merge(df_cnes, df_cnes_habilitacao, on='CO_UNIDADE', how='left') # Juntando os arquivos\n",
    "df_base_cnes_h.head() # Exibindo as 5 primeiras linhas do arquivo"
   ]
  },
  {
   "cell_type": "code",
   "execution_count": null,
   "metadata": {},
   "outputs": [],
   "source": [
    "df_base_cnes_h.drop_duplicates() # Removendo duplicados\n",
    "df_base_cnes_h.info() # Exibindo informações do arquivo"
   ]
  },
  {
   "cell_type": "code",
   "execution_count": null,
   "metadata": {},
   "outputs": [],
   "source": [
    "df_base_cnes_h.head() # Exibindo as 5 primeiras linhas do arquivo"
   ]
  },
  {
   "attachments": {},
   "cell_type": "markdown",
   "metadata": {},
   "source": [
    "### Merge entre os arquivos CNES e Leitos"
   ]
  },
  {
   "cell_type": "code",
   "execution_count": null,
   "metadata": {},
   "outputs": [],
   "source": [
    "df_base_cnes_l = pd.merge(df_cnes, df_cnes_leitos, on='CO_UNIDADE', how='left') # Juntando os arquivos\n",
    "df_base_cnes_l.head() # Exibindo as 5 primeiras linhas do arquivo"
   ]
  },
  {
   "cell_type": "code",
   "execution_count": null,
   "metadata": {},
   "outputs": [],
   "source": [
    "df_base_cnes_l.drop_duplicates() # Removendo duplicados\n",
    "df_base_cnes_l.info() # Exibindo informações do arquivo"
   ]
  },
  {
   "attachments": {},
   "cell_type": "markdown",
   "metadata": {},
   "source": [
    "### Salvando o banco de dados CNES em csv  "
   ]
  },
  {
   "cell_type": "code",
   "execution_count": null,
   "metadata": {},
   "outputs": [],
   "source": [
    "df_base_cnes_s.to_csv('BASE\\.BASE_CNES_SERVICOS.csv', sep=';', encoding='latin-1', index=False) # Exportando o arquivo para csv\n",
    "df_base_cnes_h.to_csv('BASE\\.BASE_CNES_HABILITACAO.csv', sep=';', encoding='latin-1', index=False) # Exportando o arquivo para csv\n",
    "df_base_cnes_l.to_csv('BASE\\.BASE_CNES_LEITOS.csv', sep=';', encoding='latin-1', index=False) # Exportando o arquivo para csv"
   ]
  },
  {
   "cell_type": "code",
   "execution_count": null,
   "metadata": {},
   "outputs": [],
   "source": [
    "tempo_analise = time.time()\n",
    "tempo_total = (float(tempo_analise - tempo_inicial)/60)\n",
    "print(f\"Tempo total de parcial:: {tempo_total:,.1f} minutos\" )"
   ]
  },
  {
   "attachments": {},
   "cell_type": "markdown",
   "metadata": {},
   "source": [
    "## BASE TETO MAC"
   ]
  },
  {
   "cell_type": "code",
   "execution_count": null,
   "metadata": {},
   "outputs": [],
   "source": [
    "dado_teto = glob(f'BASE-T/*_relatorio*.xlsx')[0] # Listando os arquivos do diretório\n",
    "df_teto_mac = pd.read_excel(dado_teto, sheet_name='relatorioTetoFinanceiroBrasilEx') # Lê o arquivo excel\n",
    "df_teto_mac.drop(df_teto_mac.loc[df_teto_mac['Descrição Gestão']=='Total UF'].index, inplace=True) # Remove as linhas com o valor 'Total'\n",
    "df_teto_mac.head() # Exibe as 5 primeiras linhas do arquivo"
   ]
  },
  {
   "cell_type": "code",
   "execution_count": null,
   "metadata": {},
   "outputs": [],
   "source": [
    "df_teto_mac.info() # Exibe informações do arquivo"
   ]
  },
  {
   "cell_type": "code",
   "execution_count": null,
   "metadata": {},
   "outputs": [],
   "source": [
    "df_teto_mac.to_csv('BASE\\.BASE_TETO_MAC.csv', sep=';', encoding='latin-1', index=False) # Exporta o arquivo para csv"
   ]
  },
  {
   "cell_type": "code",
   "execution_count": null,
   "metadata": {},
   "outputs": [],
   "source": [
    "tempo_processo = time.time()\n",
    "tempo_total = (float(tempo_processo - tempo_inicial)/60)\n",
    "tempo_parcial = (float(tempo_processo - tempo_analise)/60)\n",
    "print(f\"Tempo total de parcial: {tempo_parcial:,.1f} minutos\" )\n",
    "print(f\"Tempo total de execução: {tempo_total:,.1f} minutos\" )"
   ]
  },
  {
   "attachments": {},
   "cell_type": "markdown",
   "metadata": {},
   "source": [
    "## BASE SIGTAP"
   ]
  },
  {
   "cell_type": "code",
   "execution_count": null,
   "metadata": {},
   "outputs": [],
   "source": [
    "dado_sigtap = glob('BASE/BASE_DE_DADOS_SIGTAP*.zip')[0] # Listando os arquivos do diretório"
   ]
  },
  {
   "cell_type": "code",
   "execution_count": null,
   "metadata": {},
   "outputs": [],
   "source": [
    "with zipfile.ZipFile(dado_sigtap) as myzip: # Abrindo o arquivo zip\n",
    "   print(myzip.namelist(),sep=\",\") # Listando os arquivos do zip"
   ]
  },
  {
   "attachments": {},
   "cell_type": "markdown",
   "metadata": {},
   "source": [
    "## Importando tabela de procedimentos"
   ]
  },
  {
   "cell_type": "code",
   "execution_count": null,
   "metadata": {},
   "outputs": [],
   "source": [
    "with zipfile.ZipFile(dado_sigtap) as myzip: # Abrindo o arquivo zip\n",
    "   with myzip.open('tb_procedimento.txt') as myfile:  \n",
    "      df_sigtap = pd.read_fwf(myfile, colspecs=[(0,10), (10,260), (260,261), (261,262), (262,266), (266,270), (270,274), (274,278), (278,282), (282,292), (292,302), (302,312), (312,314), (314,320), (320,324), (324,330)], \n",
    "                              names=[\"CO_PROCEDIMENTO\", \"NO_PROCEDIMENTO\", \"TP_COMPLEXIDADE\",\"TP_SEXO\",\"QT_MAXIMA_EXECUCAO\",\"QT_DIAS_PERMANENCIA\",\"QT_PONTOS\",\"VL_IDADE_MINIMA\",\"VL_IDADE_MAXIMA\",\n",
    "                                     \"VL_SH\",\"VL_SA\",\"VL_SP\",\"CO_FINANCIAMENTO\",\"CO_RUBRICA\",\"QT_TEMPO_PERMANENCIA\",\"DT_COMPETENCIA\"], encoding='latin') # Lendo o arquivo txt\n",
    "df_sigtap.drop(['TP_COMPLEXIDADE','TP_SEXO','QT_MAXIMA_EXECUCAO','QT_DIAS_PERMANENCIA','QT_PONTOS','VL_IDADE_MINIMA','VL_IDADE_MAXIMA','VL_SH','VL_SA','VL_SP',\n",
    "                'CO_FINANCIAMENTO','CO_RUBRICA','QT_TEMPO_PERMANENCIA','DT_COMPETENCIA'], axis=1, inplace=True) # Removendo colunas desnecessárias\n",
    "df_sigtap.head() # Exibindo as 5 primeiras linhas do arquivo"
   ]
  },
  {
   "attachments": {},
   "cell_type": "markdown",
   "metadata": {},
   "source": [
    "### Importar serviço/classificação"
   ]
  },
  {
   "cell_type": "code",
   "execution_count": null,
   "metadata": {},
   "outputs": [],
   "source": [
    "with zipfile.ZipFile(dado_sigtap) as myzip: # Abrindo o arquivo zip\n",
    "   with myzip.open('rl_procedimento_servico.txt') as myfile:  \n",
    "      df_sigtap_servico = pd.read_fwf(myfile, colspecs=[(0,10), (10,13), (13,16), (16,22)], \n",
    "                              names=[\"CO_PROCEDIMENTO\",\"CO_SERVICO\",\"CO_CLASSIFICACAO\",\"DT_COMPETENCIA\"], encoding='latin') # Lendo o arquivo txt\n",
    "df_sigtap_servico.drop(['DT_COMPETENCIA'], axis=1, inplace=True) # Removendo colunas desnecessárias\n",
    "df_sigtap_servico.head() # Exibindo as 5 primeiras linhas do arquivo"
   ]
  },
  {
   "attachments": {},
   "cell_type": "markdown",
   "metadata": {},
   "source": [
    "### Importar Habilitação"
   ]
  },
  {
   "cell_type": "code",
   "execution_count": null,
   "metadata": {},
   "outputs": [],
   "source": [
    "with zipfile.ZipFile(dado_sigtap) as myzip: # Abrindo o arquivo zip\n",
    "   with myzip.open('rl_procedimento_habilitacao.txt') as myfile:  \n",
    "      df_sigtap_habilitacao = pd.read_fwf(myfile, colspecs=[(0,10), (10,14), (14,18), (18,24)], names=[\"CO_PROCEDIMENTO\", \"CO_HABILITACAO\", \"NU_GRUPO_HABILITACAO\", \"DT_COMPETENCIA\"]) # Lendo o arquivo txt\n",
    "df_sigtap_habilitacao.drop(['NU_GRUPO_HABILITACAO','DT_COMPETENCIA'], axis=1, inplace=True) # Removendo colunas desnecessárias\n",
    "df_sigtap_habilitacao.head() # Exibindo as 5 primeiras linhas do arquivo"
   ]
  },
  {
   "attachments": {},
   "cell_type": "markdown",
   "metadata": {},
   "source": [
    "### Importar Registro"
   ]
  },
  {
   "cell_type": "code",
   "execution_count": null,
   "metadata": {},
   "outputs": [],
   "source": [
    "with zipfile.ZipFile(dado_sigtap) as myzip: # Abrindo o arquivo zip\n",
    "   with myzip.open('rl_procedimento_registro.txt') as myfile:  \n",
    "      df_sigtap_modalidade = pd.read_fwf(myfile, colspecs=[(0,10), (10,12), (12,18)], names=[\"CO_PROCEDIMENTO\", \"CO_REGISTRO\", \"DT_COMPETENCIA\"]) # Lendo o arquivo txt\n",
    "df_sigtap_modalidade.drop(['DT_COMPETENCIA'], axis=1, inplace=True) # Removendo colunas desnecessárias\n",
    "df_sigtap_modalidade.head() # Exibindo as 5 primeiras linhas do arquivo\n"
   ]
  },
  {
   "cell_type": "code",
   "execution_count": null,
   "metadata": {},
   "outputs": [],
   "source": [
    "with zipfile.ZipFile(dado_sigtap) as myzip: # Abrindo o arquivo zip\n",
    "   with myzip.open('tb_registro.txt') as myfile:  \n",
    "      df_sigtap_registro = pd.read_fwf(myfile, colspecs=[(0,2), (2,52), (52,58)], names=[\"CO_REGISTRO\", \"NO_REGISTRO\", \"DT_COMPETENCIA\"], encoding='latin') # Lendo o arquivo txt\n",
    "df_sigtap_registro.drop(['DT_COMPETENCIA'], axis=1, inplace=True) # Removendo colunas desnecessárias\n",
    "df_sigtap_registro.head() # Exibindo as 5 primeiras linhas do arquivo\n",
    "\n",
    "df_sigtap_modalidade = pd.merge(df_sigtap_modalidade, df_sigtap_registro, on='CO_REGISTRO', how='left') # Juntando os arquivos\n",
    "df_sigtap_modalidade.head() # Exibindo as 5 primeiras linhas do arquivo"
   ]
  },
  {
   "attachments": {},
   "cell_type": "markdown",
   "metadata": {},
   "source": [
    "### Definido Grupo, Sub-grupo e forma de organização"
   ]
  },
  {
   "cell_type": "code",
   "execution_count": null,
   "metadata": {},
   "outputs": [],
   "source": [
    "df_planilha_proc = glob('BASE\\BASE_DE_DADOS_SAIPS*.xlsx')[0] # Listando os arquivos do diretório"
   ]
  },
  {
   "cell_type": "code",
   "execution_count": null,
   "metadata": {},
   "outputs": [],
   "source": [
    "df_planilha_proc = pd.read_excel(df_planilha_proc, sheet_name='PROCEDIMENTOS') # Lendo o arquivo excel\n",
    "df_planilha_proc.head() # Exibindo as 5 primeiras linhas do arquivo"
   ]
  },
  {
   "cell_type": "code",
   "execution_count": null,
   "metadata": {},
   "outputs": [],
   "source": [
    "df_planilha_proc.rename(columns={'Código do Procedimento':'CO_PROCEDIMENTO','Unnamed: 1':'SUBGRUPO','Unnamed: 2':'COD_PROCEDIMENTO', 'Unnamed: 3':'DEC_PROCEDIMENTO', 'Unnamed: 4':'codigo', \n",
    "                                 'Dados de Produção Brasil (2018 a 2022)':'QT_PROD_SIASUS', 'Unnamed: 6':'% ELET SIASUS', 'Unnamed: 7':'QT_PROD AIH 2018 a 2022',\n",
    "                                 'Unnamed: 8':'% ELET AIH', 'Exigência SIGTAP':'EXIGE SERVIÇO', 'Unnamed: 10':'EXIGE HABILITACAO', 'Instrumento de REGISTRO':'BPA_I',\n",
    "                                 'Unnamed: 12':'AIH', 'Unnamed: 13':'APAC'}, inplace=True) # Renomeando colunas\n",
    "df_planilha_proc.drop(0, inplace=True) # Remove a primeira linha do arquivo\n",
    "df_planilha_proc.drop(['codigo'], axis=1, inplace=True) # Remove a coluna codigo\n",
    "df_planilha_proc.head() # Exibindo as 5 primeiras linhas do arquivo"
   ]
  },
  {
   "attachments": {},
   "cell_type": "markdown",
   "metadata": {},
   "source": [
    "### Merge entre os arquivos SIGTAP"
   ]
  },
  {
   "cell_type": "code",
   "execution_count": null,
   "metadata": {},
   "outputs": [],
   "source": [
    "df_sigtap_f = pd.merge(df_planilha_proc, df_sigtap_modalidade, left_on='COD_PROCEDIMENTO', right_on='CO_PROCEDIMENTO', how='left') # Juntando os arquivos 3\n",
    "df_sigtap_f.head() # Exibindo as 5 primeiras linhas do arquivo"
   ]
  },
  {
   "cell_type": "code",
   "execution_count": null,
   "metadata": {},
   "outputs": [],
   "source": [
    "df_sigtap_f = pd.merge(df_sigtap_f, df_sigtap_servico, on='CO_PROCEDIMENTO', how='left') # Juntando os arquivos\n",
    "df_sigtap_f.head() # Exibindo as 5 primeiras linhas do arquivo"
   ]
  },
  {
   "cell_type": "code",
   "execution_count": null,
   "metadata": {},
   "outputs": [],
   "source": [
    "df_sigtap_f = pd.merge(df_sigtap_f, df_sigtap_habilitacao, on='CO_PROCEDIMENTO', how='left') # Juntando os arquivos\n",
    "df_sigtap_f.head() # Exibindo as 5 primeiras linhas do arquivo"
   ]
  },
  {
   "cell_type": "code",
   "execution_count": null,
   "metadata": {},
   "outputs": [],
   "source": [
    "df_sigtap_f.drop(['CO_PROCEDIMENTO'], axis=1, inplace=True) # Removendo colunas desnecessárias\n",
    "df_sigtap_f.info() # Exibindo informações do arquivo"
   ]
  },
  {
   "attachments": {},
   "cell_type": "markdown",
   "metadata": {},
   "source": [
    "## Salvar Banco de dados SIGTAP "
   ]
  },
  {
   "cell_type": "code",
   "execution_count": null,
   "metadata": {},
   "outputs": [],
   "source": [
    "df_sigtap_f.to_csv('BASE\\.BASE_SIGTAP_GERAL.csv', sep=';', encoding='latin-1', index=False) # Exportando o arquivo para csv"
   ]
  },
  {
   "attachments": {},
   "cell_type": "markdown",
   "metadata": {},
   "source": [
    "# Salvando a Solução de \"ipynb to py\""
   ]
  },
  {
   "cell_type": "code",
   "execution_count": null,
   "metadata": {},
   "outputs": [],
   "source": [
    "tempo_final = time.time()\n",
    "tempo_total = (float(tempo_final - tempo_inicial)/60)\n",
    "print(f\"Tempo total de execução: {tempo_total:,.1f} minutos\" )"
   ]
  }
 ],
 "metadata": {
  "kernelspec": {
   "display_name": "Python 3",
   "language": "python",
   "name": "python3"
  },
  "language_info": {
   "codemirror_mode": {
    "name": "ipython",
    "version": 3
   },
   "file_extension": ".py",
   "mimetype": "text/x-python",
   "name": "python",
   "nbconvert_exporter": "python",
   "pygments_lexer": "ipython3",
   "version": "3.10.8"
  },
  "orig_nbformat": 4,
  "vscode": {
   "interpreter": {
    "hash": "f7f8c097c8b77234b1554043a16e456bc3013eb7e1454957444d1d61c725966c"
   }
  }
 },
 "nbformat": 4,
 "nbformat_minor": 2
}
