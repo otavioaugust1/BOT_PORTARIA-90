{
 "cells": [
  {
   "attachments": {},
   "cell_type": "markdown",
   "metadata": {},
   "source": [
    "# TRATAMENTO DOS DADOS DO CNES, SIGTAP E TETO"
   ]
  },
  {
   "attachments": {},
   "cell_type": "markdown",
   "metadata": {},
   "source": [
    "O tratamento "
   ]
  },
  {
   "cell_type": "code",
   "execution_count": 1,
   "metadata": {},
   "outputs": [],
   "source": [
    "#Pandas: Possui inúmeras funções e comandos para importar arquivos, analisar dados, tratar dados, etc.\n",
    "import pandas as pd # importando a biblioteca pandas\n",
    "\n",
    "#Numpy: Possui uma série de funções e comandos para trabalharmos com números de forma em geral(formatação, calculos, etc)\n",
    "import numpy as np # importando a biblioteca numpy\n",
    "\n",
    "#Time: Possui uma série de funções e comandos para trabalharmos com tempo\n",
    "import time # importando a biblioteca time\n",
    "\n",
    "#Zipfile: Possui uma série de funções e comandos para trabalharmos com arquivos zip\n",
    "import zipfile # importando a biblioteca zipfile\n",
    "\n",
    "#glob: Possui uma série de funções e comandos para trabalharmos com arquivos\n",
    "import glob # importando a biblioteca glob\n",
    "\n",
    "#Warnings: Possui detalhes sobre os avisos e alertas que aparecem, porém podemos utiliza-lo também para que os alertas de\n",
    "#futuras atualizações e metodos depreciados não sejam exibidos\n",
    "import warnings\n",
    "warnings.filterwarnings(\"ignore\") \n",
    "tempo_inicial = time.time() # tempo inicial para calcular o tempo de execução do código\n",
    "\n",
    "from glob import glob # Utilizado para listar arquivos de um diretório\n",
    "\n",
    "#Comando para exibir todas colunas do arquivo\n",
    "pd.set_option('display.max_columns', None)\n",
    "pd.set_option('display.max_rows', None)"
   ]
  },
  {
   "attachments": {},
   "cell_type": "markdown",
   "metadata": {},
   "source": [
    "# Importação dos dados CNES, SIGTAP e TETO MAC: Analise e Tratamento de Dados"
   ]
  },
  {
   "attachments": {},
   "cell_type": "markdown",
   "metadata": {},
   "source": [
    "## BASE CNES"
   ]
  },
  {
   "cell_type": "code",
   "execution_count": 12,
   "metadata": {},
   "outputs": [],
   "source": [
    "dado_cnes = glob('BASE/BASE_DE_DADOS_CNES*.ZIP')[0] # Listando os arquivos do diretório"
   ]
  },
  {
   "cell_type": "code",
   "execution_count": 14,
   "metadata": {},
   "outputs": [
    {
     "name": "stdout",
     "output_type": "stream",
     "text": [
      "['rlEstabComplementar202301.csv', 'tbEstabelecimento202301.csv', 'tbMantenedora202301.csv', 'rlEstabAtendPrestConv202301.csv', 'rlEstabProgFundo202301.csv', 'rlEstabColetaSelRejeito202301.csv', 'rlEstabServicoApoio202301.csv', 'tbDialise202301.csv', 'tbQuimioRadio202301.csv', 'rlEstabComissaoOutro202301.csv', 'rlEstabInstFisiAssist202301.csv', 'tbDadosProfissionalSus202301.csv', 'tbServicoReferenciado202301.csv', 'rlEstabEquipamento202301.csv', 'tbCargaHorariaSus202301.csv', 'tbHemoterapia202301.csv', 'rlEstabServClass202301.csv', 'rlCooperativa202301.csv', 'tbEquipe202301.csv', 'rlEstabEquipeProf202301.csv', 'tbResidenciaMed202301.csv', 'tbSegmento202301.csv', 'tbArea202301.csv', 'tbEquipeChDifer202301.csv', 'tbEquipeAtendCompl202301.csv', 'rlEstabSipac202301.csv', 'tbProfResidencia202301.csv', 'rlEstabSubTipo202301.csv', 'rlEstabEndCompl202301.csv', 'rlEquipeNasfEsf202301.csv', 'rlEstabPoloAldeia202301.csv', 'tbEstabContrato202301.csv', 'rlEstabRepresentante202301.csv', 'rlEstabEquipeMun202301.csv', 'rlNasfEsf202301.csv', 'rlEstabTeleCnes202301.csv', 'rlEstabOrgParc202301.csv', 'rlEstabCentralReg202301.csv', 'rlEstabSamu202301.csv', 'rlEstabUnidAcolhim202301.csv', 'rlMunUnidAcolhim202301.csv', 'rlEstabAtenPsico202301.csv', 'rlMunAtenPsico202301.csv', 'rlEstabRegimeRes202301.csv', 'rlMunRegimeRes202301.csv', 'rlEstabAvaliacao202301.csv', 'rlAdmGerenciaCnes202301.csv', 'rlEstabEqpUnidApoio202301.csv', 'rlEstabEqpEmbarcacao202301.csv', 'tbEstabHorarioAtend202301.csv', 'tbEstabAtivSecundaria202301.csv', 'rlEquipeAldeia202301.csv', 'tbDsei202301.csv', 'tbPoloBase202301.csv', 'tbAldeia202301.csv', 'tbBanco202301.csv', 'tbLeito202301.csv', 'tbFluxoDadosClientela202301.csv', 'tbConvenio202301.csv', 'tbAtendimentoPrestado202301.csv', 'tbMunicipio202301.csv', 'tbAtividadeEnsino202301.csv', 'tbTipoUnidade202301.csv', 'tbTurnoAtendimento202301.csv', 'tbGestao202301.csv', 'tbEstado202301.csv', 'tbColetaSeletivaRejeito202301.csv', 'tbServicoApoio202301.csv', 'tbComissaoOutro202301.csv', 'tbClassificacaoServico202301.csv', 'tbServicoEspecializado202301.csv', 'tbSubtipoInstalacao202301.csv', 'tbInstalFisicaParaAssist202301.csv', 'tbTipoServicoReferenciado202301.csv', 'tbEquipamento202301.csv', 'tbTipoEquipamento202301.csv', 'tbAtividadeProfissional202301.csv', 'tbConselhoClasse202301.csv', 'tbAtributo202301.csv', 'tbTipoEscolaridade202301.csv', 'tbTipoCertidao202301.csv', 'tbOrgaoEmissor202301.csv', 'tbTipoEquipe202301.csv', 'tbTipoCgDifer202301.csv', 'tbMotivoDesativacao202301.csv', 'tbSubGruposHabilitacao202301.csv', 'tbMotivoDesativEquipe202301.csv', 'tbSubTipo202301.csv', 'tbModVinculo202301.csv', 'tbTpModVinculo202301.csv', 'tbSubTpModVinculo202301.csv', 'tbEtnia202301.csv', 'tbIncentivos202301.csv', 'tbNaturezaJuridica202301.csv', 'tbGrupoEquipe202301.csv', 'tbTipoEqSubTipo202301.csv', 'tbSubTipoEquipe202301.csv', 'tbAvaliacao202301.csv', 'tbClassificacaoAval202301.csv', 'tbInstituicaoAvaliadora202301.csv', 'rlEstabProfComissao202301.csv', 'tbGrupoAtividade202301.csv', 'tbAtividade202301.csv', 'tbTipoEstabelecimento202301.csv', 'rlAtividadeObrigatoria202301.csv', 'rlTipoEstabAtividade202301.csv', 'tbTipoInstalacaoFisica202301.csv']\n"
     ]
    }
   ],
   "source": [
    "with zipfile.ZipFile(dado_cnes) as myzip: # Abrindo o arquivo zip\n",
    "   print(myzip.namelist(),sep=',') # Listando os arquivos do zip"
   ]
  },
  {
   "cell_type": "code",
   "execution_count": 15,
   "metadata": {},
   "outputs": [
    {
     "data": {
      "text/plain": [
       "array(['CO_UNIDADE', 'CO_CNES', 'NU_CNPJ_MANTENEDORA', 'TP_PFPJ',\n",
       "       'NIVEL_DEP', 'NO_RAZAO_SOCIAL', 'NO_FANTASIA', 'NO_LOGRADOURO',\n",
       "       'NU_ENDERECO', 'NO_COMPLEMENTO', 'NO_BAIRRO', 'CO_CEP',\n",
       "       'CO_REGIAO_SAUDE', 'CO_MICRO_REGIAO', 'CO_DISTRITO_SANITARIO',\n",
       "       'CO_DISTRITO_ADMINISTRATIVO', 'NU_TELEFONE', 'NU_FAX', 'NO_EMAIL',\n",
       "       'NU_CPF', 'NU_CNPJ', 'CO_ATIVIDADE', 'CO_CLIENTELA', 'NU_ALVARA',\n",
       "       'DT_EXPEDICAO', 'TP_ORGAO_EXPEDIDOR', 'DT_VAL_LIC_SANI',\n",
       "       'TP_LIC_SANI', 'TP_UNIDADE', 'CO_TURNO_ATENDIMENTO',\n",
       "       'CO_ESTADO_GESTOR', 'CO_MUNICIPIO_GESTOR',\n",
       "       \"TO_CHAR(DT_ATUALIZACAO,'DD/MM/YYYY')\", 'CO_USUARIO',\n",
       "       'CO_CPFDIRETORCLN', 'REG_DIRETORCLN', 'ST_ADESAO_FILANTROP',\n",
       "       'CO_MOTIVO_DESAB', 'NO_URL', 'NU_LATITUDE', 'NU_LONGITUDE',\n",
       "       \"TO_CHAR(DT_ATU_GEO,'DD/MM/YYYY')\", 'NO_USUARIO_GEO',\n",
       "       'CO_NATUREZA_JUR', 'TP_ESTAB_SEMPRE_ABERTO',\n",
       "       'ST_GERACREDITO_GERENTE_SGIF', 'ST_CONEXAO_INTERNET',\n",
       "       'CO_TIPO_UNIDADE', 'NO_FANTASIA_ABREV', 'TP_GESTAO',\n",
       "       \"TO_CHAR(DT_ATUALIZACAO_ORIGEM,'DD/MM/YYYY')\",\n",
       "       'CO_TIPO_ESTABELECIMENTO', 'CO_ATIVIDADE_PRINCIPAL',\n",
       "       'ST_CONTRATO_FORMALIZADO'], dtype=object)"
      ]
     },
     "execution_count": 15,
     "metadata": {},
     "output_type": "execute_result"
    }
   ],
   "source": [
    "with zipfile.ZipFile(dado_cnes) as myzip: # Abrindo o arquivo zip\n",
    "   with myzip.open('tbEstabelecimento202301.csv') as myfile:  \n",
    "      df_cnes = pd.read_csv(myfile, sep=';', encoding='latin-1', low_memory=False , nrows=0) # Lendo o arquivo csv \n",
    "df_cnes.columns.values # Exibindo os valores do arquivo     "
   ]
  },
  {
   "cell_type": "code",
   "execution_count": null,
   "metadata": {},
   "outputs": [],
   "source": [
    "colunas_c = ['CO_UNIDADE','CO_CNES','NO_RAZAO_SOCIAL','NO_FANTASIA','TP_UNIDADE','TP_GESTAO','CO_ESTADO_GESTOR','CO_MUNICIPIO_GESTOR'] \n",
    "# Selecionando as colunas que serão utilizadas"
   ]
  },
  {
   "cell_type": "code",
   "execution_count": 76,
   "metadata": {},
   "outputs": [],
   "source": [
    "with zipfile.ZipFile(dado_cnes) as myzip: # Abrindo o arquivo zip\n",
    "   with myzip.open('tbEstabelecimento202301.csv') as myfile:  \n",
    "      df_cnes = pd.read_csv(myfile, sep=';', encoding='latin-1', low_memory=False , usecols=colunas_c) # Lendo o arquivo csv\n",
    "df_cnes.head() # Exibindo as 5 primeiras linhas do arquivo"
   ]
  },
  {
   "cell_type": "code",
   "execution_count": null,
   "metadata": {},
   "outputs": [],
   "source": [
    "df_cnes.info() # Exibindo informações do arquivo"
   ]
  },
  {
   "attachments": {},
   "cell_type": "markdown",
   "metadata": {},
   "source": [
    "### SERVIÇO X CLASS"
   ]
  },
  {
   "cell_type": "code",
   "execution_count": null,
   "metadata": {},
   "outputs": [],
   "source": [
    "with zipfile.ZipFile(dado_cnes) as myzip: # Abrindo o arquivo zip\n",
    "   with myzip.open('rlEstabServClass202301.csv') as myfile:  \n",
    "      df_cnes_servicos = pd.read_csv(myfile, sep=';', encoding='latin-1', low_memory=False , nrows=0) # Lendo o arquivo csv\n",
    "df_cnes_servicos.columns.values # Exibindo os valores do arquivo"
   ]
  },
  {
   "cell_type": "code",
   "execution_count": null,
   "metadata": {},
   "outputs": [],
   "source": [
    "conlunas_s = ['CO_UNIDADE', 'CO_SERVICO', 'CO_CLASSIFICACAO'] # Selecionando as colunas que serão utilizadas"
   ]
  },
  {
   "cell_type": "code",
   "execution_count": null,
   "metadata": {},
   "outputs": [],
   "source": [
    "with zipfile.ZipFile(dado_cnes) as myzip: # Abrindo o arquivo zip\n",
    "   with myzip.open('rlEstabServClass202301.csv') as myfile:  \n",
    "      df_cnes_servicos = pd.read_csv(myfile, sep=';', encoding='latin-1', low_memory=False , usecols=conlunas_s) # Lendo o arquivo csv\n",
    "df_cnes_servicos.head() # Exibindo as 5 primeiras linhas do arquivo"
   ]
  },
  {
   "cell_type": "code",
   "execution_count": null,
   "metadata": {},
   "outputs": [],
   "source": [
    "df_cnes_servicos.info() # Exibindo informações do arquivo"
   ]
  },
  {
   "attachments": {},
   "cell_type": "markdown",
   "metadata": {},
   "source": [
    "### HABILITAÇÃO  "
   ]
  },
  {
   "cell_type": "code",
   "execution_count": null,
   "metadata": {},
   "outputs": [],
   "source": [
    "with zipfile.ZipFile(dado_cnes) as myzip: # Abrindo o arquivo zip\n",
    "   with myzip.open('rlEstabSipac202301.csv') as myfile:  \n",
    "      df_cnes_habilitacao = pd.read_csv(myfile, sep=';', encoding='latin-1', low_memory=False , nrows=0) # Lendo o arquivo csv\n",
    "df_cnes_habilitacao.columns.values # Exibindo os valores do arquivo"
   ]
  },
  {
   "cell_type": "code",
   "execution_count": null,
   "metadata": {},
   "outputs": [],
   "source": [
    "conlunas_h = ['CO_UNIDADE', 'COD_SUB_GRUPO_HABILITACAO',] # Selecionando as colunas que serão utilizadas"
   ]
  },
  {
   "cell_type": "code",
   "execution_count": null,
   "metadata": {},
   "outputs": [],
   "source": [
    "with zipfile.ZipFile(dado_cnes) as myzip: # Abrindo o arquivo zip\n",
    "   with myzip.open('rlEstabSipac202301.csv') as myfile:  \n",
    "      df_cnes_habilitacao = pd.read_csv(myfile, sep=';', encoding='latin-1', low_memory=False , usecols=conlunas_h) # Lendo o arquivo csv\n",
    "df_cnes_habilitacao.head() # Exibindo as 5 primeiras linhas do arquivo"
   ]
  },
  {
   "cell_type": "code",
   "execution_count": null,
   "metadata": {},
   "outputs": [],
   "source": [
    "df_cnes_habilitacao.info()  # Exibindo informações do arquivo"
   ]
  },
  {
   "attachments": {},
   "cell_type": "markdown",
   "metadata": {},
   "source": [
    "### LEITOS E LEITOS DE UTI"
   ]
  },
  {
   "cell_type": "code",
   "execution_count": null,
   "metadata": {},
   "outputs": [],
   "source": [
    "with zipfile.ZipFile(dado_cnes) as myzip: # Abrindo o arquivo zip\n",
    "   with myzip.open('rlEstabComplementar202301.csv') as myfile:  \n",
    "      df_cnes_leitos = pd.read_csv(myfile, sep=';', encoding='latin-1', low_memory=False , nrows=0) # Lendo o arquivo csv\n",
    "df_cnes_leitos.columns.values # Exibindo os valores do arquivo"
   ]
  },
  {
   "cell_type": "code",
   "execution_count": null,
   "metadata": {},
   "outputs": [],
   "source": [
    "colunas_l = ['CO_UNIDADE', 'CO_LEITO', 'CO_TIPO_LEITO','QT_EXIST','QT_SUS'] # Selecionando as colunas que serão utilizadas"
   ]
  },
  {
   "cell_type": "code",
   "execution_count": null,
   "metadata": {},
   "outputs": [],
   "source": [
    "with zipfile.ZipFile(dado_cnes) as myzip: # Abrindo o arquivo zip\n",
    "   with myzip.open('rlEstabComplementar202301.csv') as myfile:  \n",
    "      df_cnes_leitos = pd.read_csv(myfile, sep=';', encoding='latin-1', low_memory=False , usecols=colunas_l) # Lendo o arquivo csv\n",
    "df_cnes_leitos.head() # Exibindo as 5 primeiras linhas do arquivo"
   ]
  },
  {
   "cell_type": "code",
   "execution_count": null,
   "metadata": {},
   "outputs": [],
   "source": [
    "df_cnes_leitos.info() # Exibindo informações do arquivo"
   ]
  },
  {
   "attachments": {},
   "cell_type": "markdown",
   "metadata": {},
   "source": [
    "#### NOME DAS HABILITAÇÕES E LEITOS"
   ]
  },
  {
   "cell_type": "code",
   "execution_count": null,
   "metadata": {},
   "outputs": [],
   "source": [
    "with zipfile.ZipFile(dado_cnes) as myzip: # Abrindo o arquivo zip\n",
    "   with myzip.open('tbSubGruposHabilitacao202301.csv') as myfile:  \n",
    "      df_cnes_habilitacao_d = pd.read_csv(myfile, sep=';', encoding='latin-1', low_memory=False , nrows=0) # Lendo o arquivo csv\n",
    "df_cnes_habilitacao_d.columns.values # Exibindo os valores do arquivo"
   ]
  },
  {
   "cell_type": "code",
   "execution_count": null,
   "metadata": {},
   "outputs": [],
   "source": [
    "colunas_h_d = ['CO_CODIGO_GRUPO', 'NO_DESCRICAO_GRUPO'] # Selecionando as colunas que serão utilizadas"
   ]
  },
  {
   "cell_type": "code",
   "execution_count": null,
   "metadata": {},
   "outputs": [],
   "source": [
    "with zipfile.ZipFile(dado_cnes) as myzip: # Abrindo o arquivo zip\n",
    "   with myzip.open('tbSubGruposHabilitacao202301.csv') as myfile:  \n",
    "      df_cnes_habilitacao_d = pd.read_csv(myfile, sep=';', encoding='latin-1', low_memory=False , usecols=colunas_h_d) # Lendo o arquivo csv\n",
    "df_cnes_habilitacao_d.head() # Exibindo as 5 primeiras linhas do arquivo"
   ]
  },
  {
   "cell_type": "code",
   "execution_count": null,
   "metadata": {},
   "outputs": [],
   "source": [
    "df_cnes_habilitacao = pd.merge(df_cnes_habilitacao, df_cnes_habilitacao_d, left_on='COD_SUB_GRUPO_HABILITACAO', right_on='CO_CODIGO_GRUPO', how='left')\n",
    "df_cnes_habilitacao.drop(['COD_SUB_GRUPO_HABILITACAO'], axis=1, inplace=True)\n",
    "df_cnes_habilitacao.head() # Exibindo as 5 primeiras linhas do arquivo"
   ]
  },
  {
   "attachments": {},
   "cell_type": "markdown",
   "metadata": {},
   "source": [
    "### Merge entre os arquivos CNES"
   ]
  },
  {
   "attachments": {},
   "cell_type": "markdown",
   "metadata": {},
   "source": [
    "### Merge entre os arquivos CNES e Serviços "
   ]
  },
  {
   "cell_type": "code",
   "execution_count": null,
   "metadata": {},
   "outputs": [],
   "source": [
    "df_base_cnes_s = pd.merge(df_cnes, df_cnes_servicos, on='CO_UNIDADE', how='left') # Juntando os arquivos\n",
    "df_base_cnes_s.head() # Exibindo as 5 primeiras linhas do arquivo"
   ]
  },
  {
   "cell_type": "code",
   "execution_count": null,
   "metadata": {},
   "outputs": [],
   "source": [
    "df_base_cnes_s.drop_duplicates() # Removendo duplicados\n",
    "df_base_cnes_s.info() # Exibindo informações do arquivo"
   ]
  },
  {
   "attachments": {},
   "cell_type": "markdown",
   "metadata": {},
   "source": [
    "### Merge entre os arquivos CNES e Habilitação  "
   ]
  },
  {
   "cell_type": "code",
   "execution_count": null,
   "metadata": {},
   "outputs": [],
   "source": [
    "df_base_cnes_h = pd.merge(df_cnes, df_cnes_habilitacao, on='CO_UNIDADE', how='left') # Juntando os arquivos\n",
    "df_base_cnes_h.head() # Exibindo as 5 primeiras linhas do arquivo"
   ]
  },
  {
   "cell_type": "code",
   "execution_count": null,
   "metadata": {},
   "outputs": [],
   "source": [
    "df_base_cnes_h.drop_duplicates() # Removendo duplicados\n",
    "df_base_cnes_h.info() # Exibindo informações do arquivo"
   ]
  },
  {
   "cell_type": "code",
   "execution_count": null,
   "metadata": {},
   "outputs": [],
   "source": [
    "df_base_cnes_h.head() # Exibindo as 5 primeiras linhas do arquivo"
   ]
  },
  {
   "attachments": {},
   "cell_type": "markdown",
   "metadata": {},
   "source": [
    "### Merge entre os arquivos CNES e Leitos"
   ]
  },
  {
   "cell_type": "code",
   "execution_count": null,
   "metadata": {},
   "outputs": [],
   "source": [
    "df_base_cnes_l = pd.merge(df_cnes, df_cnes_leitos, on='CO_UNIDADE', how='left') # Juntando os arquivos\n",
    "df_base_cnes_l.head() # Exibindo as 5 primeiras linhas do arquivo"
   ]
  },
  {
   "cell_type": "code",
   "execution_count": null,
   "metadata": {},
   "outputs": [],
   "source": [
    "df_base_cnes_l.drop_duplicates() # Removendo duplicados\n",
    "df_base_cnes_l.info() # Exibindo informações do arquivo"
   ]
  },
  {
   "attachments": {},
   "cell_type": "markdown",
   "metadata": {},
   "source": [
    "### Salvando o banco de dados CNES em csv  "
   ]
  },
  {
   "cell_type": "code",
   "execution_count": null,
   "metadata": {},
   "outputs": [],
   "source": [
    "df_base_cnes_s.to_csv('BASE\\CNES\\BASE_CNES_SERVICOS.csv', sep=';', encoding='latin-1', index=False) # Exportando o arquivo para csv\n",
    "df_base_cnes_h.to_csv('BASE\\CNES\\BASE_CNES_HABILITACAO.csv', sep=';', encoding='latin-1', index=False) # Exportando o arquivo para csv\n",
    "df_base_cnes_l.to_csv('BASE\\CNES\\BASE_CNES_LEITOS.csv', sep=';', encoding='latin-1', index=False) # Exportando o arquivo para csv"
   ]
  },
  {
   "cell_type": "code",
   "execution_count": null,
   "metadata": {},
   "outputs": [],
   "source": [
    "tempo_analise = time.time()\n",
    "tempo_total = (float(tempo_analise - tempo_inicial)/60)\n",
    "print(f\"Tempo total de parcial:: {tempo_total:,.1f} minutos\" )"
   ]
  },
  {
   "attachments": {},
   "cell_type": "markdown",
   "metadata": {},
   "source": [
    "## BASE TETO MAC"
   ]
  },
  {
   "cell_type": "code",
   "execution_count": 16,
   "metadata": {},
   "outputs": [
    {
     "data": {
      "text/html": [
       "<div>\n",
       "<style scoped>\n",
       "    .dataframe tbody tr th:only-of-type {\n",
       "        vertical-align: middle;\n",
       "    }\n",
       "\n",
       "    .dataframe tbody tr th {\n",
       "        vertical-align: top;\n",
       "    }\n",
       "\n",
       "    .dataframe thead th {\n",
       "        text-align: right;\n",
       "    }\n",
       "</style>\n",
       "<table border=\"1\" class=\"dataframe\">\n",
       "  <thead>\n",
       "    <tr style=\"text-align: right;\">\n",
       "      <th></th>\n",
       "      <th>Sigla UF</th>\n",
       "      <th>Código IBGE</th>\n",
       "      <th>Estado / Município</th>\n",
       "      <th>Código Gestão</th>\n",
       "      <th>Descrição Gestão</th>\n",
       "      <th>Teto Financeiro MAC - Valores Anuais (R$)</th>\n",
       "    </tr>\n",
       "  </thead>\n",
       "  <tbody>\n",
       "    <tr>\n",
       "      <th>2</th>\n",
       "      <td>AC</td>\n",
       "      <td>120001</td>\n",
       "      <td>ACRELÂNDIA</td>\n",
       "      <td>1</td>\n",
       "      <td>Gestão Municipal</td>\n",
       "      <td>372836.91</td>\n",
       "    </tr>\n",
       "    <tr>\n",
       "      <th>3</th>\n",
       "      <td>AC</td>\n",
       "      <td>120005</td>\n",
       "      <td>ASSIS BRASIL</td>\n",
       "      <td>1</td>\n",
       "      <td>Gestão Municipal</td>\n",
       "      <td>0.00</td>\n",
       "    </tr>\n",
       "    <tr>\n",
       "      <th>4</th>\n",
       "      <td>AC</td>\n",
       "      <td>120010</td>\n",
       "      <td>BRASILÉIA</td>\n",
       "      <td>1</td>\n",
       "      <td>Gestão Municipal</td>\n",
       "      <td>339660.00</td>\n",
       "    </tr>\n",
       "    <tr>\n",
       "      <th>5</th>\n",
       "      <td>AC</td>\n",
       "      <td>120013</td>\n",
       "      <td>BUJARI</td>\n",
       "      <td>1</td>\n",
       "      <td>Gestão Municipal</td>\n",
       "      <td>0.00</td>\n",
       "    </tr>\n",
       "    <tr>\n",
       "      <th>6</th>\n",
       "      <td>AC</td>\n",
       "      <td>120017</td>\n",
       "      <td>CAPIXABA</td>\n",
       "      <td>1</td>\n",
       "      <td>Gestão Municipal</td>\n",
       "      <td>339660.00</td>\n",
       "    </tr>\n",
       "  </tbody>\n",
       "</table>\n",
       "</div>"
      ],
      "text/plain": [
       "  Sigla UF  Código IBGE Estado / Município  Código Gestão  Descrição Gestão  \\\n",
       "2       AC       120001         ACRELÂNDIA              1  Gestão Municipal   \n",
       "3       AC       120005       ASSIS BRASIL              1  Gestão Municipal   \n",
       "4       AC       120010          BRASILÉIA              1  Gestão Municipal   \n",
       "5       AC       120013             BUJARI              1  Gestão Municipal   \n",
       "6       AC       120017           CAPIXABA              1  Gestão Municipal   \n",
       "\n",
       "   Teto Financeiro MAC - Valores Anuais (R$)  \n",
       "2                                  372836.91  \n",
       "3                                       0.00  \n",
       "4                                  339660.00  \n",
       "5                                       0.00  \n",
       "6                                  339660.00  "
      ]
     },
     "execution_count": 16,
     "metadata": {},
     "output_type": "execute_result"
    }
   ],
   "source": [
    "dado_tetp = glob('BASE/*relatorioTetoFinanceiroBrasilExcel.xlsx')[0] # Listando os arquivos do diretório\n",
    "df_teto_mac = pd.read_excel(dado_tetp, sheet_name='relatorioTetoFinanceiroBrasilEx') # Lê o arquivo excel\n",
    "df_teto_mac.drop(df_teto_mac.loc[df_teto_mac['Descrição Gestão']=='Total UF'].index, inplace=True) # Remove as linhas com o valor 'Total'\n",
    "df_teto_mac.drop(df_teto_mac.loc[df_teto_mac['Descrição Gestão']=='Gestão Estadual'].index, inplace=True) # Remove as linhas com o valor 'Gestão Estadual'\n",
    "df_teto_mac.head() # Exibe as 5 primeiras linhas do arquivo"
   ]
  },
  {
   "cell_type": "code",
   "execution_count": null,
   "metadata": {},
   "outputs": [],
   "source": [
    "df_teto_mac.info() # Exibe informações do arquivo"
   ]
  },
  {
   "cell_type": "code",
   "execution_count": null,
   "metadata": {},
   "outputs": [],
   "source": [
    "df_teto_mac.to_csv('BASE\\TETO\\TETO_MAC.csv', sep=';', encoding='latin-1', index=False) # Exporta o arquivo para csv"
   ]
  },
  {
   "cell_type": "code",
   "execution_count": null,
   "metadata": {},
   "outputs": [],
   "source": [
    "tempo_processo = time.time()\n",
    "tempo_total = (float(tempo_processo - tempo_inicial)/60)\n",
    "tempo_parcial = (float(tempo_processo - tempo_analise)/60)\n",
    "print(f\"Tempo total de parcial: {tempo_parcial:,.1f} minutos\" )\n",
    "print(f\"Tempo total de execução: {tempo_total:,.1f} minutos\" )"
   ]
  },
  {
   "attachments": {},
   "cell_type": "markdown",
   "metadata": {},
   "source": [
    "## BASE SIGTAP"
   ]
  },
  {
   "cell_type": "code",
   "execution_count": 17,
   "metadata": {},
   "outputs": [],
   "source": [
    "dado_sigtap = glob('BASE/TabelaUnificada_2023*.zip')[0] # Listando os arquivos do diretório"
   ]
  },
  {
   "cell_type": "code",
   "execution_count": null,
   "metadata": {},
   "outputs": [],
   "source": [
    "with zipfile.ZipFile(dado_sigtap) as myzip: # Abrindo o arquivo zip\n",
    "   print(myzip.namelist(),sep=\",\") # Listando os arquivos do zip"
   ]
  },
  {
   "attachments": {},
   "cell_type": "markdown",
   "metadata": {},
   "source": [
    "## Importando tabela de procedimentos"
   ]
  },
  {
   "cell_type": "code",
   "execution_count": null,
   "metadata": {},
   "outputs": [],
   "source": [
    "with zipfile.ZipFile(dado_sigtap) as myzip: # Abrindo o arquivo zip\n",
    "   with myzip.open('tb_procedimento.txt') as myfile:  \n",
    "      df_sigtap = pd.read_fwf(myfile, colspecs=[(0,10), (10,260), (260,261), (261,262), (262,266), (266,270), (270,274), (274,278), (278,282), (282,292), (292,302), (302,312), (312,314), (314,320), (320,324), (324,330)], \n",
    "                              names=[\"CO_PROCEDIMENTO\", \"NO_PROCEDIMENTO\", \"TP_COMPLEXIDADE\",\"TP_SEXO\",\"QT_MAXIMA_EXECUCAO\",\"QT_DIAS_PERMANENCIA\",\"QT_PONTOS\",\"VL_IDADE_MINIMA\",\"VL_IDADE_MAXIMA\",\n",
    "                                     \"VL_SH\",\"VL_SA\",\"VL_SP\",\"CO_FINANCIAMENTO\",\"CO_RUBRICA\",\"QT_TEMPO_PERMANENCIA\",\"DT_COMPETENCIA\"], encoding='latin') # Lendo o arquivo txt\n",
    "df_sigtap.drop(['TP_COMPLEXIDADE','TP_SEXO','QT_MAXIMA_EXECUCAO','QT_DIAS_PERMANENCIA','QT_PONTOS','VL_IDADE_MINIMA','VL_IDADE_MAXIMA','VL_SH','VL_SA','VL_SP',\n",
    "                'CO_FINANCIAMENTO','CO_RUBRICA','QT_TEMPO_PERMANENCIA','DT_COMPETENCIA'], axis=1, inplace=True) # Removendo colunas desnecessárias\n",
    "df_sigtap.head() # Exibindo as 5 primeiras linhas do arquivo"
   ]
  },
  {
   "attachments": {},
   "cell_type": "markdown",
   "metadata": {},
   "source": [
    "### Importar serviço/classificação"
   ]
  },
  {
   "cell_type": "code",
   "execution_count": null,
   "metadata": {},
   "outputs": [],
   "source": [
    "with zipfile.ZipFile(dado_sigtap) as myzip: # Abrindo o arquivo zip\n",
    "   with myzip.open('rl_procedimento_servico.txt') as myfile:  \n",
    "      df_sigtap_servico = pd.read_fwf(myfile, colspecs=[(0,10), (10,13), (13,16), (16,22)], \n",
    "                              names=[\"CO_PROCEDIMENTO\",\"CO_SERVICO\",\"CO_CLASSIFICACAO\",\"DT_COMPETENCIA\"], encoding='latin') # Lendo o arquivo txt\n",
    "df_sigtap_servico.drop(['DT_COMPETENCIA'], axis=1, inplace=True) # Removendo colunas desnecessárias\n",
    "df_sigtap_servico.head() # Exibindo as 5 primeiras linhas do arquivo"
   ]
  },
  {
   "attachments": {},
   "cell_type": "markdown",
   "metadata": {},
   "source": [
    "### Importar Habilitação"
   ]
  },
  {
   "cell_type": "code",
   "execution_count": null,
   "metadata": {},
   "outputs": [],
   "source": [
    "with zipfile.ZipFile(dado_sigtap) as myzip: # Abrindo o arquivo zip\n",
    "   with myzip.open('rl_procedimento_habilitacao.txt') as myfile:  \n",
    "      df_sigtap_habilitacao = pd.read_fwf(myfile, colspecs=[(0,10), (10,14), (14,18), (18,24)], names=[\"CO_PROCEDIMENTO\", \"CO_HABILITACAO\", \"NU_GRUPO_HABILITACAO\", \"DT_COMPETENCIA\"]) # Lendo o arquivo txt\n",
    "df_sigtap_habilitacao.drop(['NU_GRUPO_HABILITACAO','DT_COMPETENCIA'], axis=1, inplace=True) # Removendo colunas desnecessárias\n",
    "df_sigtap_habilitacao.head() # Exibindo as 5 primeiras linhas do arquivo"
   ]
  },
  {
   "attachments": {},
   "cell_type": "markdown",
   "metadata": {},
   "source": [
    "### Importar Registro"
   ]
  },
  {
   "cell_type": "code",
   "execution_count": null,
   "metadata": {},
   "outputs": [],
   "source": [
    "with zipfile.ZipFile(dado_sigtap) as myzip: # Abrindo o arquivo zip\n",
    "   with myzip.open('rl_procedimento_registro.txt') as myfile:  \n",
    "      df_sigtap_modalidade = pd.read_fwf(myfile, colspecs=[(0,10), (10,12), (12,18)], names=[\"CO_PROCEDIMENTO\", \"CO_REGISTRO\", \"DT_COMPETENCIA\"]) # Lendo o arquivo txt\n",
    "df_sigtap_modalidade.drop(['DT_COMPETENCIA'], axis=1, inplace=True) # Removendo colunas desnecessárias\n",
    "df_sigtap_modalidade.head() # Exibindo as 5 primeiras linhas do arquivo\n"
   ]
  },
  {
   "cell_type": "code",
   "execution_count": null,
   "metadata": {},
   "outputs": [],
   "source": [
    "with zipfile.ZipFile(dado_sigtap) as myzip: # Abrindo o arquivo zip\n",
    "   with myzip.open('tb_registro.txt') as myfile:  \n",
    "      df_sigtap_registro = pd.read_fwf(myfile, colspecs=[(0,2), (2,52), (52,58)], names=[\"CO_REGISTRO\", \"NO_REGISTRO\", \"DT_COMPETENCIA\"], encoding='latin') # Lendo o arquivo txt\n",
    "df_sigtap_registro.drop(['DT_COMPETENCIA'], axis=1, inplace=True) # Removendo colunas desnecessárias\n",
    "df_sigtap_registro.head() # Exibindo as 5 primeiras linhas do arquivo\n",
    "\n",
    "df_sigtap_modalidade = pd.merge(df_sigtap_modalidade, df_sigtap_registro, on='CO_REGISTRO', how='left') # Juntando os arquivos\n",
    "df_sigtap_modalidade.head() # Exibindo as 5 primeiras linhas do arquivo"
   ]
  },
  {
   "attachments": {},
   "cell_type": "markdown",
   "metadata": {},
   "source": [
    "### Definido Grupo, Sub-grupo e forma de organização"
   ]
  },
  {
   "cell_type": "code",
   "execution_count": null,
   "metadata": {},
   "outputs": [],
   "source": []
  },
  {
   "attachments": {},
   "cell_type": "markdown",
   "metadata": {},
   "source": [
    "### Merge entre os arquivos SIGTAP"
   ]
  },
  {
   "cell_type": "code",
   "execution_count": null,
   "metadata": {},
   "outputs": [],
   "source": [
    "df_sigtap_m = pd.merge(df_sigtap, df_sigtap_modalidade, on='CO_PROCEDIMENTO', how='left') # Juntando os arquivos 3\n",
    "df_sigtap_m.head() # Exibindo as 5 primeiras linhas do arquivo"
   ]
  },
  {
   "cell_type": "code",
   "execution_count": null,
   "metadata": {},
   "outputs": [],
   "source": [
    "proc_portaria = df_sigtap_m['CO_REGISTRO'].str.upper('4') | df_sigtap_m['CO_REGISTRO'].str.startswith('6') # Criando uma coluna com os procedimentos que estão na portaria\n"
   ]
  },
  {
   "attachments": {},
   "cell_type": "markdown",
   "metadata": {},
   "source": [
    "df_sigtap_m.drop(df_sigtap_m.loc[df_sigtap_m[proc_portaria]].index, inplace=True) # Removendo linhas com valores nulos"
   ]
  },
  {
   "cell_type": "code",
   "execution_count": null,
   "metadata": {},
   "outputs": [],
   "source": [
    "df_sigtap_m.head(800) # Exibindo as 5 primeiras linhas do arquivo"
   ]
  },
  {
   "cell_type": "code",
   "execution_count": null,
   "metadata": {},
   "outputs": [],
   "source": [
    "df_sigtap_m.info() # Informações do arquivo"
   ]
  },
  {
   "cell_type": "code",
   "execution_count": null,
   "metadata": {},
   "outputs": [],
   "source": [
    "df_sigtap_s = pd.merge(df_sigtap, df_sigtap_servico, on='CO_PROCEDIMENTO', how='left') # Juntando os arquivos\n",
    "df_sigtap_s.head() # Exibindo as 5 primeiras linhas do arquivo"
   ]
  },
  {
   "cell_type": "code",
   "execution_count": null,
   "metadata": {},
   "outputs": [],
   "source": [
    "df_sigtap_s.info() # Verificando o tipo de dados"
   ]
  },
  {
   "cell_type": "code",
   "execution_count": null,
   "metadata": {},
   "outputs": [],
   "source": [
    "df_sigtap_h = pd.merge(df_sigtap, df_sigtap_habilitacao, on='CO_PROCEDIMENTO', how='left') # Juntando os arquivos\n",
    "df_sigtap_h.head() # Exibindo as 5 primeiras linhas do arquivo"
   ]
  },
  {
   "cell_type": "code",
   "execution_count": null,
   "metadata": {},
   "outputs": [],
   "source": [
    "df_sigtap_h.info() # Verificando o tipo de dados"
   ]
  },
  {
   "cell_type": "code",
   "execution_count": null,
   "metadata": {},
   "outputs": [],
   "source": []
  },
  {
   "cell_type": "code",
   "execution_count": null,
   "metadata": {},
   "outputs": [],
   "source": []
  },
  {
   "cell_type": "code",
   "execution_count": null,
   "metadata": {},
   "outputs": [],
   "source": []
  },
  {
   "cell_type": "code",
   "execution_count": null,
   "metadata": {},
   "outputs": [],
   "source": []
  },
  {
   "cell_type": "code",
   "execution_count": null,
   "metadata": {},
   "outputs": [],
   "source": []
  },
  {
   "cell_type": "code",
   "execution_count": null,
   "metadata": {},
   "outputs": [],
   "source": []
  },
  {
   "cell_type": "code",
   "execution_count": null,
   "metadata": {},
   "outputs": [],
   "source": []
  },
  {
   "cell_type": "code",
   "execution_count": null,
   "metadata": {},
   "outputs": [],
   "source": []
  },
  {
   "cell_type": "code",
   "execution_count": null,
   "metadata": {},
   "outputs": [],
   "source": [
    "tempo_final = time.time()\n",
    "tempo_total = (float(tempo_final - tempo_inicial)/60)\n",
    "print(f\"Tempo total de execução: {tempo_total:,.1f} minutos\" )"
   ]
  }
 ],
 "metadata": {
  "kernelspec": {
   "display_name": "Python 3",
   "language": "python",
   "name": "python3"
  },
  "language_info": {
   "codemirror_mode": {
    "name": "ipython",
    "version": 3
   },
   "file_extension": ".py",
   "mimetype": "text/x-python",
   "name": "python",
   "nbconvert_exporter": "python",
   "pygments_lexer": "ipython3",
   "version": "3.10.10"
  },
  "orig_nbformat": 4,
  "vscode": {
   "interpreter": {
    "hash": "f7f8c097c8b77234b1554043a16e456bc3013eb7e1454957444d1d61c725966c"
   }
  }
 },
 "nbformat": 4,
 "nbformat_minor": 2
}
