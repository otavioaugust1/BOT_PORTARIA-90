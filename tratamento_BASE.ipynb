{
 "cells": [
  {
   "attachments": {},
   "cell_type": "markdown",
   "metadata": {},
   "source": [
    "# TRATAMENTO DOS DADOS DO CNES e SIGPTA"
   ]
  },
  {
   "attachments": {},
   "cell_type": "markdown",
   "metadata": {},
   "source": [
    "O tratamento "
   ]
  },
  {
   "cell_type": "code",
   "execution_count": null,
   "metadata": {},
   "outputs": [],
   "source": [
    "#Pandas: Possui inúmeras funções e comandos para importar arquivos, analisar dados, tratar dados, etc.\n",
    "import pandas as pd # importando a biblioteca pandas\n",
    "\n",
    "#Numpy: Possui uma série de funções e comandos para trabalharmos com números de forma em geral(formatação, calculos, etc)\n",
    "import numpy as np # importando a biblioteca numpy\n",
    "\n",
    "#Time: Possui uma série de funções e comandos para trabalharmos com tempo\n",
    "import time # importando a biblioteca time\n",
    "\n",
    "#Zipfile: Possui uma série de funções e comandos para trabalharmos com arquivos zip\n",
    "import zipfile # importando a biblioteca zipfile\n",
    "\n",
    "#Warnings: Possui detalhes sobre os avisos e alertas que aparecem, porém podemos utiliza-lo também para que os alertas de\n",
    "#futuras atualizações e metodos depreciados não sejam exibidos\n",
    "import warnings\n",
    "warnings.filterwarnings(\"ignore\") \n",
    "tempo_inicial = time.time() # tempo inicial para calcular o tempo de execução do código\n",
    "\n",
    "from glob import glob # Utilizado para listar arquivos de um diretório\n",
    "\n",
    "#Comando para exibir todas colunas do arquivo\n",
    "pd.set_option('display.max_columns', None)\n",
    "pd.set_option('display.max_rows', None)"
   ]
  },
  {
   "attachments": {},
   "cell_type": "markdown",
   "metadata": {},
   "source": [
    "# Importação dos dados CNES e SIGTAP: Analise e Tratamento de Dados"
   ]
  },
  {
   "attachments": {},
   "cell_type": "markdown",
   "metadata": {},
   "source": [
    "## BASE CNES"
   ]
  },
  {
   "cell_type": "code",
   "execution_count": null,
   "metadata": {},
   "outputs": [],
   "source": [
    "with zipfile.ZipFile('BASE\\BASE_DE_DADOS_CNES_202301.ZIP') as myzip: # Abrindo o arquivo zip\n",
    "   print(myzip.namelist(),sep=\",\") # Listando os arquivos do zip"
   ]
  },
  {
   "cell_type": "code",
   "execution_count": null,
   "metadata": {},
   "outputs": [],
   "source": [
    "with zipfile.ZipFile('BASE\\BASE_DE_DADOS_CNES_202301.ZIP') as myzip: # Abrindo o arquivo zip\n",
    "   with myzip.open('tbEstabelecimento202301.csv') as myfile:  \n",
    "      df_cnes = pd.read_csv(myfile, sep=';', encoding='latin-1', low_memory=False , nrows=0) # Lendo o arquivo csv      "
   ]
  },
  {
   "cell_type": "code",
   "execution_count": null,
   "metadata": {},
   "outputs": [],
   "source": [
    "df_cnes.columns.values # Exibindo os valores do arquivo"
   ]
  },
  {
   "cell_type": "code",
   "execution_count": null,
   "metadata": {},
   "outputs": [],
   "source": [
    "colunas_c = ['CO_UNIDADE','CO_CNES','NO_RAZAO_SOCIAL','NO_FANTASIA','TP_UNIDADE','TP_GESTAO','CO_ESTADO_GESTOR','CO_MUNICIPIO_GESTOR'] \n",
    "# Selecionando as colunas que serão utilizadas"
   ]
  },
  {
   "cell_type": "code",
   "execution_count": null,
   "metadata": {},
   "outputs": [],
   "source": [
    "with zipfile.ZipFile('BASE\\BASE_DE_DADOS_CNES_202301.ZIP') as myzip: # Abrindo o arquivo zip\n",
    "   with myzip.open('tbEstabelecimento202301.csv') as myfile:  \n",
    "      df_cnes = pd.read_csv(myfile, sep=';', encoding='latin-1', low_memory=False , usecols=colunas_c) # Lendo o arquivo csv"
   ]
  },
  {
   "cell_type": "code",
   "execution_count": null,
   "metadata": {},
   "outputs": [],
   "source": [
    "df_cnes.head() # Exibindo as 5 primeiras linhas do arquivo"
   ]
  },
  {
   "cell_type": "code",
   "execution_count": null,
   "metadata": {},
   "outputs": [],
   "source": [
    "df_cnes.info() # Exibindo informações do arquivo"
   ]
  },
  {
   "attachments": {},
   "cell_type": "markdown",
   "metadata": {},
   "source": [
    "### SERVIÇO X CLASS"
   ]
  },
  {
   "cell_type": "code",
   "execution_count": null,
   "metadata": {},
   "outputs": [],
   "source": [
    "with zipfile.ZipFile('BASE\\BASE_DE_DADOS_CNES_202301.ZIP') as myzip: # Abrindo o arquivo zip\n",
    "   with myzip.open('rlEstabServClass202301.csv') as myfile:  \n",
    "      df_cnes_servicos = pd.read_csv(myfile, sep=';', encoding='latin-1', low_memory=False , nrows=0) # Lendo o arquivo csv"
   ]
  },
  {
   "cell_type": "code",
   "execution_count": null,
   "metadata": {},
   "outputs": [],
   "source": [
    "df_cnes_servicos.columns.values # Exibindo os valores do arquivo"
   ]
  },
  {
   "cell_type": "code",
   "execution_count": null,
   "metadata": {},
   "outputs": [],
   "source": [
    "conlunas_s = ['CO_UNIDADE', 'CO_SERVICO', 'CO_CLASSIFICACAO'] # Selecionando as colunas que serão utilizadas"
   ]
  },
  {
   "cell_type": "code",
   "execution_count": null,
   "metadata": {},
   "outputs": [],
   "source": [
    "with zipfile.ZipFile('BASE\\BASE_DE_DADOS_CNES_202301.ZIP') as myzip: # Abrindo o arquivo zip\n",
    "   with myzip.open('rlEstabServClass202301.csv') as myfile:  \n",
    "      df_cnes_servicos = pd.read_csv(myfile, sep=';', encoding='latin-1', low_memory=False , usecols=conlunas_s) # Lendo o arquivo csv"
   ]
  },
  {
   "cell_type": "code",
   "execution_count": null,
   "metadata": {},
   "outputs": [],
   "source": [
    "df_cnes_servicos.head() # Exibindo as 5 primeiras linhas do arquivo"
   ]
  },
  {
   "cell_type": "code",
   "execution_count": null,
   "metadata": {},
   "outputs": [],
   "source": [
    "df_cnes_servicos.info() # Exibindo informações do arquivo"
   ]
  },
  {
   "attachments": {},
   "cell_type": "markdown",
   "metadata": {},
   "source": [
    "### HABILITAÇÃO  "
   ]
  },
  {
   "cell_type": "code",
   "execution_count": null,
   "metadata": {},
   "outputs": [],
   "source": [
    "with zipfile.ZipFile('BASE\\BASE_DE_DADOS_CNES_202301.ZIP') as myzip: # Abrindo o arquivo zip\n",
    "   with myzip.open('rlEstabSipac202301.csv') as myfile:  \n",
    "      df_cnes_habilitacao = pd.read_csv(myfile, sep=';', encoding='latin-1', low_memory=False , nrows=0) # Lendo o arquivo csv"
   ]
  },
  {
   "cell_type": "code",
   "execution_count": null,
   "metadata": {},
   "outputs": [],
   "source": [
    "df_cnes_habilitacao.columns.values # Exibindo os valores do arquivo"
   ]
  },
  {
   "cell_type": "code",
   "execution_count": null,
   "metadata": {},
   "outputs": [],
   "source": [
    "conlunas_h = ['CO_UNIDADE', 'COD_SUB_GRUPO_HABILITACAO',] # Selecionando as colunas que serão utilizadas"
   ]
  },
  {
   "cell_type": "code",
   "execution_count": null,
   "metadata": {},
   "outputs": [],
   "source": [
    "with zipfile.ZipFile('BASE\\BASE_DE_DADOS_CNES_202301.ZIP') as myzip: # Abrindo o arquivo zip\n",
    "   with myzip.open('rlEstabSipac202301.csv') as myfile:  \n",
    "      df_cnes_habilitacao = pd.read_csv(myfile, sep=';', encoding='latin-1', low_memory=False , usecols=conlunas_h) # Lendo o arquivo csv"
   ]
  },
  {
   "cell_type": "code",
   "execution_count": null,
   "metadata": {},
   "outputs": [],
   "source": [
    "df_cnes_habilitacao.head() # Exibindo as 5 primeiras linhas do arquivo"
   ]
  },
  {
   "cell_type": "code",
   "execution_count": null,
   "metadata": {},
   "outputs": [],
   "source": [
    "df_cnes_habilitacao.info()  # Exibindo informações do arquivo"
   ]
  },
  {
   "attachments": {},
   "cell_type": "markdown",
   "metadata": {},
   "source": [
    "### LEITOS E LEITOS DE UTI"
   ]
  },
  {
   "cell_type": "code",
   "execution_count": null,
   "metadata": {},
   "outputs": [],
   "source": [
    "with zipfile.ZipFile('BASE\\BASE_DE_DADOS_CNES_202301.ZIP') as myzip: # Abrindo o arquivo zip\n",
    "   with myzip.open('rlEstabComplementar202301.csv') as myfile:  \n",
    "      df_cnes_leitos = pd.read_csv(myfile, sep=';', encoding='latin-1', low_memory=False , nrows=0) # Lendo o arquivo csv"
   ]
  },
  {
   "cell_type": "code",
   "execution_count": null,
   "metadata": {},
   "outputs": [],
   "source": [
    "df_cnes_leitos.columns.values # Exibindo os valores do arquivo"
   ]
  },
  {
   "cell_type": "code",
   "execution_count": null,
   "metadata": {},
   "outputs": [],
   "source": [
    "colunas_l = ['CO_UNIDADE', 'CO_LEITO', 'CO_TIPO_LEITO','QT_EXIST','QT_SUS'] # Selecionando as colunas que serão utilizadas"
   ]
  },
  {
   "cell_type": "code",
   "execution_count": null,
   "metadata": {},
   "outputs": [],
   "source": [
    "with zipfile.ZipFile('BASE\\BASE_DE_DADOS_CNES_202301.ZIP') as myzip: # Abrindo o arquivo zip\n",
    "   with myzip.open('rlEstabComplementar202301.csv') as myfile:  \n",
    "      df_cnes_leitos = pd.read_csv(myfile, sep=';', encoding='latin-1', low_memory=False , usecols=colunas_l) # Lendo o arquivo csv"
   ]
  },
  {
   "cell_type": "code",
   "execution_count": null,
   "metadata": {},
   "outputs": [],
   "source": [
    "df_cnes_leitos.head() # Exibindo as 5 primeiras linhas do arquivo"
   ]
  },
  {
   "cell_type": "code",
   "execution_count": null,
   "metadata": {},
   "outputs": [],
   "source": [
    "df_cnes_leitos.info() # Exibindo informações do arquivo"
   ]
  },
  {
   "attachments": {},
   "cell_type": "markdown",
   "metadata": {},
   "source": [
    "#### NOME DAS HABILITAÇÕES E LEITOS"
   ]
  },
  {
   "cell_type": "code",
   "execution_count": null,
   "metadata": {},
   "outputs": [],
   "source": [
    "with zipfile.ZipFile('BASE\\BASE_DE_DADOS_CNES_202301.ZIP') as myzip: # Abrindo o arquivo zip\n",
    "   with myzip.open('tbSubGruposHabilitacao202301.csv') as myfile:  \n",
    "      df_cnes_habilitacao_d = pd.read_csv(myfile, sep=';', encoding='latin-1', low_memory=False , nrows=0) # Lendo o arquivo csv"
   ]
  },
  {
   "cell_type": "code",
   "execution_count": null,
   "metadata": {},
   "outputs": [],
   "source": [
    "df_cnes_habilitacao_d.columns.values # Exibindo os valores do arquivo"
   ]
  },
  {
   "cell_type": "code",
   "execution_count": null,
   "metadata": {},
   "outputs": [],
   "source": [
    "colunas_h_d = ['CO_CODIGO_GRUPO', 'NO_DESCRICAO_GRUPO'] # Selecionando as colunas que serão utilizadas"
   ]
  },
  {
   "cell_type": "code",
   "execution_count": null,
   "metadata": {},
   "outputs": [],
   "source": [
    "with zipfile.ZipFile('BASE\\BASE_DE_DADOS_CNES_202301.ZIP') as myzip: # Abrindo o arquivo zip\n",
    "   with myzip.open('tbSubGruposHabilitacao202301.csv') as myfile:  \n",
    "      df_cnes_habilitacao_d = pd.read_csv(myfile, sep=';', encoding='latin-1', low_memory=False , usecols=colunas_h_d) # Lendo o arquivo csv"
   ]
  },
  {
   "cell_type": "code",
   "execution_count": null,
   "metadata": {},
   "outputs": [],
   "source": [
    "df_cnes_habilitacao_d.head() # Exibindo as 5 primeiras linhas do arquivo"
   ]
  },
  {
   "cell_type": "code",
   "execution_count": null,
   "metadata": {},
   "outputs": [],
   "source": [
    "df_cnes_habilitacao = pd.merge(df_cnes_habilitacao, df_cnes_habilitacao_d, left_on='COD_SUB_GRUPO_HABILITACAO', right_on='CO_CODIGO_GRUPO', how='left')\n",
    "df_cnes_habilitacao.head() # Exibindo as 5 primeiras linhas do arquivo"
   ]
  },
  {
   "attachments": {},
   "cell_type": "markdown",
   "metadata": {},
   "source": [
    "### Merge entre os arquivos CNES"
   ]
  },
  {
   "attachments": {},
   "cell_type": "markdown",
   "metadata": {},
   "source": [
    "### Merge entre os arquivos CNES e Serviços "
   ]
  },
  {
   "cell_type": "code",
   "execution_count": null,
   "metadata": {},
   "outputs": [],
   "source": [
    "df_base_cnes_s = pd.merge(df_cnes, df_cnes_servicos, on='CO_UNIDADE', how='left') # Juntando os arquivos\n",
    "df_base_cnes_s.head() # Exibindo as 5 primeiras linhas do arquivo"
   ]
  },
  {
   "cell_type": "code",
   "execution_count": null,
   "metadata": {},
   "outputs": [],
   "source": [
    "df_base_cnes_s.drop_duplicates() # Removendo duplicados\n",
    "df_base_cnes_s.info() # Exibindo informações do arquivo"
   ]
  },
  {
   "attachments": {},
   "cell_type": "markdown",
   "metadata": {},
   "source": [
    "### Merge entre os arquivos CNES e Habilitação  "
   ]
  },
  {
   "cell_type": "code",
   "execution_count": null,
   "metadata": {},
   "outputs": [],
   "source": [
    "df_base_cnes_h = pd.merge(df_cnes, df_cnes_habilitacao, on='CO_UNIDADE', how='left') # Juntando os arquivos\n",
    "df_base_cnes_h.head() # Exibindo as 5 primeiras linhas do arquivo"
   ]
  },
  {
   "cell_type": "code",
   "execution_count": null,
   "metadata": {},
   "outputs": [],
   "source": [
    "df_base_cnes_h.drop_duplicates() # Removendo duplicados\n",
    "df_base_cnes_h.info() # Exibindo informações do arquivo"
   ]
  },
  {
   "cell_type": "code",
   "execution_count": null,
   "metadata": {},
   "outputs": [],
   "source": [
    "df_base_cnes_h.drop('COD_SUB_GRUPO_HABILITACAO', axis=1) # Removendo coluna\n"
   ]
  },
  {
   "cell_type": "code",
   "execution_count": null,
   "metadata": {},
   "outputs": [],
   "source": [
    "df_base_cnes_h.head() # Exibindo as 5 primeiras linhas do arquivo"
   ]
  },
  {
   "attachments": {},
   "cell_type": "markdown",
   "metadata": {},
   "source": [
    "### Merge entre os arquivos CNES e Leitos"
   ]
  },
  {
   "cell_type": "code",
   "execution_count": null,
   "metadata": {},
   "outputs": [],
   "source": [
    "df_base_cnes_l = pd.merge(df_cnes, df_cnes_leitos, on='CO_UNIDADE', how='left') # Juntando os arquivos\n",
    "df_base_cnes_l.head() # Exibindo as 5 primeiras linhas do arquivo"
   ]
  },
  {
   "cell_type": "code",
   "execution_count": null,
   "metadata": {},
   "outputs": [],
   "source": [
    "df_base_cnes_l.drop_duplicates() # Removendo duplicados\n",
    "df_base_cnes_l.info() # Exibindo informações do arquivo"
   ]
  },
  {
   "attachments": {},
   "cell_type": "markdown",
   "metadata": {},
   "source": [
    "### Salvando o banco de dados CNES em csv  "
   ]
  },
  {
   "cell_type": "code",
   "execution_count": null,
   "metadata": {},
   "outputs": [],
   "source": [
    "df_base_cnes_s.to_csv('BASE\\CNES\\BASE_CNES_SERVICOS.csv', sep=';', encoding='latin-1', index=False) # Exportando o arquivo para csv\n",
    "df_base_cnes_h.to_csv('BASE\\CNES\\BASE_CNES_HABILITACAO.csv', sep=';', encoding='latin-1', index=False) # Exportando o arquivo para csv\n",
    "df_base_cnes_l.to_csv('BASE\\CNES\\BASE_CNES_LEITOS.csv', sep=';', encoding='latin-1', index=False) # Exportando o arquivo para csv\n"
   ]
  },
  {
   "cell_type": "code",
   "execution_count": null,
   "metadata": {},
   "outputs": [],
   "source": [
    "tempo_analise = time.time()\n",
    "tempo_total = (float(tempo_analise - tempo_inicial)/60)\n",
    "print(f\"Tempo total de parcial:: {tempo_total:,.1f} minutos\" )"
   ]
  },
  {
   "attachments": {},
   "cell_type": "markdown",
   "metadata": {},
   "source": [
    "# Importação dos dados SIGTAP, Analise e Tratamento de Dados    "
   ]
  },
  {
   "cell_type": "code",
   "execution_count": null,
   "metadata": {},
   "outputs": [],
   "source": [
    "with zipfile.ZipFile('BASE\\TabelaUnificada_202302_v2302012035.zip') as myzip: # Abrindo o arquivo zip\n",
    "   print(myzip.namelist(),sep=\",\") # Listando os arquivos do zip"
   ]
  },
  {
   "cell_type": "code",
   "execution_count": null,
   "metadata": {},
   "outputs": [],
   "source": [
    "with zipfile.ZipFile('BASE\\BASE_DE_DADOS_CNES_202301.ZIP') as myzip: # Abrindo o arquivo zip\n",
    "   with myzip.open('tb_procedimento.txt') as myfile:  \n",
    "      df_sigtap = pd.read_csv(myfile, sep='', encoding='latin-1', low_memory=False , nrows=0) # Lendo o arquivo csv   "
   ]
  },
  {
   "cell_type": "code",
   "execution_count": null,
   "metadata": {},
   "outputs": [],
   "source": []
  },
  {
   "cell_type": "code",
   "execution_count": null,
   "metadata": {},
   "outputs": [],
   "source": []
  },
  {
   "cell_type": "code",
   "execution_count": null,
   "metadata": {},
   "outputs": [],
   "source": []
  },
  {
   "cell_type": "code",
   "execution_count": null,
   "metadata": {},
   "outputs": [],
   "source": [
    "tempo_processo = time.time()\n",
    "tempo_total = (float(tempo_processo - tempo_inicial)/60)\n",
    "tempo_parcial = (float(tempo_processo - tempo_analise)/60)\n",
    "print(f\"Tempo total de parcial: {tempo_parcial:,.1f} minutos\" )\n",
    "print(f\"Tempo total de execução: {tempo_total:,.1f} minutos\" )"
   ]
  },
  {
   "cell_type": "code",
   "execution_count": null,
   "metadata": {},
   "outputs": [],
   "source": []
  },
  {
   "cell_type": "code",
   "execution_count": null,
   "metadata": {},
   "outputs": [],
   "source": []
  },
  {
   "cell_type": "code",
   "execution_count": null,
   "metadata": {},
   "outputs": [],
   "source": []
  },
  {
   "cell_type": "code",
   "execution_count": null,
   "metadata": {},
   "outputs": [],
   "source": [
    "tempo_final = time.time()\n",
    "tempo_total = (float(tempo_final - tempo_inicial)/60)\n",
    "print(f\"Tempo total de execução: {tempo_total:,.1f} minutos\" )"
   ]
  }
 ],
 "metadata": {
  "kernelspec": {
   "display_name": "Python 3",
   "language": "python",
   "name": "python3"
  },
  "language_info": {
   "codemirror_mode": {
    "name": "ipython",
    "version": 3
   },
   "file_extension": ".py",
   "mimetype": "text/x-python",
   "name": "python",
   "nbconvert_exporter": "python",
   "pygments_lexer": "ipython3",
   "version": "3.10.10"
  },
  "orig_nbformat": 4,
  "vscode": {
   "interpreter": {
    "hash": "f7f8c097c8b77234b1554043a16e456bc3013eb7e1454957444d1d61c725966c"
   }
  }
 },
 "nbformat": 4,
 "nbformat_minor": 2
}
